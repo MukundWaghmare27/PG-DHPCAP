{
  "nbformat": 4,
  "nbformat_minor": 0,
  "metadata": {
    "colab": {
      "provenance": [],
      "gpuType": "T4"
    },
    "kernelspec": {
      "name": "python3",
      "display_name": "Python 3"
    },
    "language_info": {
      "name": "python"
    },
    "accelerator": "GPU"
  },
  "cells": [
    {
      "cell_type": "code",
      "execution_count": null,
      "metadata": {
        "colab": {
          "base_uri": "https://localhost:8080/"
        },
        "id": "x3Y_0RJRCu1p",
        "outputId": "af4d2ae3-a3ed-47cf-f787-691cb7b6bc07"
      },
      "outputs": [
        {
          "output_type": "stream",
          "name": "stdout",
          "text": [
            "Overwriting 1.cu\n"
          ]
        }
      ],
      "source": [
        "%%writefile 1.cu\n",
        "\n",
        "#include <stdio.h>\n",
        "\n",
        "__constant__ float conversionRates[5];\n",
        "\n",
        "enum CurrencyCode {INR =0, EUR = 1, GBP = 2, JPY = 3, AUD = 4};\n",
        "\n",
        "__global__ void convertToUSD(float *output, const float *amount, const int *currencyIndices, int numTrans){\n",
        "  int i = threadIdx.x + blockIdx.x * blockDim.x;\n",
        "  if ( i < numTrans && currencyIndices[i] > INR && currencyIndices[i] <= AUD){\n",
        "    output[i] = amount[i] / conversionRates[currencyIndices[i]];\n",
        "  }\n",
        "}\n",
        "\n",
        "int main(){\n",
        "  float h_conversionRates[5] = {84.0f, 0.95f, 0.78f, 130.0f, 1.5f};\n",
        "\n",
        "  cudaMemcpyToSymbol(conversionRates, h_conversionRates, 5 * sizeof(float));\n",
        "\n",
        "  float h_amounts[5] = {50000.0f, 1000.0f, 2000.0f, 75000.0f, 3500.0f};\n",
        "\n",
        "  CurrencyCode h_currencyCodes[5] = {INR, EUR, GBP, JPY, AUD};\n",
        "\n",
        "  int h_currencyIndices[5];\n",
        "  for(int i=0; i<5; i++){\n",
        "    h_currencyIndices[i] = (int)h_currencyCodes[i];\n",
        "  }\n",
        "\n",
        "  float *d_amounts, *d_output;\n",
        "  int *d_currencyIndices;\n",
        "  float h_output[5];\n",
        "\n",
        "  cudaMalloc(&d_amounts, 5 * sizeof(float));\n",
        "  cudaMalloc(&d_output, 5 * sizeof(float));\n",
        "  cudaMalloc(&d_currencyIndices, 5 * sizeof(int));\n",
        "\n",
        "  cudaMemcpy(d_amounts, h_amounts, 5 * sizeof(float), cudaMemcpyHostToDevice);\n",
        "  cudaMemcpy(d_currencyIndices, h_currencyIndices, 5 * sizeof(int), cudaMemcpyHostToDevice);\n",
        "\n",
        "  int threadsPerBlock = 5;\n",
        "  int blocksPerGrid = (5 + threadsPerBlock - 1) / threadsPerBlock;\n",
        "\n",
        "  convertToUSD<<<blocksPerGrid, threadsPerBlock>>>(d_output, d_amounts, d_currencyIndices, 5);\n",
        "\n",
        "  cudaMemcpy(h_output, d_output, 5 * sizeof(float), cudaMemcpyDeviceToHost);\n",
        "\n",
        "  const char* currencyNames[] = {\"INR\", \"EUR\", \"GBP\", \"JPY\", \"AUD\"};\n",
        "\n",
        "  for(int i=0; i<5; i++){\n",
        "    printf(\"Transaction %d (%s %.2f): Equivalent USD amount = %.2f\\n\", i+1, currencyNames[h_currencyIndices[i]], h_amounts[i], h_output[i]);\n",
        "  }\n",
        "\n",
        "  cudaFree(d_amounts);\n",
        "  cudaFree(d_output);\n",
        "  cudaFree(d_currencyIndices);\n",
        "\n",
        "  return 0;\n",
        "\n",
        "}"
      ]
    },
    {
      "cell_type": "code",
      "source": [
        "!nvcc -o 1 1.cu"
      ],
      "metadata": {
        "id": "QHVIESudKGqJ"
      },
      "execution_count": null,
      "outputs": []
    },
    {
      "cell_type": "code",
      "source": [
        "!./1"
      ],
      "metadata": {
        "colab": {
          "base_uri": "https://localhost:8080/"
        },
        "id": "b65TDJBXKYXq",
        "outputId": "e08d2b8c-18d6-4630-807a-e204f80c7b61"
      },
      "execution_count": null,
      "outputs": [
        {
          "output_type": "stream",
          "name": "stdout",
          "text": [
            "Transaction 1 (INR 50000.00): Equivalent USD amount = 0.00\n",
            "Transaction 2 (EUR 1000.00): Equivalent USD amount = 1052.63\n",
            "Transaction 3 (GBP 2000.00): Equivalent USD amount = 2564.10\n",
            "Transaction 4 (JPY 75000.00): Equivalent USD amount = 576.92\n",
            "Transaction 5 (AUD 3500.00): Equivalent USD amount = 2333.33\n"
          ]
        }
      ]
    },
    {
      "cell_type": "code",
      "source": [],
      "metadata": {
        "id": "g7QiJyntMy1j"
      },
      "execution_count": null,
      "outputs": []
    },
    {
      "cell_type": "markdown",
      "source": [
        "## Shared Memory"
      ],
      "metadata": {
        "id": "ux9rPs_ildXA"
      }
    },
    {
      "cell_type": "code",
      "source": [
        "%%writefile 2.cu\n",
        "\n",
        "#include <stdio.h>\n",
        "#define N 15\n",
        "\n",
        "__global__ void sumWithSharedMem(int *d_input, int *d_output, int n){\n",
        "  __shared__ int sdata[N];\n",
        "\n",
        "  int idx = blockIdx.x * blockDim.x + threadIdx.x;\n",
        "\n",
        "  if(idx < n){\n",
        "    sdata[threadIdx.x] = d_input[idx];\n",
        "  }else{\n",
        "    sdata[threadIdx.x] = 0;\n",
        "  }\n",
        "\n",
        "  __syncthreads();\n",
        "\n",
        "  if (threadIdx.x == 0){\n",
        "    int blockSum =0;\n",
        "    for(int i=0; i<N; i++){\n",
        "      blockSum += sdata[i];\n",
        "    }\n",
        "    d_output[blockIdx.x] = blockSum;\n",
        "  }\n",
        "}\n",
        "\n",
        "int main(){\n",
        "  int h_input[N], h_output[N / 4], finalSum =0;\n",
        "  int *d_input, *d_output;\n",
        "\n",
        "  for(int i=0; i<N; i++){\n",
        "    h_input[i] = 1;\n",
        "  }\n",
        "\n",
        "  cudaMalloc((void **) &d_input, N * sizeof(int));\n",
        "  cudaMalloc((void **) &d_output, (N/4) * sizeof(int));\n",
        "\n",
        "  cudaMemcpy(d_input, h_input, N *sizeof(int), cudaMemcpyHostToDevice);\n",
        "\n",
        "  sumWithSharedMem<<<4, 4>>>(d_input, d_output, N);\n",
        "\n",
        "  cudaMemcpy(h_output, d_output, (N/4) * sizeof(int), cudaMemcpyDeviceToHost);\n",
        "\n",
        "  for(int i=0; i<4; i++){\n",
        "    finalSum += h_output[i];\n",
        "  }\n",
        "\n",
        "  printf(\"Final Sum: %d\\n\", finalSum);\n",
        "\n",
        "  cudaFree(d_input);\n",
        "  cudaFree(d_output);\n",
        "\n",
        "  return 0;\n",
        "}\n"
      ],
      "metadata": {
        "colab": {
          "base_uri": "https://localhost:8080/"
        },
        "id": "iJXvE96TOcmk",
        "outputId": "85c0e0ee-49cb-4e81-8dfa-0944b852fed0"
      },
      "execution_count": null,
      "outputs": [
        {
          "output_type": "stream",
          "name": "stdout",
          "text": [
            "Overwriting 2.cu\n"
          ]
        }
      ]
    },
    {
      "cell_type": "code",
      "source": [
        "!nvcc -o 2 2.cu"
      ],
      "metadata": {
        "id": "nwBZMH-WOiWz"
      },
      "execution_count": null,
      "outputs": []
    },
    {
      "cell_type": "code",
      "source": [
        "!./2"
      ],
      "metadata": {
        "colab": {
          "base_uri": "https://localhost:8080/"
        },
        "id": "61GukVdJop_R",
        "outputId": "85f0df3e-9965-41df-9ee9-edee0fd47c5a"
      },
      "execution_count": null,
      "outputs": [
        {
          "output_type": "stream",
          "name": "stdout",
          "text": [
            "Final Sum: 13\n"
          ]
        }
      ]
    },
    {
      "cell_type": "markdown",
      "source": [
        "## Assingment Q1\n"
      ],
      "metadata": {
        "id": "EyIzy1wrq5yS"
      }
    },
    {
      "cell_type": "code",
      "source": [
        "%%writefile 3.cu\n",
        "\n",
        "#include <stdio.h>\n",
        "#define N 160\n",
        "\n",
        "__global__ void MaxMin(int *d_input, int *d_outputMax, int *d_outputMin, int n) {\n",
        "  __shared__ int sharedDataMax[8];\n",
        "  __shared__ int sharedDataMin[8];\n",
        "\n",
        "  int id = blockIdx.x * blockDim.x + threadIdx.x;\n",
        "  int tid = threadIdx.x;\n",
        "\n",
        "  if (id < n) {\n",
        "    sharedDataMax[tid] = d_input[id];\n",
        "    sharedDataMin[tid] = d_input[id];\n",
        "  }\n",
        "\n",
        "  __syncthreads();\n",
        "\n",
        "  for (int i = blockDim.x / 2; i > 0; i >>= 1) {\n",
        "    if (tid < i) {\n",
        "      sharedDataMax[tid] = max(sharedDataMax[tid], sharedDataMax[tid + i]);\n",
        "      sharedDataMin[tid] = min(sharedDataMin[tid], sharedDataMin[tid + i]);\n",
        "    }\n",
        "    __syncthreads();\n",
        "  }\n",
        "\n",
        "  if (tid == 0) {\n",
        "    d_outputMax[blockIdx.x] = sharedDataMax[0];\n",
        "    d_outputMin[blockIdx.x] = sharedDataMin[0];\n",
        "  }\n",
        "}\n",
        "\n",
        "int main() {\n",
        "  int h_input[N], h_outputMax[N / 8], h_outputMin[N / 8];\n",
        "  int *d_input, *d_outputMax, *d_outputMin;\n",
        "  int finalMax =0, finalMin = 0;\n",
        "\n",
        "  for (int i = 0; i < N; i++) {\n",
        "    h_input[i] = i + 1;  // Example data: 1 to 160\n",
        "  }\n",
        "\n",
        "  cudaMalloc((void **)&d_input, N * sizeof(int));\n",
        "  cudaMalloc((void **)&d_outputMax, (N / 8) * sizeof(int));\n",
        "  cudaMalloc((void **)&d_outputMin, (N / 8) * sizeof(int));\n",
        "\n",
        "  cudaMemcpy(d_input, h_input, N * sizeof(int), cudaMemcpyHostToDevice);\n",
        "\n",
        "  MaxMin<<<20, 8>>>(d_input, d_outputMax, d_outputMin, N);\n",
        "\n",
        "  cudaMemcpy(h_outputMax, d_outputMax, 20 * sizeof(int), cudaMemcpyDeviceToHost);\n",
        "  cudaMemcpy(h_outputMin, d_outputMin, 20 * sizeof(int), cudaMemcpyDeviceToHost);\n",
        "\n",
        "  for (int i = 0; i < 20; i++) {\n",
        "    printf(\"Max of block [%d] is %d\\n\", i, h_outputMax[i]);\n",
        "    printf(\"Min of block [%d] is %d\\n\", i, h_outputMin[i]);\n",
        "  }\n",
        "  printf(\"\\n\");\n",
        "\n",
        "  for(int i=0 ; i<20; i++){\n",
        "\n",
        "    if(h_outputMax[i] > finalMax){\n",
        "      finalMax = h_outputMax[i];\n",
        "    }\n",
        "    if(h_outputMin[i] < finalMin){\n",
        "      finalMin = h_outputMin[i];\n",
        "    }\n",
        "  }\n",
        "  printf(\"Max of all blocks is %d\\n\", finalMax);\n",
        "  printf(\"Min of all blocks is %d\\n\", finalMin);\n",
        "\n",
        "  cudaFree(d_input);\n",
        "  cudaFree(d_outputMax);\n",
        "  cudaFree(d_outputMin);\n",
        "\n",
        "  return 0;\n",
        "}\n"
      ],
      "metadata": {
        "colab": {
          "base_uri": "https://localhost:8080/"
        },
        "id": "f5FgJZWLxGPE",
        "outputId": "99636ac0-c311-43f5-eb86-0d080ce75b80"
      },
      "execution_count": null,
      "outputs": [
        {
          "output_type": "stream",
          "name": "stdout",
          "text": [
            "Overwriting 4.cu\n"
          ]
        }
      ]
    },
    {
      "cell_type": "code",
      "source": [
        "!nvcc -o 3 3.cu"
      ],
      "metadata": {
        "id": "R2vew57y0IEd"
      },
      "execution_count": null,
      "outputs": []
    },
    {
      "cell_type": "code",
      "source": [
        "!./3"
      ],
      "metadata": {
        "colab": {
          "base_uri": "https://localhost:8080/"
        },
        "id": "Hslhem9q0Nrk",
        "outputId": "d1385d98-c558-49de-b8c8-98e644d96989"
      },
      "execution_count": null,
      "outputs": [
        {
          "output_type": "stream",
          "name": "stdout",
          "text": [
            "Max of block [0] is 8\n",
            "Min of block [0] is 1\n",
            "Max of block [1] is 16\n",
            "Min of block [1] is 9\n",
            "Max of block [2] is 24\n",
            "Min of block [2] is 17\n",
            "Max of block [3] is 32\n",
            "Min of block [3] is 25\n",
            "Max of block [4] is 40\n",
            "Min of block [4] is 33\n",
            "Max of block [5] is 48\n",
            "Min of block [5] is 41\n",
            "Max of block [6] is 56\n",
            "Min of block [6] is 49\n",
            "Max of block [7] is 64\n",
            "Min of block [7] is 57\n",
            "Max of block [8] is 72\n",
            "Min of block [8] is 65\n",
            "Max of block [9] is 80\n",
            "Min of block [9] is 73\n",
            "Max of block [10] is 88\n",
            "Min of block [10] is 81\n",
            "Max of block [11] is 96\n",
            "Min of block [11] is 89\n",
            "Max of block [12] is 104\n",
            "Min of block [12] is 97\n",
            "Max of block [13] is 112\n",
            "Min of block [13] is 105\n",
            "Max of block [14] is 120\n",
            "Min of block [14] is 113\n",
            "Max of block [15] is 128\n",
            "Min of block [15] is 121\n",
            "Max of block [16] is 136\n",
            "Min of block [16] is 129\n",
            "Max of block [17] is 144\n",
            "Min of block [17] is 137\n",
            "Max of block [18] is 152\n",
            "Min of block [18] is 145\n",
            "Max of block [19] is 160\n",
            "Min of block [19] is 153\n",
            "\n",
            "Max of all blocks is 160\n",
            "Min of all blocks is 0\n"
          ]
        }
      ]
    },
    {
      "cell_type": "code",
      "source": [],
      "metadata": {
        "id": "r9DamJ0t0P0j"
      },
      "execution_count": null,
      "outputs": []
    },
    {
      "cell_type": "markdown",
      "source": [
        "## Que2"
      ],
      "metadata": {
        "id": "XxTcxT2d6X5g"
      }
    },
    {
      "cell_type": "code",
      "source": [
        "%%writefile 4.cu   ///Re-Run This Program\n",
        "\n",
        "#include <stdio.h>\n",
        "#include <cuda_runtime.h>\n",
        "\n",
        "#define N 160  // Total numbers from 0 to 159\n",
        "#define BLOCK_SIZE 16  // Number of threads per block\n",
        "\n",
        "__global__ void countEvenOdd(int *d_data, int *d_even_count, int *d_odd_count) {\n",
        "    extern __shared__ int shared_counts[];  // Shared memory to store even and odd counts per block\n",
        "\n",
        "    int idx = blockIdx.x * blockDim.x + threadIdx.x;  // Global index\n",
        "    int tid = threadIdx.x;\n",
        "\n",
        "    // Initialize shared memory for even and odd counts for this block\n",
        "    if (tid == 0) {\n",
        "        shared_counts[0] = 0;  // even count\n",
        "        shared_counts[1] = 0;  // odd count\n",
        "    }\n",
        "\n",
        "    __syncthreads();  // Synchronize threads in the block\n",
        "\n",
        "    // Each thread checks if its corresponding number is even or odd\n",
        "    if (idx < N) {\n",
        "        if (d_data[idx] % 2 == 0) {\n",
        "            atomicAdd(&shared_counts[0], 1);  // Increment even count atomically\n",
        "        } else {\n",
        "            atomicAdd(&shared_counts[1], 1);  // Increment odd count atomically\n",
        "        }\n",
        "    }\n",
        "\n",
        "    __syncthreads();  // Synchronize threads to ensure the counts are updated\n",
        "\n",
        "    // First thread in each block writes the block's even and odd counts to global memory\n",
        "    if (tid == 0) {\n",
        "        atomicAdd(d_even_count, shared_counts[0]);\n",
        "        atomicAdd(d_odd_count, shared_counts[1]);\n",
        "    }\n",
        "}\n",
        "\n",
        "int main() {\n",
        "    int h_data[N], h_even_count = 0, h_odd_count = 0;\n",
        "    int *d_data, *d_even_count, *d_odd_count;\n",
        "\n",
        "    // Initialize the data array (0 to 159)\n",
        "    for (int i = 0; i < N; i++) {\n",
        "        h_data[i] = i;  // Numbers 0 to 159\n",
        "    }\n",
        "\n",
        "    // Allocate memory on the device\n",
        "    cudaMalloc((void **)&d_data, N * sizeof(int));\n",
        "    cudaMalloc((void **)&d_even_count, sizeof(int));\n",
        "    cudaMalloc((void **)&d_odd_count, sizeof(int));\n",
        "\n",
        "    // Initialize the count variables to 0\n",
        "    cudaMemcpy(d_even_count, &h_even_count, sizeof(int), cudaMemcpyHostToDevice);\n",
        "    cudaMemcpy(d_odd_count, &h_odd_count, sizeof(int), cudaMemcpyHostToDevice);\n",
        "\n",
        "    // Copy data from host to device\n",
        "    cudaMemcpy(d_data, h_data, N * sizeof(int), cudaMemcpyHostToDevice);\n",
        "\n",
        "    // Launch the kernel with N / BLOCK_SIZE blocks, and BLOCK_SIZE threads per block\n",
        "    int sharedMemSize = 2 * sizeof(int);  // Shared memory size for even and odd counts (2 integers)\n",
        "    countEvenOdd<<<N / BLOCK_SIZE, BLOCK_SIZE, sharedMemSize>>>(d_data, d_even_count, d_odd_count);\n",
        "\n",
        "    // Wait for the kernel to finish\n",
        "    cudaDeviceSynchronize();\n",
        "\n",
        "    // Copy the final counts back to the host\n",
        "    cudaMemcpy(&h_even_count, d_even_count, sizeof(int), cudaMemcpyDeviceToHost);\n",
        "    cudaMemcpy(&h_odd_count, d_odd_count, sizeof(int), cudaMemcpyDeviceToHost);\n",
        "\n",
        "    // Print the results\n",
        "    printf(\"Even Count: %d\\n\", h_even_count);\n",
        "    printf(\"Odd Count: %d\\n\", h_odd_count);\n",
        "\n",
        "    // Free device memory\n",
        "    cudaFree(d_data);\n",
        "    cudaFree(d_even_count);\n",
        "    cudaFree(d_odd_count);\n",
        "\n",
        "    return 0;\n",
        "}\n"
      ],
      "metadata": {
        "colab": {
          "base_uri": "https://localhost:8080/"
        },
        "id": "PIt7Mq8S6aMz",
        "outputId": "d3c178ac-45c1-4a67-b5d6-6908c481f137"
      },
      "execution_count": null,
      "outputs": [
        {
          "output_type": "stream",
          "name": "stdout",
          "text": [
            "Writing 5.cu\n"
          ]
        }
      ]
    },
    {
      "cell_type": "code",
      "source": [
        "!nvcc -o 4 4.cu"
      ],
      "metadata": {
        "colab": {
          "base_uri": "https://localhost:8080/"
        },
        "id": "aB0-gbuY6jaY",
        "outputId": "ab7328eb-1bc3-4d82-f4b3-4e03b98c6053"
      },
      "execution_count": null,
      "outputs": [
        {
          "output_type": "stream",
          "name": "stdout",
          "text": [
            "\u001b[01m\u001b[K5.cu:\u001b[m\u001b[K In function ‘\u001b[01m\u001b[Kint main()\u001b[m\u001b[K’:\n",
            "\u001b[01m\u001b[K5.cu:52:8:\u001b[m\u001b[K \u001b[01;35m\u001b[Kwarning: \u001b[m\u001b[Kformat ‘\u001b[01m\u001b[K%d\u001b[m\u001b[K’ expects argument of type ‘\u001b[01m\u001b[Kint\u001b[m\u001b[K’, but argument 3 has type ‘\u001b[01m\u001b[Kint*\u001b[m\u001b[K’ [\u001b[01;35m\u001b[K\u001b]8;;https://gcc.gnu.org/onlinedocs/gcc/Warning-Options.html#index-Wformat=\u0007-Wformat=\u001b]8;;\u0007\u001b[m\u001b[K]\n",
            "   52 |     pri\u001b[01;35m\u001b[Kntf(\"Odd Sum of block [%d] is %\u001b[m\u001b[Kd\\n\",\u001b[32m\u001b[K i, h_OddOu\u001b[m\u001b[Ktput);\n",
            "      |        \u001b[01;35m\u001b[K^~~~~~~~~~~~~~~~~~~~~~~~~~~~~~~\u001b[m\u001b[K     \u001b[32m\u001b[K~~~~~~~~~~~\u001b[m\u001b[K\n",
            "      |                                            \u001b[32m\u001b[K|\u001b[m\u001b[K\n",
            "      |                                            \u001b[32m\u001b[Kint*\u001b[m\u001b[K\n"
          ]
        }
      ]
    },
    {
      "cell_type": "code",
      "source": [
        "!./4"
      ],
      "metadata": {
        "colab": {
          "base_uri": "https://localhost:8080/"
        },
        "id": "pYz8j8Sp8ReI",
        "outputId": "dbfb8bcb-596c-4ee1-c9dc-7c3e207d200a"
      },
      "execution_count": null,
      "outputs": [
        {
          "output_type": "stream",
          "name": "stdout",
          "text": [
            "Even Sum of block [0] is 156\n",
            "Odd Sum of block [0] is 689677664\n",
            "Even Sum of block [1] is 156\n",
            "Odd Sum of block [1] is 689677664\n",
            "Even Sum of block [2] is 156\n",
            "Odd Sum of block [2] is 689677664\n",
            "Even Sum of block [3] is 156\n",
            "Odd Sum of block [3] is 689677664\n",
            "Even Sum of block [4] is 156\n",
            "Odd Sum of block [4] is 689677664\n",
            "Even Sum of block [5] is 156\n",
            "Odd Sum of block [5] is 689677664\n",
            "Even Sum of block [6] is 156\n",
            "Odd Sum of block [6] is 689677664\n",
            "Even Sum of block [7] is 156\n",
            "Odd Sum of block [7] is 689677664\n",
            "Even Sum of block [8] is 156\n",
            "Odd Sum of block [8] is 689677664\n",
            "Even Sum of block [9] is 156\n",
            "Odd Sum of block [9] is 689677664\n",
            "Even Sum of block [10] is 156\n",
            "Odd Sum of block [10] is 689677664\n",
            "Even Sum of block [11] is 156\n",
            "Odd Sum of block [11] is 689677664\n",
            "Even Sum of block [12] is 156\n",
            "Odd Sum of block [12] is 689677664\n",
            "Even Sum of block [13] is 156\n",
            "Odd Sum of block [13] is 689677664\n",
            "Even Sum of block [14] is 156\n",
            "Odd Sum of block [14] is 689677664\n",
            "Even Sum of block [15] is 156\n",
            "Odd Sum of block [15] is 689677664\n",
            "Even Sum of block [16] is 156\n",
            "Odd Sum of block [16] is 689677664\n",
            "Even Sum of block [17] is 156\n",
            "Odd Sum of block [17] is 689677664\n",
            "Even Sum of block [18] is 156\n",
            "Odd Sum of block [18] is 689677664\n",
            "Even Sum of block [19] is 156\n",
            "Odd Sum of block [19] is 689677664\n",
            "\n"
          ]
        }
      ]
    },
    {
      "cell_type": "code",
      "source": [],
      "metadata": {
        "id": "nIbyipaK9IxX"
      },
      "execution_count": null,
      "outputs": []
    }
  ]
}