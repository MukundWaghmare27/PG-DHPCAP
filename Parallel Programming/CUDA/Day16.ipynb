{
  "nbformat": 4,
  "nbformat_minor": 0,
  "metadata": {
    "colab": {
      "provenance": [],
      "gpuType": "T4"
    },
    "kernelspec": {
      "name": "python3",
      "display_name": "Python 3"
    },
    "language_info": {
      "name": "python"
    },
    "accelerator": "GPU"
  },
  "cells": [
    {
      "cell_type": "markdown",
      "source": [
        "## Matrix Addition operation on CPU & GPU\n",
        "\n",
        "    To check performance. Using Cpp, CUDA, OpenAcc"
      ],
      "metadata": {
        "id": "-iIKol1TwIt3"
      }
    },
    {
      "cell_type": "code",
      "execution_count": 7,
      "metadata": {
        "colab": {
          "base_uri": "https://localhost:8080/"
        },
        "id": "6KixlDd5VLUj",
        "outputId": "973725ff-6869-4d52-d90b-0b9f5eac71f8"
      },
      "outputs": [
        {
          "output_type": "stream",
          "name": "stdout",
          "text": [
            "Writing 1.cpp\n"
          ]
        }
      ],
      "source": [
        "%%writefile 1.cpp\n",
        "\n",
        "#include <stdio.h>\n",
        "#include <stdlib.h>\n",
        "#include <chrono>\n",
        "\n",
        "void matrix_addition(int *a, int *b, int *c, int n){\n",
        "  for(int i=0; i<n; i++){\n",
        "    for(int j=0; j<n; i++){\n",
        "      c[i*n+j] = a[i*n+j] + b[i*n+j];\n",
        "    }\n",
        "  }\n",
        "}\n",
        "\n",
        "int main(){\n",
        "  int sizes[] = {5,10,15};\n",
        "\n",
        "  for(int s=0; s<3; s++){\n",
        "    int n = sizes[s];\n",
        "    size_t size = n*n*sizeof(int);\n",
        "\n",
        "    int *a = (int*)malloc(size);\n",
        "    int *b = (int*)malloc(size);\n",
        "    int *c = (int*) malloc(size);\n",
        "\n",
        "    for(int i=0; i<n*n; i++){\n",
        "      a[i]=i+1;\n",
        "      b[i]=i+1;\n",
        "    }\n",
        "\n",
        "    auto start = std::chrono::high_resolution_clock::now();\n",
        "    matrix_addition(a,b,c,n);\n",
        "    auto end = std::chrono::high_resolution_clock::now();\n",
        "\n",
        "    double elapsed_time = std::chrono::duration<double, std::milli>(end - start).count();\n",
        "\n",
        "    printf(\"sequential - size: %d, time: %.3f ms\\n\", n, elapsed_time);\n",
        "\n",
        "    free(a);\n",
        "    free(b);\n",
        "    free(c);\n",
        "  }\n",
        "\n",
        "  return 0;\n",
        "}\n"
      ]
    },
    {
      "cell_type": "code",
      "source": [
        "!g++ -o 1 1.cpp\n"
      ],
      "metadata": {
        "id": "UyDxTh3nXQ3A"
      },
      "execution_count": 8,
      "outputs": []
    },
    {
      "cell_type": "code",
      "source": [
        "!./1"
      ],
      "metadata": {
        "id": "_nnqxdXBXWh5"
      },
      "execution_count": 9,
      "outputs": []
    },
    {
      "cell_type": "code",
      "source": [
        "%%writefile 1.cu\n",
        "\n",
        "__global__ void matrix_addition(int *a, int *b, int *c, int n){\n",
        "  int tid = blockIdx.x * blockGrid.x + threadIdx.x;\n",
        "\n",
        "  if(tid < n){\n",
        "    for(int i=0; i<n; i++){\n",
        "      for(int j=0; j<n; i++){\n",
        "      c[i*n+j] = a[i*n+j] + b[i*n+j];\n",
        "      }\n",
        "    }\n",
        "  }\n",
        "}\n",
        "\n",
        "int main(){\n",
        "  int sizes[] = {5,10,15};\n",
        "  int n;\n",
        "\n",
        "  for(int s=0; s<3; s++){\n",
        "    n = sizes[s];\n",
        "    size_t size = n*n*sizeof(int);\n",
        "\n",
        "    int *h_a = (int*)malloc(size);\n",
        "    int *h_b = (int*)malloc(size);\n",
        "    int *h_c = (int*) malloc(size);\n",
        "\n",
        "    for(int i=0; i<n*n; i++){\n",
        "      h_a[i]=i+1;\n",
        "      h_b[i]=i+1;\n",
        "    }\n",
        "\n",
        "    int *d_a, *d_b, *d_c, d_n;\n",
        "\n",
        "    cudaMalloc(d_a, n * sizeof(int));\n",
        "    cudaMalloc(d_b, n * sizeof(int));\n",
        "    cudaMalloc(d_c, n * sizeof(int));\n",
        "    cudaMalloc(d_n, sizeof(int));\n",
        "\n",
        "    cudaMemcpy(d_a, h_a, n*sizeof(int), cudaMemcpyHostToDevice);\n",
        "    cudaMemcpy(d_b, h_a, n*sizeof(int), cudaMemcpyHostToDevice);\n",
        "    cudaMemcpy(d_n, n, sizeof(int), cudaMemcpyHostToDevice);\n",
        "\n",
        "    int threadsPerBlock = 1024;\n",
        "    int blocksPerGrid = (n + threadsPerBlock - 1) / threadsPerBlock;\n",
        "\n",
        "    matrix_addition<<<blocksPerGrid, threadsPerBlock>>>(d_a, d_b, d_c, d_n);\n",
        "\n",
        "    cudaMemcpy(h_c, d_c, n*sizeof(int), cudaMemcpyDeviceToHost);\n",
        "\n",
        "    for(int i=0; i<n; i++){\n",
        "      printf(\"%d \", h_c[i]);\n",
        "    }\n",
        "\n",
        "    cudaFree(d_a);\n",
        "    cudaFree(d_b);\n",
        "    cudaFree(d_c);\n",
        "    cudaFree(d_n);\n",
        "    free(h_a);\n",
        "    free(h_b);\n",
        "    free(h_c);\n",
        "\n",
        "    return 0;\n",
        "}\n",
        "}"
      ],
      "metadata": {
        "colab": {
          "base_uri": "https://localhost:8080/"
        },
        "id": "_C1vWWayX1kL",
        "outputId": "9c927e61-1d5c-45b1-b9c9-b5239fc8953c"
      },
      "execution_count": 3,
      "outputs": [
        {
          "output_type": "stream",
          "name": "stdout",
          "text": [
            "Overwriting 1.cu\n"
          ]
        }
      ]
    },
    {
      "cell_type": "code",
      "source": [
        "!nvcc -o 1cu 1.cu"
      ],
      "metadata": {
        "colab": {
          "base_uri": "https://localhost:8080/"
        },
        "id": "9GibXFD6dAHt",
        "outputId": "dd826813-b184-4695-f703-52211f4f59c9"
      },
      "execution_count": 4,
      "outputs": [
        {
          "output_type": "stream",
          "name": "stdout",
          "text": [
            "\u001b[01m\u001b[0m\u001b[01m1.cu(3)\u001b[0m: \u001b[01;31merror\u001b[0m: identifier \"\u001b[01mblockGrid\u001b[0m\" is undefined\n",
            "    int tid = blockIdx.x * blockGrid.x + threadIdx.x;\n",
            "                           ^\n",
            "\n",
            "\u001b[01m\u001b[0m\u001b[01m1.cu(33)\u001b[0m: \u001b[01;31merror\u001b[0m: no instance of overloaded function \u001b[01m\"cudaMalloc\"\u001b[0m matches the argument list\n",
            "            argument types are: (int *, unsigned long)\n",
            "      cudaMalloc(d_a, n * sizeof(int));\n",
            "      ^\n",
            "\n",
            "\u001b[01m\u001b[0m\u001b[01m1.cu(34)\u001b[0m: \u001b[01;31merror\u001b[0m: no instance of overloaded function \u001b[01m\"cudaMalloc\"\u001b[0m matches the argument list\n",
            "            argument types are: (int *, unsigned long)\n",
            "      cudaMalloc(d_b, n * sizeof(int));\n",
            "      ^\n",
            "\n",
            "\u001b[01m\u001b[0m\u001b[01m1.cu(35)\u001b[0m: \u001b[01;31merror\u001b[0m: no instance of overloaded function \u001b[01m\"cudaMalloc\"\u001b[0m matches the argument list\n",
            "            argument types are: (int *, unsigned long)\n",
            "      cudaMalloc(d_c, n * sizeof(int));\n",
            "      ^\n",
            "\n",
            "\u001b[01m\u001b[0m\u001b[01m1.cu(36)\u001b[0m: \u001b[01;31merror\u001b[0m: no instance of overloaded function \u001b[01m\"cudaMalloc\"\u001b[0m matches the argument list\n",
            "            argument types are: (int, unsigned long)\n",
            "      cudaMalloc(d_n, sizeof(int));\n",
            "      ^\n",
            "\n",
            "\u001b[01m\u001b[0m\u001b[01m1.cu(40)\u001b[0m: \u001b[01;31merror\u001b[0m: argument of type \"int\" is incompatible with parameter of type \"void *\"\n",
            "      cudaMemcpy(d_n, n, sizeof(int), cudaMemcpyHostToDevice);\n",
            "                 ^\n",
            "\n",
            "\u001b[01m\u001b[0m\u001b[01m1.cu(40)\u001b[0m: \u001b[01;31merror\u001b[0m: argument of type \"int\" is incompatible with parameter of type \"const void *\"\n",
            "      cudaMemcpy(d_n, n, sizeof(int), cudaMemcpyHostToDevice);\n",
            "                      ^\n",
            "\n",
            "\u001b[01m\u001b[0m\u001b[01m1.cu(50)\u001b[0m: \u001b[01;31merror\u001b[0m: identifier \"\u001b[01mprintf\u001b[0m\" is undefined\n",
            "        printf(\"%d \", h_c[i]);\n",
            "        ^\n",
            "\n",
            "\u001b[01m\u001b[0m\u001b[01m1.cu(56)\u001b[0m: \u001b[01;31merror\u001b[0m: argument of type \"int\" is incompatible with parameter of type \"void *\"\n",
            "      cudaFree(d_n);\n",
            "               ^\n",
            "\n",
            "9 errors detected in the compilation of \"1.cu\".\n"
          ]
        }
      ]
    },
    {
      "cell_type": "code",
      "source": [
        "%%writefile 2.cu\n",
        "\n",
        "#include <stdio.h>\n",
        "#include <cuda.h>\n",
        "\n",
        "__global__ void matrix_addition(int *a, int *b, int *c, int n) {\n",
        "    int tid = blockIdx.x * blockDim.x + threadIdx.x;\n",
        "\n",
        "    if (tid < n * n) {\n",
        "        int i = tid / n;  // Row index\n",
        "        int j = tid % n;  // Column index\n",
        "        c[i * n + j] = a[i * n + j] + b[i * n + j];\n",
        "    }\n",
        "}\n",
        "\n",
        "int main() {\n",
        "    int sizes[] = {5, 10, 15};\n",
        "    int n;\n",
        "\n",
        "    for (int s = 0; s < 3; s++) {\n",
        "        n = sizes[s];\n",
        "        size_t size = n * n * sizeof(int);\n",
        "\n",
        "        int *h_a = (int *)malloc(size);\n",
        "        int *h_b = (int *)malloc(size);\n",
        "        int *h_c = (int *)malloc(size);\n",
        "\n",
        "        for (int i = 0; i < n * n; i++) {\n",
        "            h_a[i] = i + 1;\n",
        "            h_b[i] = i + 1;\n",
        "        }\n",
        "\n",
        "        int *d_a, *d_b, *d_c;\n",
        "\n",
        "        cudaMalloc((void **)&d_a, size);\n",
        "        cudaMalloc((void **)&d_b, size);\n",
        "        cudaMalloc((void **)&d_c, size);\n",
        "\n",
        "        cudaMemcpy(d_a, h_a, size, cudaMemcpyHostToDevice);\n",
        "        cudaMemcpy(d_b, h_b, size, cudaMemcpyHostToDevice);\n",
        "\n",
        "        int threadsPerBlock = 1024;\n",
        "        int blocksPerGrid = (n * n + threadsPerBlock - 1) / threadsPerBlock;\n",
        "\n",
        "        matrix_addition<<<blocksPerGrid, threadsPerBlock>>>(d_a, d_b, d_c, n);\n",
        "\n",
        "        cudaMemcpy(h_c, d_c, size, cudaMemcpyDeviceToHost);\n",
        "\n",
        "        printf(\"Matrix addition result for size %d:\\n\", n);\n",
        "        for (int i = 0; i < n; i++) {\n",
        "            for (int j = 0; j < n; j++) {\n",
        "                printf(\"%d \", h_c[i * n + j]);\n",
        "            }\n",
        "            printf(\"\\n\");\n",
        "        }\n",
        "        printf(\"\\n\");\n",
        "\n",
        "        cudaFree(d_a);\n",
        "        cudaFree(d_b);\n",
        "        cudaFree(d_c);\n",
        "\n",
        "        free(h_a);\n",
        "        free(h_b);\n",
        "        free(h_c);\n",
        "    }\n",
        "\n",
        "    return 0;\n",
        "}"
      ],
      "metadata": {
        "colab": {
          "base_uri": "https://localhost:8080/"
        },
        "id": "Ns2ecC2ndEU7",
        "outputId": "f5d5e9a7-a8ef-4612-992d-8805eba8c709"
      },
      "execution_count": 5,
      "outputs": [
        {
          "output_type": "stream",
          "name": "stdout",
          "text": [
            "Writing 2.cu\n"
          ]
        }
      ]
    },
    {
      "cell_type": "code",
      "source": [
        "!nvcc -o 2 2.cu"
      ],
      "metadata": {
        "id": "Oag0ss2rejML"
      },
      "execution_count": 6,
      "outputs": []
    },
    {
      "cell_type": "code",
      "source": [
        "!./2"
      ],
      "metadata": {
        "colab": {
          "base_uri": "https://localhost:8080/"
        },
        "id": "sAtYC8fWemz6",
        "outputId": "134279b0-9cf2-46c6-cd04-c35ab0dce810"
      },
      "execution_count": 7,
      "outputs": [
        {
          "output_type": "stream",
          "name": "stdout",
          "text": [
            "Matrix addition result for size 5:\n",
            "2 4 6 8 10 \n",
            "12 14 16 18 20 \n",
            "22 24 26 28 30 \n",
            "32 34 36 38 40 \n",
            "42 44 46 48 50 \n",
            "\n",
            "Matrix addition result for size 10:\n",
            "2 4 6 8 10 12 14 16 18 20 \n",
            "22 24 26 28 30 32 34 36 38 40 \n",
            "42 44 46 48 50 52 54 56 58 60 \n",
            "62 64 66 68 70 72 74 76 78 80 \n",
            "82 84 86 88 90 92 94 96 98 100 \n",
            "102 104 106 108 110 112 114 116 118 120 \n",
            "122 124 126 128 130 132 134 136 138 140 \n",
            "142 144 146 148 150 152 154 156 158 160 \n",
            "162 164 166 168 170 172 174 176 178 180 \n",
            "182 184 186 188 190 192 194 196 198 200 \n",
            "\n",
            "Matrix addition result for size 15:\n",
            "2 4 6 8 10 12 14 16 18 20 22 24 26 28 30 \n",
            "32 34 36 38 40 42 44 46 48 50 52 54 56 58 60 \n",
            "62 64 66 68 70 72 74 76 78 80 82 84 86 88 90 \n",
            "92 94 96 98 100 102 104 106 108 110 112 114 116 118 120 \n",
            "122 124 126 128 130 132 134 136 138 140 142 144 146 148 150 \n",
            "152 154 156 158 160 162 164 166 168 170 172 174 176 178 180 \n",
            "182 184 186 188 190 192 194 196 198 200 202 204 206 208 210 \n",
            "212 214 216 218 220 222 224 226 228 230 232 234 236 238 240 \n",
            "242 244 246 248 250 252 254 256 258 260 262 264 266 268 270 \n",
            "272 274 276 278 280 282 284 286 288 290 292 294 296 298 300 \n",
            "302 304 306 308 310 312 314 316 318 320 322 324 326 328 330 \n",
            "332 334 336 338 340 342 344 346 348 350 352 354 356 358 360 \n",
            "362 364 366 368 370 372 374 376 378 380 382 384 386 388 390 \n",
            "392 394 396 398 400 402 404 406 408 410 412 414 416 418 420 \n",
            "422 424 426 428 430 432 434 436 438 440 442 444 446 448 450 \n",
            "\n"
          ]
        }
      ]
    },
    {
      "cell_type": "code",
      "source": [
        "%%writefile 3.cpp\n",
        "\n",
        "#include <stdio.h>\n",
        "#include <stdlib.h>\n",
        "#include <chrono>\n",
        "\n",
        "void matrix_addition(int *a, int *b, int *c, int n) {\n",
        "    for (int i = 0; i < n; i++) {\n",
        "        for (int j = 0; j < n; j++) {\n",
        "            c[i * n + j] = a[i * n + j] + b[i * n + j];\n",
        "        }\n",
        "    }\n",
        "}\n",
        "\n",
        "int main() {\n",
        "    int sizes[] = {5, 10, 15};\n",
        "\n",
        "    for (int s = 0; s < 3; s++) {\n",
        "        int n = sizes[s];\n",
        "        size_t size = n * n * sizeof(int);\n",
        "\n",
        "        // Allocate memory\n",
        "        int *a = (int *)malloc(size);\n",
        "        int *b = (int *)malloc(size);\n",
        "        int *c = (int *)malloc(size);\n",
        "\n",
        "        // Initialize input matrices\n",
        "        for (int i = 0; i < n * n; i++) {\n",
        "            a[i] = i + 1;\n",
        "            b[i] = i + 1;\n",
        "        }\n",
        "\n",
        "        // Measure execution time\n",
        "        auto start = std::chrono::high_resolution_clock::now();\n",
        "        matrix_addition(a, b, c, n);\n",
        "        auto end = std::chrono::high_resolution_clock::now();\n",
        "\n",
        "        // Calculate elapsed time\n",
        "        double elapsed_time = std::chrono::duration<double, std::milli>(end - start).count();\n",
        "        printf(\"Sequential - Size: %d, Time: %.3f ms\\n\", n, elapsed_time);\n",
        "\n",
        "        // Free memory\n",
        "        free(a);\n",
        "        free(b);\n",
        "        free(c);\n",
        "    }\n",
        "\n",
        "    return 0;\n",
        "}\n"
      ],
      "metadata": {
        "colab": {
          "base_uri": "https://localhost:8080/"
        },
        "id": "Ci8YGZ-feoyq",
        "outputId": "8d469a01-9f95-45fb-9220-8bec369d1181"
      },
      "execution_count": 1,
      "outputs": [
        {
          "output_type": "stream",
          "name": "stdout",
          "text": [
            "Writing 3.cpp\n"
          ]
        }
      ]
    },
    {
      "cell_type": "code",
      "source": [
        "!gpp -o 3 3.cpp"
      ],
      "metadata": {
        "colab": {
          "base_uri": "https://localhost:8080/"
        },
        "id": "ghMW2b0IgK4a",
        "outputId": "1a4f6e35-624f-45b9-84e9-3c0c359b7de4"
      },
      "execution_count": 6,
      "outputs": [
        {
          "output_type": "stream",
          "name": "stdout",
          "text": [
            "stdio.h:28: error: Requested include file not found\n"
          ]
        }
      ]
    },
    {
      "cell_type": "code",
      "source": [
        "!gpp --version"
      ],
      "metadata": {
        "colab": {
          "base_uri": "https://localhost:8080/"
        },
        "id": "X2S8mxhvgR3q",
        "outputId": "e7965597-3ac4-48d8-f600-4f2eb6f56950"
      },
      "execution_count": 7,
      "outputs": [
        {
          "output_type": "stream",
          "name": "stdout",
          "text": [
            "GPP 2.27\n",
            "Copyright (C) 1996-2001 Denis Auroux\n",
            "Copyright (C) 2003-2020 Tristan Miller\n",
            "This is free software; see the source for copying conditions.  There is NO\n",
            "warranty; not even for MERCHANTABILITY or FITNESS FOR A PARTICULAR PURPOSE.\n"
          ]
        }
      ]
    },
    {
      "cell_type": "code",
      "source": [
        "!sudo apt install gpp"
      ],
      "metadata": {
        "colab": {
          "base_uri": "https://localhost:8080/"
        },
        "id": "2VHjKD1lgcaa",
        "outputId": "ea3eccee-3d52-4122-f9e8-cb090ef1f310"
      },
      "execution_count": 4,
      "outputs": [
        {
          "output_type": "stream",
          "name": "stdout",
          "text": [
            "Reading package lists... Done\n",
            "Building dependency tree... Done\n",
            "Reading state information... Done\n",
            "The following NEW packages will be installed:\n",
            "  gpp\n",
            "0 upgraded, 1 newly installed, 0 to remove and 49 not upgraded.\n",
            "Need to get 83.8 kB of archives.\n",
            "After this operation, 195 kB of additional disk space will be used.\n",
            "Get:1 http://archive.ubuntu.com/ubuntu jammy/universe amd64 gpp amd64 2.27-1 [83.8 kB]\n",
            "Fetched 83.8 kB in 0s (928 kB/s)\n",
            "debconf: unable to initialize frontend: Dialog\n",
            "debconf: (No usable dialog-like program is installed, so the dialog based frontend cannot be used. at /usr/share/perl5/Debconf/FrontEnd/Dialog.pm line 78, <> line 1.)\n",
            "debconf: falling back to frontend: Readline\n",
            "debconf: unable to initialize frontend: Readline\n",
            "debconf: (This frontend requires a controlling tty.)\n",
            "debconf: falling back to frontend: Teletype\n",
            "dpkg-preconfigure: unable to re-open stdin: \n",
            "Selecting previously unselected package gpp.\n",
            "(Reading database ... 123630 files and directories currently installed.)\n",
            "Preparing to unpack .../archives/gpp_2.27-1_amd64.deb ...\n",
            "Unpacking gpp (2.27-1) ...\n",
            "Setting up gpp (2.27-1) ...\n",
            "Processing triggers for man-db (2.10.2-1) ...\n"
          ]
        }
      ]
    },
    {
      "cell_type": "code",
      "source": [
        "!gpp --version"
      ],
      "metadata": {
        "colab": {
          "base_uri": "https://localhost:8080/"
        },
        "id": "9lq_fN2VhJ9T",
        "outputId": "104adcce-b19a-4256-c4c0-fe02cc481cba"
      },
      "execution_count": 5,
      "outputs": [
        {
          "output_type": "stream",
          "name": "stdout",
          "text": [
            "GPP 2.27\n",
            "Copyright (C) 1996-2001 Denis Auroux\n",
            "Copyright (C) 2003-2020 Tristan Miller\n",
            "This is free software; see the source for copying conditions.  There is NO\n",
            "warranty; not even for MERCHANTABILITY or FITNESS FOR A PARTICULAR PURPOSE.\n"
          ]
        }
      ]
    },
    {
      "cell_type": "code",
      "source": [
        "%%writefile 3.cu\n",
        "\n",
        "#include <stdio.h>\n",
        "#include <cuda.h>\n",
        "\n",
        "__global__ void matrix_addition(int *a, int *b, int *c, int n) {\n",
        "    int tid = blockIdx.x * blockDim.x + threadIdx.x;\n",
        "\n",
        "    if (tid < n * n) {\n",
        "        int i = tid / n;  // Row index\n",
        "        int j = tid % n;  // Column index\n",
        "        c[i * n + j] = a[i * n + j] + b[i * n + j];\n",
        "    }\n",
        "}\n",
        "\n",
        "int main() {\n",
        "    int sizes[] = {5, 10, 15};\n",
        "    int n;\n",
        "\n",
        "    for (int s = 0; s < 3; s++) {\n",
        "        n = sizes[s];\n",
        "        size_t size = n * n * sizeof(int);\n",
        "\n",
        "        int *h_a = (int *)malloc(size);\n",
        "        int *h_b = (int *)malloc(size);\n",
        "        int *h_c = (int *)malloc(size);\n",
        "\n",
        "        for (int i = 0; i < n * n; i++) {\n",
        "            h_a[i] = i + 1;\n",
        "            h_b[i] = i + 1;\n",
        "        }\n",
        "\n",
        "        int *d_a, *d_b, *d_c;\n",
        "\n",
        "        cudaMalloc((void **)&d_a, size);\n",
        "        cudaMalloc((void **)&d_b, size);\n",
        "        cudaMalloc((void **)&d_c, size);\n",
        "\n",
        "        cudaMemcpy(d_a, h_a, size, cudaMemcpyHostToDevice);\n",
        "        cudaMemcpy(d_b, h_b, size, cudaMemcpyHostToDevice);\n",
        "\n",
        "        int threadsPerBlock = 1024;\n",
        "        int blocksPerGrid = (n * n + threadsPerBlock - 1) / threadsPerBlock;\n",
        "\n",
        "        cudaEvent_t start, stop;\n",
        "        cudaEventCreate(&start);\n",
        "        cudaEventCreate(&stop);\n",
        "\n",
        "        // Start timing\n",
        "        cudaEventRecord(start, 0);\n",
        "\n",
        "        matrix_addition<<<blocksPerGrid, threadsPerBlock>>>(d_a, d_b, d_c, n);\n",
        "\n",
        "        // Stop timing\n",
        "        cudaEventRecord(stop, 0);\n",
        "        cudaEventSynchronize(stop);\n",
        "\n",
        "        // Calculate elapsed time\n",
        "        float milliseconds = 0;\n",
        "        cudaEventElapsedTime(&milliseconds, start, stop);\n",
        "\n",
        "        // Copy result back to host\n",
        "        cudaMemcpy(h_c, d_c, size, cudaMemcpyDeviceToHost);\n",
        "\n",
        "        printf(\"Matrix addition result for size %d:\\n\", n);\n",
        "        for (int i = 0; i < n; i++) {\n",
        "            for (int j = 0; j < n; j++) {\n",
        "                printf(\"%d \", h_c[i * n + j]);\n",
        "            }\n",
        "            printf(\"\\n\");\n",
        "        }\n",
        "        printf(\"\\n\");\n",
        "        printf(\"Kernel execution time for size %d: %.3f ms\\n\\n\", n, milliseconds);\n",
        "\n",
        "        // Clean up CUDA events\n",
        "        cudaEventDestroy(start);\n",
        "        cudaEventDestroy(stop);\n",
        "\n",
        "        // Free device memory\n",
        "        cudaFree(d_a);\n",
        "        cudaFree(d_b);\n",
        "        cudaFree(d_c);\n",
        "\n",
        "        // Free host memory\n",
        "        free(h_a);\n",
        "        free(h_b);\n",
        "        free(h_c);\n",
        "    }\n",
        "\n",
        "    return 0;\n",
        "}\n"
      ],
      "metadata": {
        "colab": {
          "base_uri": "https://localhost:8080/"
        },
        "id": "oYnnaH6shPXi",
        "outputId": "adf0fda3-1371-4f06-d379-c2373d02fa8e"
      },
      "execution_count": 4,
      "outputs": [
        {
          "output_type": "stream",
          "name": "stdout",
          "text": [
            "Overwriting 3.cu\n"
          ]
        }
      ]
    },
    {
      "cell_type": "code",
      "source": [
        "!nvcc -o 3cu 3.cu"
      ],
      "metadata": {
        "id": "eK0Ykq2aiIO9"
      },
      "execution_count": 5,
      "outputs": []
    },
    {
      "cell_type": "code",
      "source": [
        "!./3cu"
      ],
      "metadata": {
        "colab": {
          "base_uri": "https://localhost:8080/"
        },
        "id": "TBhgTQSsiOLa",
        "outputId": "47d487f4-cbf6-4cf5-cbec-3562d2f3c5b3"
      },
      "execution_count": 6,
      "outputs": [
        {
          "output_type": "stream",
          "name": "stdout",
          "text": [
            "Matrix addition result for size 5:\n",
            "2 4 6 8 10 \n",
            "12 14 16 18 20 \n",
            "22 24 26 28 30 \n",
            "32 34 36 38 40 \n",
            "42 44 46 48 50 \n",
            "\n",
            "Kernel execution time for size 5: 0.190 ms\n",
            "\n",
            "Matrix addition result for size 10:\n",
            "2 4 6 8 10 12 14 16 18 20 \n",
            "22 24 26 28 30 32 34 36 38 40 \n",
            "42 44 46 48 50 52 54 56 58 60 \n",
            "62 64 66 68 70 72 74 76 78 80 \n",
            "82 84 86 88 90 92 94 96 98 100 \n",
            "102 104 106 108 110 112 114 116 118 120 \n",
            "122 124 126 128 130 132 134 136 138 140 \n",
            "142 144 146 148 150 152 154 156 158 160 \n",
            "162 164 166 168 170 172 174 176 178 180 \n",
            "182 184 186 188 190 192 194 196 198 200 \n",
            "\n",
            "Kernel execution time for size 10: 0.011 ms\n",
            "\n",
            "Matrix addition result for size 15:\n",
            "2 4 6 8 10 12 14 16 18 20 22 24 26 28 30 \n",
            "32 34 36 38 40 42 44 46 48 50 52 54 56 58 60 \n",
            "62 64 66 68 70 72 74 76 78 80 82 84 86 88 90 \n",
            "92 94 96 98 100 102 104 106 108 110 112 114 116 118 120 \n",
            "122 124 126 128 130 132 134 136 138 140 142 144 146 148 150 \n",
            "152 154 156 158 160 162 164 166 168 170 172 174 176 178 180 \n",
            "182 184 186 188 190 192 194 196 198 200 202 204 206 208 210 \n",
            "212 214 216 218 220 222 224 226 228 230 232 234 236 238 240 \n",
            "242 244 246 248 250 252 254 256 258 260 262 264 266 268 270 \n",
            "272 274 276 278 280 282 284 286 288 290 292 294 296 298 300 \n",
            "302 304 306 308 310 312 314 316 318 320 322 324 326 328 330 \n",
            "332 334 336 338 340 342 344 346 348 350 352 354 356 358 360 \n",
            "362 364 366 368 370 372 374 376 378 380 382 384 386 388 390 \n",
            "392 394 396 398 400 402 404 406 408 410 412 414 416 418 420 \n",
            "422 424 426 428 430 432 434 436 438 440 442 444 446 448 450 \n",
            "\n",
            "Kernel execution time for size 15: 0.010 ms\n",
            "\n"
          ]
        }
      ]
    },
    {
      "cell_type": "markdown",
      "source": [
        "## Matrix Transpose Operation on CPU & GPU"
      ],
      "metadata": {
        "id": "YoiyaDuUwV8x"
      }
    },
    {
      "cell_type": "code",
      "source": [
        "%%writefile 4.cpp\n",
        "\n",
        "#include <stdio.h>\n",
        "#include <stdlib.h>\n",
        "#include <chrono>\n",
        "\n",
        "void matrix_transpose(){\n",
        "\n",
        "\n",
        "}\n",
        "\n",
        "int main(){\n",
        "  int sizes[] = {5, 10, 15};\n",
        "\n",
        "  for(int s=0; s<3; ++s){\n",
        "    int n=sizes[s];\n",
        "    size_t size = n*n*size(int);\n",
        "\n",
        "  int *matrix = (int*)malloc(size);\n",
        "  int *transpose = (int*)malloc(size);\n",
        "\n",
        "  for(int i=0; i<n*n; i++){\n",
        "    matrix[i]=i+1;\n",
        "  }\n",
        "\n",
        "  matrix_transpose(matrix, transpose, n);\n",
        "\n",
        "  printf(\"Transpose - size: %d, time: %.3f ms \\n\", n, elapsed_time);\n",
        "\n",
        "  free(matrix);\n",
        "  free(transpose);\n",
        "\n",
        "  }\n",
        "\n",
        "  return 0;\n",
        "\n",
        "\n",
        "}"
      ],
      "metadata": {
        "id": "D5KXxD_yiRdK"
      },
      "execution_count": null,
      "outputs": []
    }
  ]
}