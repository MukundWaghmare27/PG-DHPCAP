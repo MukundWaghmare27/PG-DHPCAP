{
  "nbformat": 4,
  "nbformat_minor": 0,
  "metadata": {
    "colab": {
      "provenance": [],
      "gpuType": "T4"
    },
    "kernelspec": {
      "name": "python3",
      "display_name": "Python 3"
    },
    "language_info": {
      "name": "python"
    },
    "accelerator": "GPU"
  },
  "cells": [
    {
      "cell_type": "code",
      "execution_count": null,
      "metadata": {
        "colab": {
          "base_uri": "https://localhost:8080/"
        },
        "id": "RU1zz6V7XadO",
        "outputId": "916906b3-6034-431c-efcf-fc50fe025f35"
      },
      "outputs": [
        {
          "output_type": "stream",
          "name": "stdout",
          "text": [
            "Overwriting 1.cu\n"
          ]
        }
      ],
      "source": [
        "%%writefile 1.cu\n",
        "\n",
        "#include <stdio.h>\n",
        "#include <cuda_runtime.h>\n",
        "\n",
        "__global__ void add (int a, int b, int *result){\n",
        "    int idx = blockIdx.x * blockDim.x + threadIdx.x;\n",
        "    printf(\"Thread index: %d\\n\",idx);\n",
        "    result[idx] = a + b;\n",
        "}\n",
        "\n",
        "int main(){\n",
        "    const int N = 10;\n",
        "    int a = 5, b = 10;\n",
        "    int h_result[N];\n",
        "    int *d_result;\n",
        "\n",
        "    cudaMalloc(&d_result, N * sizeof(int));\n",
        "\n",
        "    printf(\"Running with add<<<1, 10>>>...\\n\");\n",
        "    add<<<1, 10>>>(a,b,d_result);\n",
        "    cudaDeviceSynchronize();\n",
        "\n",
        "    cudaMemcpy(h_result, d_result, N * sizeof(int), cudaMemcpyDeviceToHost);\n",
        "\n",
        "    for(int i=0; i<N; ++i){\n",
        "        printf(\"Thread %d result: %d\\n\", i, h_result[i]);\n",
        "    }\n",
        "\n",
        "    printf(\"\\n Running with add<<<10, 1>>>...\\n\");\n",
        "    add<<<10, 1>>>(a,b,d_result);\n",
        "\n",
        "    cudaDeviceSynchronize();\n",
        "\n",
        "    cudaMemcpy(h_result, d_result, N * sizeof(int), cudaMemcpyDeviceToHost);\n",
        "\n",
        "    for(int i=0; i<N; ++i){\n",
        "      printf(\"Thread %d result: %d\\n\", i, h_result[i]);\n",
        "    }\n",
        "\n",
        "    cudaFree(d_result);\n",
        "\n",
        "    return 0;\n",
        "\n",
        "}"
      ]
    },
    {
      "cell_type": "code",
      "source": [
        "!nvcc -o 1 1.cu"
      ],
      "metadata": {
        "id": "nhSCTt9xnLYm"
      },
      "execution_count": null,
      "outputs": []
    },
    {
      "cell_type": "code",
      "source": [
        "!./1"
      ],
      "metadata": {
        "colab": {
          "base_uri": "https://localhost:8080/"
        },
        "id": "20uqBSbznoxL",
        "outputId": "79e79bc1-35bd-49f8-bc1c-bff66a74ef70"
      },
      "execution_count": null,
      "outputs": [
        {
          "output_type": "stream",
          "name": "stdout",
          "text": [
            "Running with add<<<1, 10>>>...\n",
            "Thread index: 0\n",
            "Thread index: 1\n",
            "Thread index: 2\n",
            "Thread index: 3\n",
            "Thread index: 4\n",
            "Thread index: 5\n",
            "Thread index: 6\n",
            "Thread index: 7\n",
            "Thread index: 8\n",
            "Thread index: 9\n",
            "Thread 0 result: 15\n",
            "Thread 1 result: 15\n",
            "Thread 2 result: 15\n",
            "Thread 3 result: 15\n",
            "Thread 4 result: 15\n",
            "Thread 5 result: 15\n",
            "Thread 6 result: 15\n",
            "Thread 7 result: 15\n",
            "Thread 8 result: 15\n",
            "Thread 9 result: 15\n",
            "\n",
            " Running with add<<<10, 1>>>...\n",
            "Thread index: 0\n",
            "Thread index: 5\n",
            "Thread index: 2\n",
            "Thread index: 7\n",
            "Thread index: 3\n",
            "Thread index: 8\n",
            "Thread index: 1\n",
            "Thread index: 6\n",
            "Thread index: 4\n",
            "Thread index: 9\n",
            "Thread 0 result: 15\n",
            "Thread 1 result: 15\n",
            "Thread 2 result: 15\n",
            "Thread 3 result: 15\n",
            "Thread 4 result: 15\n",
            "Thread 5 result: 15\n",
            "Thread 6 result: 15\n",
            "Thread 7 result: 15\n",
            "Thread 8 result: 15\n",
            "Thread 9 result: 15\n"
          ]
        }
      ]
    },
    {
      "cell_type": "code",
      "source": [
        "%%writefile 2.cu\n",
        "\n",
        "#include <stdio.h>\n",
        "#include <cuda_runtime.h>\n",
        "\n",
        "__global__ void add (int a, int b, int *result){\n",
        "    int idx = blockIdx.x * blockDim.x + threadIdx.x;\n",
        "    printf(\"Thread index: %d\\n\",idx);\n",
        "    result[idx] = a + b;\n",
        "}\n",
        "\n",
        "int main(){\n",
        "    const int N = 10;\n",
        "    int a = 5, b = 10;\n",
        "    int h_result[N];\n",
        "    int *d_result;\n",
        "\n",
        "    cudaMalloc(&d_result, N * sizeof(int));\n",
        "\n",
        "    printf(\"Running with add<<<1, 10>>>...\\n\");\n",
        "    add<<<1, 10>>>(a,b,d_result);\n",
        "    cudaDeviceSynchronize();\n",
        "\n",
        "    cudaMemcpy(h_result, d_result, N * sizeof(int), cudaMemcpyDeviceToHost);\n",
        "\n",
        "    for(int i=0; i<N; ++i){\n",
        "        printf(\"Thread %d result: %d\\n\", i, h_result[i]);\n",
        "    }\n",
        "\n",
        "    printf(\"\\n Running with add<<<10, 1>>>...\\n\");\n",
        "    add<<<10, 1>>>(a,b,d_result);\n",
        "\n",
        "    cudaDeviceSynchronize();\n",
        "\n",
        "    cudaMemcpy(h_result, d_result, N * sizeof(int), cudaMemcpyDeviceToHost);\n",
        "\n",
        "    for(int i=0; i<N; ++i){\n",
        "      printf(\"Thread %d result: %d\\n\", i, h_result[i]);\n",
        "    }\n",
        "\n",
        "    printf(\"\\n Test3 Running with add<<<10, 1>>>...\\n\");\n",
        "    add<<<2, 5>>>(a,b,d_result);\n",
        "\n",
        "    cudaDeviceSynchronize();\n",
        "\n",
        "    cudaMemcpy(h_result, d_result, N * sizeof(int), cudaMemcpyDeviceToHost);\n",
        "\n",
        "    for(int i=0; i<N; ++i){\n",
        "      printf(\"Thread %d result: %d\\n\", i, h_result[i]);\n",
        "    }\n",
        "\n",
        "    cudaFree(d_result);\n",
        "\n",
        "    return 0;\n",
        "\n",
        "}"
      ],
      "metadata": {
        "colab": {
          "base_uri": "https://localhost:8080/"
        },
        "id": "PhQr46cnnq2o",
        "outputId": "0ba396a8-6f06-4172-e124-bf11a825ab03"
      },
      "execution_count": null,
      "outputs": [
        {
          "output_type": "stream",
          "name": "stdout",
          "text": [
            "Writing 1.cu\n"
          ]
        }
      ]
    },
    {
      "cell_type": "code",
      "source": [
        "!nvcc -o 2 2.cu"
      ],
      "metadata": {
        "id": "2WnC_h3A-lfi"
      },
      "execution_count": null,
      "outputs": []
    },
    {
      "cell_type": "code",
      "source": [
        "!./2"
      ],
      "metadata": {
        "colab": {
          "base_uri": "https://localhost:8080/"
        },
        "id": "GG5x4qBf-phN",
        "outputId": "b8e84081-f922-4952-a379-e2ef47c652a6"
      },
      "execution_count": null,
      "outputs": [
        {
          "output_type": "stream",
          "name": "stdout",
          "text": [
            "Running with add<<<1, 10>>>...\n",
            "Thread 0 result: 0\n",
            "Thread 1 result: 0\n",
            "Thread 2 result: 0\n",
            "Thread 3 result: 0\n",
            "Thread 4 result: 0\n",
            "Thread 5 result: 0\n",
            "Thread 6 result: 0\n",
            "Thread 7 result: 0\n",
            "Thread 8 result: 0\n",
            "Thread 9 result: 0\n",
            "\n",
            " Running with add<<<10, 1>>>...\n",
            "Thread 0 result: 0\n",
            "Thread 1 result: 0\n",
            "Thread 2 result: 0\n",
            "Thread 3 result: 0\n",
            "Thread 4 result: 0\n",
            "Thread 5 result: 0\n",
            "Thread 6 result: 0\n",
            "Thread 7 result: 0\n",
            "Thread 8 result: 0\n",
            "Thread 9 result: 0\n"
          ]
        }
      ]
    },
    {
      "cell_type": "code",
      "source": [
        "%%writefile 3.cu\n",
        "\n",
        "#include <stdio.h>\n",
        "#include <cuda_runtime.h>\n",
        "\n",
        "__global__ void add_arrays( int *c, const int *a, const int *b, int size){\n",
        "  int i = blockIdx.x * blockDim.x + threadIdx.x;\n",
        "  if(i < size){\n",
        "    c[i] = a[i] + b[i];\n",
        "    printf(\"This thread has done processing ... Thread id: %d\", i);\n",
        "  }else{\n",
        "    printf(\"This thread has not done processing ... Thread id: %d\", i);\n",
        "  }\n",
        "}\n",
        "\n",
        "int main(){\n",
        "  const int size = 5;\n",
        "  int a[size]={1,2,3,4,5};\n",
        "  int b[size]={1,2,3,4,5};\n",
        "  int *d_c;\n",
        "\n",
        "  cudaMalloc((void **)&d_c, size * sizeof(int));\n",
        "\n",
        "  int *d_a, *d_b;\n",
        "  cudaMalloc((void **)&d_a, size * sizeof(int));\n",
        "  cudaMalloc((void **)&d_b, size * sizeof(int));\n",
        "\n",
        "  cudaMemcpy(d_a, a, size * sizeof(int), cudaMemcpyHostToDevice);\n",
        "  cudaMemcpy(d_b, b, size * sizeof(int), cudaMemcpyHostToDevice);\n",
        "\n",
        "  //add_arrays<<<1, 5>>>(d_c, d_a, d_b, size);           //Total No of thread = No of elements\n",
        "  add_arrays<<<1, 3>>>(d_c, d_a, d_b, size);        //Total No of thread < No of elements\n",
        "  // add_arrays<<<1, 10>>>(d_c, d_a, d_b, size);       //Total No of thread > No of elements\n",
        "\n",
        "  cudaDeviceSynchronize();\n",
        "\n",
        "  int *c = (int *)malloc(5 * sizeof(int));\n",
        "\n",
        "  cudaMemcpy(c, d_c, 5 * sizeof(int), cudaMemcpyDeviceToHost);\n",
        "\n",
        "  for (int i=0; i<5; ++i){\n",
        "    printf(\"%d \", c[i]);\n",
        "  }\n",
        "  printf(\"\\n\");\n",
        "\n",
        "  cudaFree(c);\n",
        "  cudaFree(d_a);\n",
        "  cudaFree(d_b);\n",
        "  cudaFree(d_c);\n",
        "\n",
        "  return 0;\n",
        "  }"
      ],
      "metadata": {
        "colab": {
          "base_uri": "https://localhost:8080/"
        },
        "id": "gr7m7YWA-ufa",
        "outputId": "b983e07e-78b3-4ded-e665-2ee7a1e357b2"
      },
      "execution_count": null,
      "outputs": [
        {
          "output_type": "stream",
          "name": "stdout",
          "text": [
            "Overwriting 3.cu\n"
          ]
        }
      ]
    },
    {
      "cell_type": "code",
      "source": [
        "!nvcc -o 3 3.cu"
      ],
      "metadata": {
        "id": "RNXWdqVZLl5h"
      },
      "execution_count": null,
      "outputs": []
    },
    {
      "cell_type": "code",
      "source": [
        "!./3"
      ],
      "metadata": {
        "colab": {
          "base_uri": "https://localhost:8080/"
        },
        "id": "sPtzd6CdLpHX",
        "outputId": "125ddfa3-13b1-44c6-b097-344ab162bf5d"
      },
      "execution_count": null,
      "outputs": [
        {
          "output_type": "stream",
          "name": "stdout",
          "text": [
            "0 0 0 0 0 \n"
          ]
        }
      ]
    },
    {
      "cell_type": "code",
      "source": [
        "%%writefile 4.cu\n",
        "#include <stdio.h>\n",
        "#include <cuda_runtime.h>\n",
        "\n",
        "__global__ void add_arrays(int *c, const int *a, const int *b, int size) {\n",
        "  int i = blockIdx.x * blockDim.x + threadIdx.x;\n",
        "  if (i < size) {\n",
        "    c[i] = a[i] + b[i];\n",
        "    printf(\"This thread has done processing ... Thread id: %d\\n\", i);\n",
        "  } else {\n",
        "    printf(\"This thread has not done processing ... Thread id: %d\\n\", i);\n",
        "  }\n",
        "}\n",
        "\n",
        "int main() {\n",
        "  const int size = 5;\n",
        "  int a[size];\n",
        "  int b[size];\n",
        "\n",
        "\n",
        "  printf(\"Enter the elements of array a: \\n\");\n",
        "  for (int i=0; i<size; i++){\n",
        "    scanf(\"%d\", &a[i]);\n",
        "  }\n",
        "\n",
        "  printf(\"Enter the elements of array b: \\n\");\n",
        "  for (int i=0; i<size; i++){\n",
        "    scanf(\"%d\", &b[i]);\n",
        "  }\n",
        "\n",
        "  int *d_c;\n",
        "  cudaMalloc((void **)&d_c, size * sizeof(int));\n",
        "\n",
        "  int *d_a, *d_b;\n",
        "  cudaMalloc((void **)&d_a, size * sizeof(int));\n",
        "  cudaMalloc((void **)&d_b, size * sizeof(int));\n",
        "\n",
        "  cudaMemcpy(d_a, a, size * sizeof(int), cudaMemcpyHostToDevice);\n",
        "  cudaMemcpy(d_b, b, size * sizeof(int), cudaMemcpyHostToDevice);\n",
        "\n",
        "  // Launch kernel with different configurations\n",
        "  // Uncomment one line at a time to test:\n",
        "  // add_arrays<<<1, 5>>>(d_c, d_a, d_b, size);   // Threads == Elements\n",
        "  // add_arrays<<<1, 3>>>(d_c, d_a, d_b, size);      // Threads < Elements\n",
        "  add_arrays<<<1, 10>>>(d_c, d_a, d_b, size);  // Threads > Elements\n",
        "\n",
        "  cudaDeviceSynchronize();\n",
        "\n",
        "  int *c = (int *)malloc(size * sizeof(int));\n",
        "  cudaMemcpy(c, d_c, size * sizeof(int), cudaMemcpyDeviceToHost);\n",
        "\n",
        "  for (int i = 0; i < size; ++i) {\n",
        "    printf(\"%d \", c[i]);\n",
        "  }\n",
        "  printf(\"\\n\");\n",
        "\n",
        "  free(c);\n",
        "  cudaFree(d_a);\n",
        "  cudaFree(d_b);\n",
        "  cudaFree(d_c);\n",
        "\n",
        "  return 0;\n",
        "}\n"
      ],
      "metadata": {
        "colab": {
          "base_uri": "https://localhost:8080/"
        },
        "id": "W0IbYvtoMHu2",
        "outputId": "4f244a1b-6823-4b8e-8c95-246030cafeec"
      },
      "execution_count": null,
      "outputs": [
        {
          "output_type": "stream",
          "name": "stdout",
          "text": [
            "Overwriting 4.cu\n"
          ]
        }
      ]
    },
    {
      "cell_type": "code",
      "source": [
        "!nvcc -o 4 4.cu\n"
      ],
      "metadata": {
        "id": "FZY0kYMWVCUX"
      },
      "execution_count": null,
      "outputs": []
    },
    {
      "cell_type": "code",
      "source": [
        "!./4"
      ],
      "metadata": {
        "colab": {
          "base_uri": "https://localhost:8080/"
        },
        "id": "bTcfnrEYVFDO",
        "outputId": "b12d07b7-4284-4906-9dad-383bb08049d7"
      },
      "execution_count": null,
      "outputs": [
        {
          "output_type": "stream",
          "name": "stdout",
          "text": [
            "Enter the elements of array a: \n",
            "^C\n"
          ]
        }
      ]
    },
    {
      "cell_type": "code",
      "source": [],
      "metadata": {
        "id": "smCxBmVFVGr1"
      },
      "execution_count": null,
      "outputs": []
    }
  ]
}