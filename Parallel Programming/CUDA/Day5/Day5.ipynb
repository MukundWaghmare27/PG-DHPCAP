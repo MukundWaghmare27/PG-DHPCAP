{
  "nbformat": 4,
  "nbformat_minor": 0,
  "metadata": {
    "colab": {
      "provenance": [],
      "gpuType": "T4"
    },
    "kernelspec": {
      "name": "python3",
      "display_name": "Python 3"
    },
    "language_info": {
      "name": "python"
    },
    "accelerator": "GPU"
  },
  "cells": [
    {
      "cell_type": "markdown",
      "source": [
        "## Day5"
      ],
      "metadata": {
        "id": "upbttXgcQoA9"
      }
    },
    {
      "cell_type": "code",
      "source": [
        "%%writefile 1.cu\n",
        "\n",
        "#include <stdio.h>\n",
        "#define N 16\n",
        "\n",
        "__device__ int blockReduceSum(int *sharedData, int blockSize){\n",
        "  int blockSum =0;\n",
        "  for(int i=0; i<blockSize; i++){\n",
        "    blockSum += sharedData[i];\n",
        "  }\n",
        "  return blockSum;\n",
        "}\n",
        "\n",
        "__global__ void sumWithSharedMem(int *d_input, int *d_output, int n){\n",
        "  __shared__ int sdata[4];\n",
        "\n",
        "  __syncthreads();\n",
        "\n",
        "  if(threadIdx.x == 0){\n",
        "    int blockSum = blockReduceSum(sdata, blockDim.x);\n",
        "    d_output[blockIdx.x] = blockSum;\n",
        "  }\n",
        "}\n",
        "\n",
        "int main(){\n",
        "  int h_input[N], h_output[N / 4], finalSum =0;\n",
        "  int *d_input, *d_output;\n",
        "\n",
        "  for(int i=0; i<N; i++){\n",
        "    h_input[i] = i+1;\n",
        "  }\n",
        "\n",
        "  cudaMalloc((void **) &d_input, N * sizeof(int));\n",
        "  cudaMalloc((void **) &d_output, (N/4) * sizeof(int));\n",
        "\n",
        "  cudaMemcpy(d_input, h_input, N *sizeof(int), cudaMemcpyHostToDevice);\n",
        "\n",
        "  sumWithSharedMem<<<4, 4>>>(d_input, d_output, N);\n",
        "\n",
        "  cudaMemcpy(h_output, d_output, (N/4) * sizeof(int), cudaMemcpyDeviceToHost);\n",
        "\n",
        "  for(int i=0; i<4; i++){\n",
        "    finalSum += h_output[i];\n",
        "  }\n",
        "\n",
        "  printf(\"Final Sum: %d\\n\", finalSum);\n",
        "\n",
        "  cudaFree(d_input);\n",
        "  cudaFree(d_output);\n",
        "\n",
        "  return 0;\n",
        "}\n"
      ],
      "metadata": {
        "colab": {
          "base_uri": "https://localhost:8080/"
        },
        "id": "poJ_8PIpQsRE",
        "outputId": "cbbf67e5-8a5c-4b46-f54b-a1d32741cbe6"
      },
      "execution_count": null,
      "outputs": [
        {
          "output_type": "stream",
          "name": "stdout",
          "text": [
            "Overwriting 1.cu\n"
          ]
        }
      ]
    },
    {
      "cell_type": "code",
      "source": [
        "!nvcc -o 1 1.cu"
      ],
      "metadata": {
        "id": "V8nBzG9iTWdK"
      },
      "execution_count": null,
      "outputs": []
    },
    {
      "cell_type": "code",
      "source": [
        "%%writefile 1_1.cu\n",
        "\n",
        "#include <stdio.h>\n",
        "#define N 16\n",
        "\n",
        "__device__ int blockReduceSum(int *sharedData, int blockSize) {\n",
        "  int blockSum = 0;\n",
        "  for (int i = 0; i < blockSize; i++) {\n",
        "    blockSum += sharedData[i];\n",
        "  }\n",
        "  return blockSum;\n",
        "}\n",
        "\n",
        "\n",
        "__global__ void sumWithSharedMem(int *d_input, int *d_output, int n) {\n",
        "  __shared__ int sdata[4];\n",
        "\n",
        "  int tid = threadIdx.x + blockIdx.x * blockDim.x;\n",
        "\n",
        "  // Load data into shared memory\n",
        "  if (tid < n) {\n",
        "    sdata[threadIdx.x] = d_input[tid];\n",
        "  } else {\n",
        "    sdata[threadIdx.x] = 0;\n",
        "  }\n",
        "\n",
        "  __syncthreads();\n",
        "\n",
        "  // Perform reduction in one thread\n",
        "  if (threadIdx.x == 0) {\n",
        "    int blockSum = blockReduceSum(sdata, blockDim.x);\n",
        "    d_output[blockIdx.x] = blockSum;\n",
        "  }\n",
        "}\n",
        "\n",
        "int main() {\n",
        "  int h_input[N], h_output[N / 4], finalSum = 0;\n",
        "  int *d_input, *d_output;\n",
        "\n",
        "  // Initialize host input\n",
        "  for (int i = 0; i < N; i++) {\n",
        "    h_input[i] = i + 1;\n",
        "  }\n",
        "\n",
        "  cudaMalloc((void **)&d_input, N * sizeof(int));\n",
        "  cudaMalloc((void **)&d_output, (N / 4) * sizeof(int));\n",
        "\n",
        "  cudaMemcpy(d_input, h_input, N * sizeof(int), cudaMemcpyHostToDevice);\n",
        "\n",
        "  sumWithSharedMem<<<4, 4>>>(d_input, d_output, N);\n",
        "\n",
        "  cudaMemcpy(h_output, d_output, (N / 4) * sizeof(int), cudaMemcpyDeviceToHost);\n",
        "\n",
        "  // Sum up partial results from each block\n",
        "  for (int i = 0; i < 4; i++) {\n",
        "    finalSum += h_output[i];\n",
        "  }\n",
        "\n",
        "  printf(\"Final Sum: %d\\n\", finalSum);\n",
        "\n",
        "  cudaFree(d_input);\n",
        "  cudaFree(d_output);\n",
        "\n",
        "  return 0;\n",
        "}\n"
      ],
      "metadata": {
        "colab": {
          "base_uri": "https://localhost:8080/"
        },
        "id": "ssW3AjCfTkwv",
        "outputId": "62309c0e-6c73-4b3b-98f6-2e8e53488ff4"
      },
      "execution_count": null,
      "outputs": [
        {
          "output_type": "stream",
          "name": "stdout",
          "text": [
            "Writing 2.cu\n"
          ]
        }
      ]
    },
    {
      "cell_type": "code",
      "source": [
        "!nvcc -o 1_1 1_1.cu"
      ],
      "metadata": {
        "id": "4WVkYR59VQr2"
      },
      "execution_count": null,
      "outputs": []
    },
    {
      "cell_type": "code",
      "source": [
        "!./1_1"
      ],
      "metadata": {
        "colab": {
          "base_uri": "https://localhost:8080/"
        },
        "id": "bvCOfjYZVT90",
        "outputId": "475d64b1-a47a-4515-f6bd-87721ddada93"
      },
      "execution_count": null,
      "outputs": [
        {
          "output_type": "stream",
          "name": "stdout",
          "text": [
            "Final Sum: 136\n"
          ]
        }
      ]
    },
    {
      "cell_type": "markdown",
      "source": [
        "## Square of the Array Elements"
      ],
      "metadata": {
        "id": "rReTG9-5Vn3z"
      }
    },
    {
      "cell_type": "code",
      "source": [
        "%%writefile 2.cu\n",
        "\n",
        "#include <stdio.h>\n",
        "\n",
        "__device__ int Square(int x){\n",
        "\n",
        "  return x*x;\n",
        "}\n",
        "\n",
        "__global__ void squareKernel(int *d_input, int *d_output){\n",
        "  int id = blockIdx.x * blockDim.x + threadIdx.x;\n",
        "\n",
        "  if(id < 5){\n",
        "    d_output[id] = Square(d_input[id]);\n",
        "  }\n",
        "}\n",
        "\n",
        "int main(){\n",
        "  int h_input[] = {1,2,3,4,5};\n",
        "  int h_output[5];\n",
        "\n",
        "  int *d_input, *d_output;\n",
        "\n",
        "  cudaMalloc((void**)&d_input, 5 * sizeof(int));\n",
        "  cudaMalloc((void**)&d_output, 5 * sizeof(int));\n",
        "\n",
        "  cudaMemcpy(d_input, h_input, 5 * sizeof(int), cudaMemcpyHostToDevice);\n",
        "\n",
        "  squareKernel<<<1, 5>>>(d_input, d_output);\n",
        "\n",
        "  cudaMemcpy(h_output, d_output, 5 * sizeof(int), cudaMemcpyDeviceToHost);\n",
        "\n",
        "  for(int i=0; i<5; i++){\n",
        "    printf(\"%d \", h_output[i]);\n",
        "  }\n",
        "  printf(\"\\n\");\n",
        "\n",
        "  cudaFree(d_input);\n",
        "  cudaFree(d_output);\n",
        "\n",
        "  return 0;\n",
        "}"
      ],
      "metadata": {
        "colab": {
          "base_uri": "https://localhost:8080/"
        },
        "id": "LSqF3PLkVVvk",
        "outputId": "7ae1eeb3-742c-40ed-d032-67318d148587"
      },
      "execution_count": null,
      "outputs": [
        {
          "output_type": "stream",
          "name": "stdout",
          "text": [
            "Overwriting 3.cu\n"
          ]
        }
      ]
    },
    {
      "cell_type": "code",
      "source": [
        "!nvcc -o 2 2.cu"
      ],
      "metadata": {
        "id": "7lxqIKddYRXm"
      },
      "execution_count": null,
      "outputs": []
    },
    {
      "cell_type": "code",
      "source": [
        "!./3"
      ],
      "metadata": {
        "colab": {
          "base_uri": "https://localhost:8080/"
        },
        "id": "LGmVtb6aYUuN",
        "outputId": "ad989619-b769-47a8-f385-7964d6d5231f"
      },
      "execution_count": null,
      "outputs": [
        {
          "output_type": "stream",
          "name": "stdout",
          "text": [
            "1 4 9 16 25 \n"
          ]
        }
      ]
    },
    {
      "cell_type": "markdown",
      "source": [
        "## Double the Square"
      ],
      "metadata": {
        "id": "4n6VlyytzQJw"
      }
    },
    {
      "cell_type": "code",
      "source": [
        "%%writefile 3.cu\n",
        "\n",
        "#include <stdio.h>\n",
        "\n",
        "__device__ int Double(int x){\n",
        "  return x * 2;\n",
        "}\n",
        "__device__ int Square(int x){\n",
        "\n",
        "  int a = x*x;\n",
        "  return a;\n",
        "\n",
        "  int b = Double(a);\n",
        "  return b;\n",
        "}\n",
        "\n",
        "__global__ void squareKernel(int *d_input, int *d_output, int *double_output){\n",
        "  int id = blockIdx.x * blockDim.x + threadIdx.x;\n",
        "\n",
        "  if(id < 5){\n",
        "    d_output[id] = Square(d_input[id]);\n",
        "    double_output[id] = Double(d_input[id]);\n",
        "  }\n",
        "}\n",
        "\n",
        "int main(){\n",
        "  int h_input[] = {1,2,3,4,5};\n",
        "  int h_output[5], h_double_output[5];\n",
        "\n",
        "  int *d_input, *d_output, *double_output;\n",
        "\n",
        "  cudaMalloc((void**)&d_input, 5 * sizeof(int));\n",
        "  cudaMalloc((void**)&d_output, 5 * sizeof(int));\n",
        "  cudaMalloc((void**)&double_output, 5 * sizeof(int));\n",
        "\n",
        "  cudaMemcpy(d_input, h_input, 5 * sizeof(int), cudaMemcpyHostToDevice);\n",
        "\n",
        "  squareKernel<<<1, 5>>>(d_input, d_output, double_output);\n",
        "\n",
        "  cudaMemcpy(h_output, d_output, 5 * sizeof(int), cudaMemcpyDeviceToHost);\n",
        "  cudaMemcpy(h_double_output, double_output, 5 * sizeof(int), cudaMemcpyDeviceToHost)\n",
        "\n",
        "  for(int i=0; i<5; i++){\n",
        "    printf(\"%d \", h_output[i]);\n",
        "  }\n",
        "  printf(\"\\n\");\n",
        "\n",
        "\n",
        "  cudaFree(d_input);\n",
        "  cudaFree(d_output);\n",
        "  cudaFree(double_output);\n",
        "\n",
        "  return 0;\n",
        "}"
      ],
      "metadata": {
        "colab": {
          "base_uri": "https://localhost:8080/"
        },
        "id": "6xQhwlnJYyEs",
        "outputId": "090b4e31-cb7b-47d0-93f4-b332b9553ac1"
      },
      "execution_count": null,
      "outputs": [
        {
          "output_type": "stream",
          "name": "stdout",
          "text": [
            "Overwriting 4.cu\n"
          ]
        }
      ]
    },
    {
      "cell_type": "code",
      "source": [
        "!nvcc -o 3 3.cu  //Re-Run This"
      ],
      "metadata": {
        "colab": {
          "base_uri": "https://localhost:8080/"
        },
        "id": "GxRN9GgzboEn",
        "outputId": "a06266d0-a135-472c-cb05-87dfc31abbdf"
      },
      "execution_count": null,
      "outputs": [
        {
          "output_type": "stream",
          "name": "stdout",
          "text": [
            "\u001b[01m\u001b[0m\u001b[01m4.cu(44)\u001b[0m: \u001b[01;31merror\u001b[0m: expected a \";\"\n",
            "    for(int i=0; i<5; i++){\n",
            "    ^\n",
            "\n",
            "\u001b[01m\u001b[0m\u001b[01m4.cu(47)\u001b[0m: \u001b[01;35mwarning\u001b[0m #12-D: parsing restarts here after previous syntax error\n",
            "    printf(\"\\n\");\n",
            "                ^\n",
            "\n",
            "\u001b[01;36m\u001b[0m\u001b[01;36mRemark\u001b[0m: The warnings can be suppressed with \"-diag-suppress <warning-number>\"\n",
            "\n",
            "1 error detected in the compilation of \"4.cu\".\n"
          ]
        }
      ]
    },
    {
      "cell_type": "code",
      "source": [
        "%%writefile 4_2.cu\n",
        "\n",
        "#include <stdio.h>\n",
        "\n",
        "__device__ int Square(int x) {\n",
        "  int a = x * x;\n",
        " // int b = Double(a);\n",
        "  return a;\n",
        "}\n",
        "\n",
        "__device__ int Double(int x) {\n",
        "  int a = Square(x);\n",
        "  return a * 2;\n",
        "}\n",
        "\n",
        "\n",
        "__global__ void squareKernel(int *d_input, int *d_output, int *double_output) {\n",
        "  int id = blockIdx.x * blockDim.x + threadIdx.x;\n",
        "\n",
        "  if (id < 5) {\n",
        "    d_output[id] = Square(d_input[id]);\n",
        "    double_output[id] = Double(d_input[id]);\n",
        "  }\n",
        "}\n",
        "\n",
        "int main() {\n",
        "  int h_input[] = {1, 2, 3, 4, 5};\n",
        "  int h_output[5], h_double_output[5];\n",
        "\n",
        "  int *d_input, *d_output, *double_output;\n",
        "\n",
        "  cudaMalloc((void**)&d_input, 5 * sizeof(int));\n",
        "  cudaMalloc((void**)&d_output, 5 * sizeof(int));\n",
        "  cudaMalloc((void**)&double_output, 5 * sizeof(int));\n",
        "\n",
        "  cudaMemcpy(d_input, h_input, 5 * sizeof(int), cudaMemcpyHostToDevice);\n",
        "\n",
        "  squareKernel<<<1, 5>>>(d_input, d_output, double_output);\n",
        "\n",
        "  cudaMemcpy(h_output, d_output, 5 * sizeof(int), cudaMemcpyDeviceToHost);\n",
        "  cudaMemcpy(h_double_output, double_output, 5 * sizeof(int), cudaMemcpyDeviceToHost);\n",
        "\n",
        "  printf(\"Squared and doubled values:\\n\");\n",
        "  for (int i = 0; i < 5; i++) {\n",
        "    printf(\"Square[%d]: %d, Double[%d]: %d\\n\", i, h_output[i], i, h_double_output[i]);\n",
        "  }\n",
        "  printf(\"\\n\");\n",
        "\n",
        "  cudaFree(d_input);\n",
        "  cudaFree(d_output);\n",
        "  cudaFree(double_output);\n",
        "\n",
        "  return 0;\n",
        "}\n"
      ],
      "metadata": {
        "colab": {
          "base_uri": "https://localhost:8080/"
        },
        "id": "0_EXE-z0bvLl",
        "outputId": "c9dafe1f-4459-4e77-9284-ef33a65db8c2"
      },
      "execution_count": null,
      "outputs": [
        {
          "output_type": "stream",
          "name": "stdout",
          "text": [
            "Overwriting 5.cu\n"
          ]
        }
      ]
    },
    {
      "cell_type": "code",
      "source": [
        "!nvcc -o 4_2 4_2.cu"
      ],
      "metadata": {
        "id": "HrmuGISbc9q3"
      },
      "execution_count": null,
      "outputs": []
    },
    {
      "cell_type": "code",
      "source": [
        "!./4_2"
      ],
      "metadata": {
        "colab": {
          "base_uri": "https://localhost:8080/"
        },
        "id": "k2kbb2VOdBeN",
        "outputId": "aa252a48-b982-40b4-d4af-521f8dc1bdbe"
      },
      "execution_count": null,
      "outputs": [
        {
          "output_type": "stream",
          "name": "stdout",
          "text": [
            "Squared and doubled values:\n",
            "Square[0]: 1, Double[0]: 2\n",
            "Square[1]: 4, Double[1]: 8\n",
            "Square[2]: 9, Double[2]: 18\n",
            "Square[3]: 16, Double[3]: 32\n",
            "Square[4]: 25, Double[4]: 50\n",
            "\n"
          ]
        }
      ]
    },
    {
      "cell_type": "markdown",
      "source": [
        "## Students Marks"
      ],
      "metadata": {
        "id": "7Q9YyXajeDAJ"
      }
    },
    {
      "cell_type": "code",
      "source": [
        "%%writefile 6.cu   //Incomplete\n",
        "\n",
        "#include <stdio.h>\n",
        "\n",
        "__device__ int TotalMarks(int *marks){\n",
        "  int total = 0;\n",
        "  for(int i=0; i< 3; i++){\n",
        "    total += marks[i];\n",
        "  }\n",
        "  return total;\n",
        "}\n",
        "\n",
        "__device__ int percentage(int *marks){\n",
        "  int total = TotalMarks(marks);\n",
        "  int perc = (total / 300) * 100  ;\n",
        "  return perc;\n",
        "}\n",
        "\n",
        "__global__ void MarksofStd(int *d_input, int *d_total_marks, int *d_perc, int *d_result){\n",
        "  int id = blockDim.x * blockIdx.x + threadIdx.x;\n",
        "\n",
        "  if(id < 4){\n",
        "    d_total_marks[id] = TotalMarks(&d_input[id * 3]);\n",
        "    d_perc[id] = percentage(&d_input[id * 3]);\n",
        "  }\n",
        "\n",
        "}\n",
        "\n",
        "\n",
        "int main(){\n",
        "  int h_input[3][3] ={\n",
        "    {40,60,70}, {35,70,90}, {22,66,56}\n",
        "  } ;\n",
        "  int h_total_marks[3], h_perc[3], h_result;\n",
        "\n",
        "  int *d_input, *d_total_marks, *d_perc, *d_result;\n",
        "\n",
        "  cudaMalloc((void**)&d_input, 3*3 * sizeof(int));\n",
        "  cudaMalloc((void**)&d_total_marks, 3 * sizeof(int));\n",
        "  cudaMalloc((void**)&d_perc, 3 * sizeof(int));\n",
        "  cudaMalloc((void**)&d_result, 3 * sizeof(int));\n",
        "\n",
        "  cudaMemcpy(d_input, h_input, 3*3 * sizeof(int), cudaMemcpyHostToDevice);\n",
        "\n",
        "  MarksofStd<<<1, 3>>>(d_input, d_total_marks, d_perc, d_result);\n",
        "\n",
        "  cudaMemcpy(h_total_marks, d_total_marks, 3 * sizeof(int), cudaMemcpyDeviceToHost);\n",
        "  cudaMemcpy(h_perc, d_perc, 3 * sizeof(int), cudaMemcpyDeviceToHost);\n",
        "\n",
        "  for(int i=0; i< 3; i++){\n",
        "    printf(\"%d \", h_total_marks[i]);\n",
        "    printf(\"%d \", h_perc[i]);\n",
        "  }\n",
        "  printf(\"\\n\");\n",
        "\n",
        "  cudaFree(d_input);\n",
        "  cudaFree(d_total_marks);\n",
        "  cudaFree(d_perc);\n",
        "  cudaFree(d_result);\n",
        "\n",
        "  return 0;\n",
        "\n",
        "\n",
        "}"
      ],
      "metadata": {
        "colab": {
          "base_uri": "https://localhost:8080/"
        },
        "id": "qMweRiyxdECd",
        "outputId": "d283392f-b1cc-47d6-9c67-102d927adfc1"
      },
      "execution_count": null,
      "outputs": [
        {
          "output_type": "stream",
          "name": "stdout",
          "text": [
            "Overwriting 6.cu\n"
          ]
        }
      ]
    },
    {
      "cell_type": "code",
      "source": [
        "!nvcc -o 6 6.cu"
      ],
      "metadata": {
        "colab": {
          "base_uri": "https://localhost:8080/"
        },
        "id": "A1JG32cuigpw",
        "outputId": "ea242581-26ee-413a-b67c-ac9f8c6daf59"
      },
      "execution_count": null,
      "outputs": [
        {
          "output_type": "stream",
          "name": "stdout",
          "text": [
            "\u001b[01m\u001b[0m\u001b[01m6.cu(33)\u001b[0m: \u001b[01;35mwarning\u001b[0m #177-D: variable \u001b[01m\"h_result\"\u001b[0m was declared but never referenced\n",
            "    int h_total_marks[3], h_perc[3], h_result;\n",
            "                                     ^\n",
            "\n",
            "\u001b[01;36m\u001b[0m\u001b[01;36mRemark\u001b[0m: The warnings can be suppressed with \"-diag-suppress <warning-number>\"\n",
            "\n"
          ]
        }
      ]
    },
    {
      "cell_type": "code",
      "source": [
        "\n",
        "!./6"
      ],
      "metadata": {
        "colab": {
          "base_uri": "https://localhost:8080/"
        },
        "id": "2drSHASgiq0e",
        "outputId": "e6a7a4c5-ab69-46a3-9e78-4247b2af832f"
      },
      "execution_count": null,
      "outputs": [
        {
          "output_type": "stream",
          "name": "stdout",
          "text": [
            "170 0 195 0 144 0 \n"
          ]
        }
      ]
    },
    {
      "cell_type": "code",
      "source": [],
      "metadata": {
        "colab": {
          "base_uri": "https://localhost:8080/"
        },
        "id": "KDjFhN7QjLqu",
        "outputId": "3182c0d5-e198-491d-f6dd-2836d9d04cc6"
      },
      "execution_count": null,
      "outputs": [
        {
          "output_type": "stream",
          "name": "stdout",
          "text": [
            "Writing 7.cu\n"
          ]
        }
      ]
    },
    {
      "cell_type": "code",
      "source": [],
      "metadata": {
        "id": "vhz_V8NAkqQz"
      },
      "execution_count": null,
      "outputs": []
    },
    {
      "cell_type": "code",
      "source": [],
      "metadata": {
        "id": "S4PJiJvIks5-"
      },
      "execution_count": null,
      "outputs": []
    },
    {
      "cell_type": "code",
      "source": [],
      "metadata": {
        "id": "0Abjf16wkvPe"
      },
      "execution_count": null,
      "outputs": []
    }
  ]
}