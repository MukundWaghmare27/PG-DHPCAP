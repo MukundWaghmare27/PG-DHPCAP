{
  "nbformat": 4,
  "nbformat_minor": 0,
  "metadata": {
    "colab": {
      "provenance": []
    },
    "kernelspec": {
      "name": "python3",
      "display_name": "Python 3"
    },
    "language_info": {
      "name": "python"
    }
  },
  "cells": [
    {
      "cell_type": "markdown",
      "source": [
        "# Prime Numbers between 2 and 100001 for CPU & GPU\n",
        "## Adding timing code to measure the performance of both functions. Compare both"
      ],
      "metadata": {
        "id": "gq4RtwPFFK7q"
      }
    },
    {
      "cell_type": "code",
      "execution_count": 20,
      "metadata": {
        "colab": {
          "base_uri": "https://localhost:8080/"
        },
        "id": "2ozzNQGAE_w4",
        "outputId": "92ab6cd4-2912-4fcb-89fe-419633f2d84f"
      },
      "outputs": [
        {
          "output_type": "stream",
          "name": "stdout",
          "text": [
            "Overwriting 1.cu\n"
          ]
        }
      ],
      "source": [
        "%%writefile 1.cu\n",
        "\n",
        "#include <stdio.h>\n",
        "#include <iostream>\n",
        "#include <stdlib.h>\n",
        "#include <cuda_runtime.h>\n",
        "#include <device_launch_parameters.h>\n",
        "#include <chrono>\n",
        "\n",
        "__global__ void isPrimeGPU(int *d_n, int *d_output, int limit) {\n",
        "    int id = blockIdx.x * blockDim.x + threadIdx.x;\n",
        "\n",
        "   // isPrime(id, d_n, d_output, limit);\n",
        "    if (id >= 2 && id < limit) {\n",
        "        d_output[id] = 1;\n",
        "        for (int i = 2; i * i <= d_n[id]; i++) {\n",
        "            if (d_n[id] % i == 0) {\n",
        "                d_output[id] = 0;\n",
        "                break;\n",
        "            }\n",
        "        }\n",
        "    }\n",
        "\n",
        "}\n",
        "\n",
        "int isPrimeCPU(int n) {\n",
        "    if (n <= 1) return 0;\n",
        "    for (int i = 2; i * i <= n; i++) {\n",
        "        if (n % i == 0) return 0;\n",
        "    }\n",
        "    return 1;\n",
        "}\n",
        "\n",
        "int main() {\n",
        "    int n = 100001; // Upper limit for checking primes\n",
        "    int *h_n = (int *)malloc(n * sizeof(int));\n",
        "    int *h_output = (int *)malloc(n * sizeof(int));\n",
        "    int *d_n, *d_output;\n",
        "\n",
        "    for (int i = 0; i < n; i++) {\n",
        "        h_n[i] = i;\n",
        "    }\n",
        "\n",
        "    printf(\"Prime numbers from CPU up to %d:\\n\", n);\n",
        "\n",
        "    auto start_time = std::chrono::high_resolution_clock::now();\n",
        "    for (int i = 0; i < n; i++) {\n",
        "        if (isPrimeCPU(h_n[i])) {\n",
        "            //printf(\"%d \", h_n[i]);\n",
        "        }\n",
        "    }\n",
        "    printf(\"\\n\");\n",
        "    auto end_time = std::chrono::high_resolution_clock::now();\n",
        "\n",
        "    auto duration_ns = std::chrono::duration_cast<std::chrono::nanoseconds>(end_time - start_time).count();\n",
        "    double seconds_cpu = duration_ns / 1000000000.0;\n",
        "    std::cout << \"Time taken by CPU: \" << seconds_cpu << \" seconds\" << std::endl;\n",
        "\n",
        "\n",
        "    cudaMalloc((void**)&d_n, n * sizeof(int));\n",
        "    cudaMalloc((void**)&d_output, n * sizeof(int));\n",
        "\n",
        "    cudaMemcpy(d_n, h_n, n * sizeof(int), cudaMemcpyHostToDevice);\n",
        "\n",
        "    int threadsPerBlock = 1024;\n",
        "    int blocksPerGrid = (n + threadsPerBlock - 1) / threadsPerBlock;\n",
        "\n",
        "\n",
        "    cudaEvent_t start, stop;\n",
        "    cudaEventCreate(&start);\n",
        "    cudaEventCreate(&stop);\n",
        "\n",
        "    cudaEventRecord(start);\n",
        "    isPrimeGPU<<<blocksPerGrid, threadsPerBlock>>>(d_n, d_output, n);\n",
        "    cudaEventRecord(stop);\n",
        "    cudaDeviceSynchronize();\n",
        "    cudaEventSynchronize(stop);\n",
        "\n",
        "    float milliseconds_device = 0;\n",
        "    cudaEventElapsedTime(&milliseconds_device, start, stop);\n",
        "    double seconds_gpu = milliseconds_device / 1000.0;\n",
        "    std::cout << \"Time taken by device (GPU): \" << seconds_gpu << \" seconds\" << std::endl;\n",
        "\n",
        "    cudaMemcpy(h_output, d_output, n * sizeof(int), cudaMemcpyDeviceToHost);\n",
        "\n",
        "    for (int i = 2; i < n; i++) {\n",
        "        if (h_output[i] == 1) {\n",
        "            //printf(\"%d \", i);\n",
        "        }\n",
        "    }\n",
        "    printf(\"\\n\");\n",
        "\n",
        "    cudaFree(d_n);\n",
        "    cudaFree(d_output);\n",
        "    free(h_n);\n",
        "    free(h_output);\n",
        "\n",
        "    return 0;\n",
        "\n",
        "}\n"
      ]
    },
    {
      "cell_type": "code",
      "source": [
        "!nvcc -o 1 1.cu"
      ],
      "metadata": {
        "id": "egCtYLmNI1gK"
      },
      "execution_count": 21,
      "outputs": []
    },
    {
      "cell_type": "code",
      "source": [
        "!./1"
      ],
      "metadata": {
        "colab": {
          "base_uri": "https://localhost:8080/"
        },
        "id": "pKWFyvdjM_Pb",
        "outputId": "bcd23e89-4ba6-4d36-adf2-3b466213f28d"
      },
      "execution_count": 22,
      "outputs": [
        {
          "output_type": "stream",
          "name": "stdout",
          "text": [
            "Prime numbers from CPU up to 100001:\n",
            "\n",
            "Time taken by CPU: 0.00844827 seconds\n",
            "Time taken by device (GPU): 0.000550208 seconds\n",
            "\n"
          ]
        }
      ]
    },
    {
      "cell_type": "code",
      "source": [],
      "metadata": {
        "id": "HOIDOm5JM_5X"
      },
      "execution_count": 24,
      "outputs": []
    },
    {
      "cell_type": "markdown",
      "source": [
        "## Adding __device__ function in above code"
      ],
      "metadata": {
        "id": "IG9iV3oEoomC"
      }
    },
    {
      "cell_type": "code",
      "source": [
        "%%writefile 2.cu\n",
        "\n",
        "#include <stdio.h>\n",
        "#include <stdlib.h>\n",
        "#include <cuda_runtime.h>\n",
        "#include <device_launch_parameters.h>\n",
        "#include <chrono>\n",
        "#include <iostream>\n",
        "\n",
        "\n",
        "__device__ void isPrime(int id, int *d_n, int *d_output, int limit) {\n",
        "    if (id >= 2 && id < limit) {\n",
        "        d_output[id] = 1; // Assume the number is prime\n",
        "        for (int i = 2; i * i <= d_n[id]; i++) {\n",
        "            if (d_n[id] % i == 0) {\n",
        "                d_output[id] = 0; // Mark as not prime if divisible\n",
        "                break;\n",
        "            }\n",
        "        }\n",
        "    }\n",
        "}\n",
        "\n",
        "__global__ void isPrimeGPU(int *d_n, int *d_output, int limit) {\n",
        "    int id = blockIdx.x * blockDim.x + threadIdx.x;\n",
        "    isPrime(id, d_n, d_output, limit);\n",
        "}\n",
        "\n",
        "int isPrimeCPU(int n) {\n",
        "    if (n <= 1) return 0;\n",
        "    for (int i = 2; i * i <= n; i++) {\n",
        "        if (n % i == 0) return 0;\n",
        "    }\n",
        "    return 1;\n",
        "}\n",
        "\n",
        "int main() {\n",
        "    int n = 100001;\n",
        "    int *h_n = (int *)malloc(n * sizeof(int));\n",
        "    int *h_output = (int *)malloc(n * sizeof(int));\n",
        "    int *d_n, *d_output;\n",
        "\n",
        "    for (int i = 0; i < n; i++) {\n",
        "        h_n[i] = i;\n",
        "    }\n",
        "\n",
        "    printf(\"Prime numbers from CPU up to %d:\\n\", n);\n",
        "\n",
        "    auto start_time = std::chrono::high_resolution_clock::now();\n",
        "    for (int i = 0; i < n; i++) {\n",
        "        if (isPrimeCPU(h_n[i])) {\n",
        "            // printf(\"%d \", h_n[i]);\n",
        "        }\n",
        "    }\n",
        "    printf(\"\\n\");\n",
        "    auto end_time = std::chrono::high_resolution_clock::now();\n",
        "\n",
        "    auto duration_ns = std::chrono::duration_cast<std::chrono::nanoseconds>(end_time - start_time).count();\n",
        "    double seconds_cpu = duration_ns / 1000000000.0;\n",
        "    std::cout << \"Time taken by CPU: \" << seconds_cpu << \" seconds\" << std::endl;\n",
        "\n",
        "    cudaMalloc((void**)&d_n, n * sizeof(int));\n",
        "    cudaMalloc((void**)&d_output, n * sizeof(int));\n",
        "\n",
        "    cudaMemcpy(d_n, h_n, n * sizeof(int), cudaMemcpyHostToDevice);\n",
        "\n",
        "    int threadsPerBlock = 1024;\n",
        "    int blocksPerGrid = (n + threadsPerBlock - 1) / threadsPerBlock;\n",
        "\n",
        "    cudaEvent_t start, stop;\n",
        "    cudaEventCreate(&start);\n",
        "    cudaEventCreate(&stop);\n",
        "\n",
        "    cudaEventRecord(start);\n",
        "    isPrimeGPU<<<blocksPerGrid, threadsPerBlock>>>(d_n, d_output, n);\n",
        "    cudaEventRecord(stop);\n",
        "    cudaDeviceSynchronize();\n",
        "    cudaEventSynchronize(stop);\n",
        "\n",
        "    float milliseconds_device = 0;\n",
        "    cudaEventElapsedTime(&milliseconds_device, start, stop);\n",
        "    double seconds_gpu = milliseconds_device / 1000.0;\n",
        "    std::cout << \"Time taken by device (GPU): \" << seconds_gpu << \" seconds\" << std::endl;\n",
        "\n",
        "    cudaMemcpy(h_output, d_output, n * sizeof(int), cudaMemcpyDeviceToHost);\n",
        "\n",
        "    printf(\"Prime numbers from GPU output:\\n\");\n",
        "    for (int i = 2; i < n; i++) {\n",
        "        if (h_output[i] == 1) {\n",
        "            //printf(\"%d \", i);\n",
        "        }\n",
        "    }\n",
        "    printf(\"\\n\");\n",
        "\n",
        "    cudaFree(d_n);\n",
        "    cudaFree(d_output);\n",
        "    free(h_n);\n",
        "    free(h_output);\n",
        "\n",
        "    return 0;\n",
        "}\n"
      ],
      "metadata": {
        "colab": {
          "base_uri": "https://localhost:8080/"
        },
        "id": "7LGO4b93m2gy",
        "outputId": "0baac07d-6fb7-41fb-c749-7ff7dd9117e7"
      },
      "execution_count": 4,
      "outputs": [
        {
          "output_type": "stream",
          "name": "stdout",
          "text": [
            "Overwriting 2.cu\n"
          ]
        }
      ]
    },
    {
      "cell_type": "code",
      "source": [
        "!nvcc -o 2 2.cu"
      ],
      "metadata": {
        "id": "668wJb8MQAu-"
      },
      "execution_count": 5,
      "outputs": []
    },
    {
      "cell_type": "code",
      "source": [
        "!./2"
      ],
      "metadata": {
        "colab": {
          "base_uri": "https://localhost:8080/"
        },
        "id": "OXvnXrisn-7S",
        "outputId": "b8e07a63-8862-4e86-9932-ac27d7c51640"
      },
      "execution_count": 6,
      "outputs": [
        {
          "output_type": "stream",
          "name": "stdout",
          "text": [
            "Prime numbers from CPU up to 100001:\n",
            "\n",
            "Time taken by CPU: 0.00930758 seconds\n",
            "Time taken by device (GPU): 0.000567872 seconds\n",
            "Prime numbers from GPU output:\n",
            "\n"
          ]
        }
      ]
    },
    {
      "cell_type": "markdown",
      "source": [
        "## Operations on CSV file\n"
      ],
      "metadata": {
        "id": "4uQ0kb9B5Tcr"
      }
    },
    {
      "cell_type": "code",
      "source": [
        "%%writefile 5.cu\n",
        "\n",
        "#include <stdio.h>\n",
        "#include <stdlib.h>\n",
        "#include <string.h>\n",
        "#include <cuda_runtime.h>\n",
        "\n",
        "#define MAX_LINE_LENGTH 1024\n",
        "\n",
        "typedef struct {\n",
        "    int runs;\n",
        "    int not_out;\n",
        "} playerInnings;\n",
        "\n",
        "__global__ void calcStats(playerInnings *innings, int numRecords, int *totalRuns, int *totalNotOuts) {\n",
        "    int id = threadIdx.x + blockIdx.x * blockDim.x;\n",
        "\n",
        "    __shared__ int runsBlock[256];\n",
        "    __shared__ int notOutsBlock[256];\n",
        "\n",
        "    runsBlock[threadIdx.x] = 0;\n",
        "    notOutsBlock[threadIdx.x] = 0;\n",
        "\n",
        "    // Each thread processes one record if within bounds\n",
        "    if (id < numRecords) {\n",
        "        runsBlock[threadIdx.x] = innings[id].runs;\n",
        "        notOutsBlock[threadIdx.x] = innings[id].not_out;\n",
        "    }\n",
        "\n",
        "    __syncthreads();\n",
        "\n",
        "    // Reduction within the block\n",
        "    for (int stride = blockDim.x / 2; stride > 0; stride /= 2) {\n",
        "        if (threadIdx.x < stride) {\n",
        "            runsBlock[threadIdx.x] += runsBlock[threadIdx.x + stride];\n",
        "            notOutsBlock[threadIdx.x] += notOutsBlock[threadIdx.x + stride];\n",
        "        }\n",
        "        __syncthreads();\n",
        "    }\n",
        "\n",
        "    if (threadIdx.x == 0) {\n",
        "        atomicAdd(totalRuns, runsBlock[0]);\n",
        "        atomicAdd(totalNotOuts, notOutsBlock[0]);\n",
        "    }\n",
        "}\n",
        "\n",
        "int main() {\n",
        "    FILE *file;\n",
        "    char line[MAX_LINE_LENGTH];\n",
        "    char playerName[100];\n",
        "\n",
        "    const char *fileName = \"odi_players_combined_filtered.csv\";\n",
        "    file = fopen(fileName, \"r\");\n",
        "    if (!file) {\n",
        "        fprintf(stderr, \"Error opening file: %s\\n\", fileName);\n",
        "        return EXIT_FAILURE;\n",
        "    }\n",
        "\n",
        "    printf(\"Enter the player's name: \");\n",
        "    fgets(playerName, sizeof(playerName), stdin);\n",
        "    playerName[strcspn(playerName, \"\\n\")] = 0;\n",
        "\n",
        "    playerInnings *filteredInnings = (playerInnings*)malloc(MAX_LINE_LENGTH * sizeof(playerInnings));\n",
        "    int numRecords = 0;\n",
        "\n",
        "    // Read the file and filter innings for the specified player\n",
        "    while (fgets(line, sizeof(line), file)) {\n",
        "        char inningsPlayer[100];\n",
        "        playerInnings innings;\n",
        "        sscanf(line, \"%99[^,],%d,%d\", inningsPlayer, &innings.runs, &innings.not_out);\n",
        "\n",
        "        if (strcmp(inningsPlayer, playerName) == 0) {\n",
        "            filteredInnings[numRecords++] = innings;\n",
        "        }\n",
        "    }\n",
        "    fclose(file);\n",
        "\n",
        "    playerInnings *d_innings;\n",
        "    int *d_totalRuns, *d_totalNotOuts;\n",
        "    int h_totalRuns = 0, h_totalNotOuts = 0;\n",
        "\n",
        "    cudaMalloc((void**)&d_innings, numRecords * sizeof(playerInnings));\n",
        "    cudaMalloc((void**)&d_totalRuns, sizeof(int));\n",
        "    cudaMalloc((void**)&d_totalNotOuts, sizeof(int));\n",
        "\n",
        "    cudaMemcpy(d_innings, filteredInnings, numRecords * sizeof(playerInnings), cudaMemcpyHostToDevice);\n",
        "    cudaMemcpy(d_totalRuns, &h_totalRuns, sizeof(int), cudaMemcpyHostToDevice);\n",
        "    cudaMemcpy(d_totalNotOuts, &h_totalNotOuts, sizeof(int), cudaMemcpyHostToDevice);\n",
        "\n",
        "    int threadsPerBlock = 256;\n",
        "    int blocksPerGrid = (numRecords + threadsPerBlock - 1) / threadsPerBlock;\n",
        "\n",
        "    calcStats<<<blocksPerGrid, threadsPerBlock>>>(d_innings, numRecords, d_totalRuns, d_totalNotOuts);\n",
        "    cudaDeviceSynchronize();\n",
        "\n",
        "    cudaMemcpy(&h_totalRuns, d_totalRuns, sizeof(int), cudaMemcpyDeviceToHost);\n",
        "    cudaMemcpy(&h_totalNotOuts, d_totalNotOuts, sizeof(int), cudaMemcpyDeviceToHost);\n",
        "\n",
        "    int totalInningsPlayed = numRecords;\n",
        "    float battingAverage = (totalInningsPlayed - h_totalNotOuts) > 0 ? (float)h_totalRuns / (totalInningsPlayed - h_totalNotOuts) : 0;\n",
        "\n",
        "    printf(\"Total Runs scored: %d\\n\", h_totalRuns);\n",
        "    printf(\"Total Not Outs: %d\\n\", h_totalNotOuts);\n",
        "    printf(\"Batting Average: %.2f\\n\", battingAverage);\n",
        "\n",
        "    cudaFree(d_innings);\n",
        "    cudaFree(d_totalRuns);\n",
        "    cudaFree(d_totalNotOuts);\n",
        "    free(filteredInnings);\n",
        "\n",
        "    return EXIT_SUCCESS;\n",
        "}\n"
      ],
      "metadata": {
        "colab": {
          "base_uri": "https://localhost:8080/"
        },
        "id": "eQOUpyCBCkaO",
        "outputId": "81a8b0b0-2b92-4750-85d2-1c8308ea11a6"
      },
      "execution_count": 4,
      "outputs": [
        {
          "output_type": "stream",
          "name": "stdout",
          "text": [
            "Overwriting 5.cu\n"
          ]
        }
      ]
    },
    {
      "cell_type": "code",
      "source": [
        "!nvcc -o 5 5.cu"
      ],
      "metadata": {
        "id": "PVqJuqR4DEj8"
      },
      "execution_count": 5,
      "outputs": []
    },
    {
      "cell_type": "code",
      "source": [
        "!./5"
      ],
      "metadata": {
        "colab": {
          "base_uri": "https://localhost:8080/"
        },
        "id": "WLugiKtdDIx2",
        "outputId": "83ca360f-15df-45a3-ad85-028680555b2b"
      },
      "execution_count": 8,
      "outputs": [
        {
          "output_type": "stream",
          "name": "stdout",
          "text": [
            "Enter the player's name: V Kohli\n",
            "Total Runs scored: 11867\n",
            "Total Not Outs: 39\n",
            "Batting Average: 59.33\n"
          ]
        }
      ]
    },
    {
      "cell_type": "code",
      "source": [],
      "metadata": {
        "id": "EKHmpSLHDLFF"
      },
      "execution_count": null,
      "outputs": []
    }
  ]
}