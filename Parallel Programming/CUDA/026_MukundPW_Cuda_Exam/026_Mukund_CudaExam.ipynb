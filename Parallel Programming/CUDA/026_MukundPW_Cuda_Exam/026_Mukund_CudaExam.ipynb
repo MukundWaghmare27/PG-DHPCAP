{
  "nbformat": 4,
  "nbformat_minor": 0,
  "metadata": {
    "colab": {
      "provenance": [],
      "gpuType": "T4"
    },
    "kernelspec": {
      "name": "python3",
      "display_name": "Python 3"
    },
    "language_info": {
      "name": "python"
    },
    "accelerator": "GPU"
  },
  "cells": [
    {
      "cell_type": "markdown",
      "source": [
        "## Q1: Matrix Addition\n"
      ],
      "metadata": {
        "id": "vsiRbAOhmSOx"
      }
    },
    {
      "cell_type": "code",
      "source": [
        "%%writefile 1.cu\n",
        "\n",
        "#include <stdio.h>\n",
        "#include <stdlib.h>\n",
        "#include <cuda.h>\n",
        "#include <cuda_runtime.h>\n",
        "#include <chrono>\n",
        "#include <omp.h>\n",
        "\n",
        "__global__ void matrix_Add_cuda(int *a, int *b, int *c, int n) {\n",
        "    int tid = threadIdx.x + blockIdx.x * blockDim.x;\n",
        "\n",
        "    if(tid < n * n) {\n",
        "        int row = tid / n;\n",
        "        int col = tid % n;\n",
        "        c[row * n + col] = a[row * n + col] + b[row * n + col];\n",
        "    }\n",
        "}\n",
        "\n",
        "void matrix_Add_OpenAcc(int *a, int *b, int *c, int n) {\n",
        "    #pragma acc parallel loop collapse(2) copyin(a[0:n][0:n], b[0:n][0:n]) copyout(c[0:n][0:n])\n",
        "    for (int i = 0; i < n; i++) {\n",
        "        for (int j = 0; j < n; j++) {\n",
        "            c[i * n + j] = a[i * n + j] + b[i * n + j];\n",
        "        }\n",
        "    }\n",
        "}\n",
        "\n",
        "void matrix_Add_cpu(int *a, int *b, int *c, int n) {\n",
        "    for (int i = 0; i < n; i++) {\n",
        "        for (int j = 0; j < n; j++) {\n",
        "            c[i * n + j] = a[i * n + j] + b[i * n + j];\n",
        "        }\n",
        "    }\n",
        "}\n",
        "\n",
        "int main() {\n",
        "    int sizes[] = {1024, 2048, 4096};\n",
        "    int n;\n",
        "\n",
        "    for (int idx = 0; idx < 3; idx++) {\n",
        "        n = sizes[idx];\n",
        "        int size = n * n * sizeof(int);\n",
        "\n",
        "        int *a = (int*)malloc(size);\n",
        "        int *b = (int*)malloc(size);\n",
        "        int *c = (int*)malloc(size);\n",
        "\n",
        "        for (int i = 0; i < n; i++) {\n",
        "            for (int j = 0; j < n; j++) {\n",
        "                a[i * n + j] = j + 1;\n",
        "                b[i * n + j] = j + 1;\n",
        "            }\n",
        "        }\n",
        "\n",
        "        int *d_a, *d_b, *d_c;\n",
        "        cudaMalloc((void**)&d_a, size);\n",
        "        cudaMalloc((void**)&d_b, size);\n",
        "        cudaMalloc((void**)&d_c, size);\n",
        "\n",
        "        cudaMemcpy(d_a, a, size, cudaMemcpyHostToDevice);\n",
        "        cudaMemcpy(d_b, b, size, cudaMemcpyHostToDevice);\n",
        "\n",
        "        // CUDA Matrix Addition\n",
        "        int threadsPerBlock = 1024;\n",
        "        int blocksPerGrid = (n * n + threadsPerBlock - 1) / threadsPerBlock;\n",
        "\n",
        "        auto start_cuda = std::chrono::high_resolution_clock::now();\n",
        "        matrix_Add_cuda<<<blocksPerGrid, threadsPerBlock>>>(d_a, d_b, d_c, n);\n",
        "        auto end_cuda = std::chrono::high_resolution_clock::now();\n",
        "        cudaDeviceSynchronize();\n",
        "\n",
        "        cudaMemcpy(c, d_c, size, cudaMemcpyDeviceToHost);\n",
        "\n",
        "        std::chrono::duration<double> duration_cuda = end_cuda - start_cuda;\n",
        "        printf(\"CUDA Matrix Addition (size %d) took: %f seconds\\n\", n, duration_cuda.count());\n",
        "\n",
        "        cudaFree(d_a);\n",
        "        cudaFree(d_b);\n",
        "        cudaFree(d_c);\n",
        "\n",
        "        // OpenACC Matrix Addition\n",
        "        auto start_openacc = std::chrono::high_resolution_clock::now();\n",
        "        matrix_Add_OpenAcc(a, b, c, n);\n",
        "        auto end_openacc = std::chrono::high_resolution_clock::now();\n",
        "\n",
        "        std::chrono::duration<double> duration_openacc = end_openacc - start_openacc;\n",
        "        printf(\"OpenACC Matrix Addition (size %d) took: %f seconds\\n\", n, duration_openacc.count());\n",
        "\n",
        "        // CPU Sequential Matrix Addition\n",
        "        auto start_cpu = std::chrono::high_resolution_clock::now();\n",
        "        matrix_Add_cpu(a, b, c, n);\n",
        "        auto end_cpu = std::chrono::high_resolution_clock::now();\n",
        "\n",
        "        std::chrono::duration<double> duration_cpu = end_cpu - start_cpu;\n",
        "        printf(\"CPU Sequential Matrix Addition (size %d) took: %f seconds\\n\", n, duration_cpu.count());\n",
        "\n",
        "        // Display a small part of the result matrix\n",
        "        printf(\"Result matrix for size %d (first 3x3 block):\\n\", n);\n",
        "        for (int i = 0; i < 3 && i < n; i++) {\n",
        "            for (int j = 0; j < 3 && j < n; j++) {\n",
        "                printf(\"%d \", c[i * n + j]);\n",
        "            }\n",
        "            printf(\"\\n\");\n",
        "        }\n",
        "        printf(\"\\n\");\n",
        "\n",
        "        free(a);\n",
        "        free(b);\n",
        "        free(c);\n",
        "    }\n",
        "\n",
        "    return 0;\n",
        "}\n"
      ],
      "metadata": {
        "colab": {
          "base_uri": "https://localhost:8080/"
        },
        "id": "B-zEinyo0Tog",
        "outputId": "a6062d58-d481-4e91-b7a4-9ca9dd013ec4"
      },
      "execution_count": 12,
      "outputs": [
        {
          "output_type": "stream",
          "name": "stdout",
          "text": [
            "Overwriting 1.cu\n"
          ]
        }
      ]
    },
    {
      "cell_type": "code",
      "source": [
        "!nvcc -o 1 1.cu"
      ],
      "metadata": {
        "id": "JXNuOSya0qyh"
      },
      "execution_count": 13,
      "outputs": []
    },
    {
      "cell_type": "code",
      "source": [
        "!./1"
      ],
      "metadata": {
        "colab": {
          "base_uri": "https://localhost:8080/"
        },
        "id": "ccYqKM160uuA",
        "outputId": "3d4713f8-14bb-44a9-c0b5-420310ff2a27"
      },
      "execution_count": 14,
      "outputs": [
        {
          "output_type": "stream",
          "name": "stdout",
          "text": [
            "CUDA Matrix Addition (size 1024) took: 0.000164 seconds\n",
            "OpenACC Matrix Addition (size 1024) took: 0.003666 seconds\n",
            "CPU Sequential Matrix Addition (size 1024) took: 0.003463 seconds\n",
            "Result matrix for size 1024 (first 3x3 block):\n",
            "2 4 6 \n",
            "2 4 6 \n",
            "2 4 6 \n",
            "\n",
            "CUDA Matrix Addition (size 2048) took: 0.000017 seconds\n",
            "OpenACC Matrix Addition (size 2048) took: 0.013858 seconds\n",
            "CPU Sequential Matrix Addition (size 2048) took: 0.013915 seconds\n",
            "Result matrix for size 2048 (first 3x3 block):\n",
            "2 4 6 \n",
            "2 4 6 \n",
            "2 4 6 \n",
            "\n",
            "CUDA Matrix Addition (size 4096) took: 0.000019 seconds\n",
            "OpenACC Matrix Addition (size 4096) took: 0.057156 seconds\n",
            "CPU Sequential Matrix Addition (size 4096) took: 0.055521 seconds\n",
            "Result matrix for size 4096 (first 3x3 block):\n",
            "2 4 6 \n",
            "2 4 6 \n",
            "2 4 6 \n",
            "\n"
          ]
        }
      ]
    },
    {
      "cell_type": "markdown",
      "source": [
        "## Q2: Histogram of Array"
      ],
      "metadata": {
        "id": "rtq2y0B-68cw"
      }
    },
    {
      "cell_type": "code",
      "source": [
        "%%writefile 2.cu\n",
        "\n",
        "#include <stdio.h>\n",
        "#include <stdlib.h>\n",
        "#include <chrono>\n",
        "#include <time.h>\n",
        "#include <cuda_runtime.h>\n",
        "#include <cuda.h>\n",
        "#include <openacc.h>\n",
        "\n",
        "#define ARRAY_SIZE 10000000\n",
        "#define MAX_VALUE 100\n",
        "\n",
        "__global__ void compute_histogram_cuda(int *array, int *histogram, int size) {\n",
        "    int id = threadIdx.x + blockIdx.x * blockDim.x;\n",
        "\n",
        "    if (id < size) {\n",
        "        atomicAdd(&histogram[array[id]], 1);\n",
        "    }\n",
        "}\n",
        "\n",
        "void compute_histogram_OpenAcc(int *array, int *histogram, int size) {\n",
        "    #pragma acc parallel loop copyin(array[0:ARRAY_SIZE]) copyout(histogram[0:ARRAY_SIZE])\n",
        "     for (int i = 0; i < size; i++) {\n",
        "        int value = array[i];\n",
        "        histogram[value]++;\n",
        "    }\n",
        "}\n",
        "\n",
        "int main() {\n",
        "    int *array = (int *)malloc(ARRAY_SIZE * sizeof(int));\n",
        "    int *histogram_OpenAcc = (int *)calloc(MAX_VALUE, sizeof(int));\n",
        "    int *histogram_cuda = (int *)calloc(MAX_VALUE, sizeof(int));\n",
        "\n",
        "    if (!array || !histogram_OpenAcc || !histogram_cuda) {\n",
        "        fprintf(stderr, \"Memory allocation failed\\n\");\n",
        "        return 1;\n",
        "    }\n",
        "\n",
        "    srand(time(NULL));\n",
        "    for (int i = 0; i < ARRAY_SIZE; i++) {\n",
        "        array[i] = rand() % MAX_VALUE;\n",
        "    }\n",
        "\n",
        "////////////////////OpenAcc Computation/////////////////////////////////////////////\n",
        "\n",
        "    auto start = std::chrono::high_resolution_clock::now();\n",
        "    compute_histogram_OpenAcc(array, histogram_OpenAcc, ARRAY_SIZE);\n",
        "    auto end = std::chrono::high_resolution_clock::now();\n",
        "\n",
        "    double elapsed_time_OpenAcc = std::chrono::duration<double, std::milli>(end - start).count();\n",
        "\n",
        "    printf(\"For OpenAcc: \\n\");\n",
        "    printf(\"Value: \");\n",
        "    for (int i = 0; i < MAX_VALUE; i++) {\n",
        "        printf(\"%d \", i);\n",
        "    }\n",
        "\n",
        "    printf(\"\\nCount: \");\n",
        "    for (int i = 0; i < MAX_VALUE; i++) {\n",
        "        printf(\"%d \", histogram_OpenAcc[i]);\n",
        "    }\n",
        "    printf(\"\\n\");\n",
        "\n",
        "    printf(\"OpenAcc Execution Time: %.3f ms\\n\", elapsed_time_OpenAcc);\n",
        "\n",
        "////////////////CUDA Computation/////////////////////////////////////////////////////////////////\n",
        "\n",
        "    // CUDA memory allocation\n",
        "    int *d_array, *d_histogram;\n",
        "    cudaMalloc((void **)&d_array, ARRAY_SIZE * sizeof(int));\n",
        "    cudaMalloc((void **)&d_histogram, MAX_VALUE * sizeof(int));\n",
        "\n",
        "    cudaMemcpy(d_array, array, ARRAY_SIZE * sizeof(int), cudaMemcpyHostToDevice);\n",
        "    cudaMemset(d_histogram, 0, MAX_VALUE * sizeof(int));\n",
        "\n",
        "    int threadsPerBlock = 256;\n",
        "    int blocksPerGrid = (ARRAY_SIZE + threadsPerBlock - 1) / threadsPerBlock;\n",
        "\n",
        "    cudaEvent_t start_event, stop_event;\n",
        "    cudaEventCreate(&start_event);\n",
        "    cudaEventCreate(&stop_event);\n",
        "\n",
        "    cudaEventRecord(start_event, 0);\n",
        "    compute_histogram_cuda<<<blocksPerGrid, threadsPerBlock>>>(d_array, d_histogram, ARRAY_SIZE);\n",
        "    cudaEventRecord(stop_event, 0);\n",
        "    cudaEventSynchronize(stop_event);\n",
        "\n",
        "    float elapsed_time_cuda = 0;\n",
        "    cudaEventElapsedTime(&elapsed_time_cuda, start_event, stop_event);\n",
        "\n",
        "    cudaMemcpy(histogram_cuda, d_histogram, MAX_VALUE * sizeof(int), cudaMemcpyDeviceToHost);\n",
        "\n",
        "    printf(\"\\nFor Cuda: \\n\");\n",
        "    printf(\"Value: \");\n",
        "    for (int i = 0; i < MAX_VALUE; i++) {\n",
        "        printf(\"%d \", i);\n",
        "    }\n",
        "\n",
        "    printf(\"\\nCount: \");\n",
        "    for (int i = 0; i < MAX_VALUE; i++) {\n",
        "        printf(\"%d \", histogram_cuda[i]);\n",
        "    }\n",
        "    printf(\"\\n\");\n",
        "\n",
        "    printf(\"CUDA Execution Time: %.3f ms\\n\", elapsed_time_cuda);\n",
        "\n",
        "    free(array);\n",
        "    free(histogram_cuda);\n",
        "    free(histogram_OpenAcc);\n",
        "    cudaFree(d_array);\n",
        "    cudaFree(d_histogram);\n",
        "\n",
        "    return 0;\n",
        "}\n"
      ],
      "metadata": {
        "colab": {
          "base_uri": "https://localhost:8080/"
        },
        "id": "ct0LB-N42W9N",
        "outputId": "1cdfd74a-1241-4e92-99f0-47b87abbdcb9"
      },
      "execution_count": 51,
      "outputs": [
        {
          "output_type": "stream",
          "name": "stdout",
          "text": [
            "Overwriting 2.cu\n"
          ]
        }
      ]
    },
    {
      "cell_type": "code",
      "source": [
        "!nvcc -o 2 2.cu"
      ],
      "metadata": {
        "id": "dcKP0-MX2gGR"
      },
      "execution_count": 52,
      "outputs": []
    },
    {
      "cell_type": "code",
      "source": [
        "!./2"
      ],
      "metadata": {
        "colab": {
          "base_uri": "https://localhost:8080/"
        },
        "id": "czi82eSW2kdw",
        "outputId": "d794cf84-d69c-476d-fbda-2c126e0d7bf2"
      },
      "execution_count": 53,
      "outputs": [
        {
          "output_type": "stream",
          "name": "stdout",
          "text": [
            "For OpenAcc: \n",
            "Value: 0 1 2 3 4 5 6 7 8 9 10 11 12 13 14 15 16 17 18 19 20 21 22 23 24 25 26 27 28 29 30 31 32 33 34 35 36 37 38 39 40 41 42 43 44 45 46 47 48 49 50 51 52 53 54 55 56 57 58 59 60 61 62 63 64 65 66 67 68 69 70 71 72 73 74 75 76 77 78 79 80 81 82 83 84 85 86 87 88 89 90 91 92 93 94 95 96 97 98 99 \n",
            "Count: 100110 99942 100042 100036 99609 99946 99950 100011 99926 99445 100273 100182 99734 99953 100102 99846 100091 99962 99820 99989 100498 99853 100042 99486 100098 99878 100162 100768 100608 100697 99908 100301 100126 99504 99698 100541 99926 100305 99530 99840 99825 99480 100466 100046 99749 99822 99821 100650 99511 100209 99974 100117 99746 99638 99710 99734 100055 100262 100498 99951 99892 100396 99967 100219 100252 99980 99960 99195 100448 100285 99803 100771 100720 100320 99705 100078 99412 100385 99497 100459 99933 99725 100240 99487 99750 100065 100669 99680 99959 100056 100367 99613 100223 99443 100351 99274 100115 99690 99665 99949 \n",
            "OpenAcc Execution Time: 25.624 ms\n",
            "\n",
            "For Cuda: \n",
            "Value: 0 1 2 3 4 5 6 7 8 9 10 11 12 13 14 15 16 17 18 19 20 21 22 23 24 25 26 27 28 29 30 31 32 33 34 35 36 37 38 39 40 41 42 43 44 45 46 47 48 49 50 51 52 53 54 55 56 57 58 59 60 61 62 63 64 65 66 67 68 69 70 71 72 73 74 75 76 77 78 79 80 81 82 83 84 85 86 87 88 89 90 91 92 93 94 95 96 97 98 99 \n",
            "Count: 100110 99942 100042 100036 99609 99946 99950 100011 99926 99445 100273 100182 99734 99953 100102 99846 100091 99962 99820 99989 100498 99853 100042 99486 100098 99878 100162 100768 100608 100697 99908 100301 100126 99504 99698 100541 99926 100305 99530 99840 99825 99480 100466 100046 99749 99822 99821 100650 99511 100209 99974 100117 99746 99638 99710 99734 100055 100262 100498 99951 99892 100396 99967 100219 100252 99980 99960 99195 100448 100285 99803 100771 100720 100320 99705 100078 99412 100385 99497 100459 99933 99725 100240 99487 99750 100065 100669 99680 99959 100056 100367 99613 100223 99443 100351 99274 100115 99690 99665 99949 \n",
            "CUDA Execution Time: 5.011 ms\n"
          ]
        }
      ]
    }
  ]
}