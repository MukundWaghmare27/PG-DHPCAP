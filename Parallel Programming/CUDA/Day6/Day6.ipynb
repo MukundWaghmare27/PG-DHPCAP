{
  "nbformat": 4,
  "nbformat_minor": 0,
  "metadata": {
    "colab": {
      "provenance": []
    },
    "kernelspec": {
      "name": "python3",
      "display_name": "Python 3"
    },
    "language_info": {
      "name": "python"
    }
  },
  "cells": [
    {
      "cell_type": "markdown",
      "source": [
        "## Multi Dimensional Kernel Defining"
      ],
      "metadata": {
        "id": "LTPUia9cKn2z"
      }
    },
    {
      "cell_type": "code",
      "execution_count": 1,
      "metadata": {
        "colab": {
          "base_uri": "https://localhost:8080/"
        },
        "id": "uSrAUBh36aEz",
        "outputId": "e7b2e23c-9072-4071-cfd5-b9a4d42ccf45"
      },
      "outputs": [
        {
          "output_type": "stream",
          "name": "stdout",
          "text": [
            "Writing 1.cu\n"
          ]
        }
      ],
      "source": [
        "%%writefile 1.cu\n",
        "\n",
        "#include <stdio.h>\n",
        "#include <cuda_runtime.h>\n",
        "\n",
        "__global__ void kernel(){\n",
        "\n",
        "  int bx = blockIdx.x;\n",
        "  int by = blockIdx.y;\n",
        "  int tx = threadIdx.x;\n",
        "  int ty = threadIdx.y;\n",
        "  int gd = gridDim.x;\n",
        "  int bd = blockDim.x;\n",
        "\n",
        "  int idx = ( by * gridDim.x + bx) * (blockDim.x * blockDim.y) + (ty * blockDim.x) + tx;\n",
        "  // int idx = (0 * 5 + bx) * (bd * 1) + (0 * 5) +  tx                           ----->Same as above line\n",
        "\n",
        "  printf(\"Block (%d, %d), Thread (%d, %d), Griddim.x (%d), Blockdim.x (%d), Global index: %d\\n\", bx, by, tx, ty, gd, bd, idx);\n",
        "\n",
        "}\n",
        "\n",
        "int main(){\n",
        "  dim3 A(2,2);\n",
        "  dim3 blockDim(2,2);\n",
        "\n",
        "  kernel<<<A, blockDim>>>();\n",
        "\n",
        "  cudaDeviceSynchronize();\n",
        "\n",
        "  return 0;\n",
        "\n",
        "}\n"
      ]
    },
    {
      "cell_type": "code",
      "source": [
        "!nvcc -o 1 1.cu"
      ],
      "metadata": {
        "id": "a8XVmJVl8NGq"
      },
      "execution_count": 2,
      "outputs": []
    },
    {
      "cell_type": "code",
      "source": [
        "!./1"
      ],
      "metadata": {
        "colab": {
          "base_uri": "https://localhost:8080/"
        },
        "id": "nCXUclV88Ygb",
        "outputId": "39381b2a-8944-4dd8-ea03-3676cc2d2ad6"
      },
      "execution_count": 3,
      "outputs": [
        {
          "output_type": "stream",
          "name": "stdout",
          "text": [
            "Block (0, 1), Thread (0, 0), Griddim.x (2), Blockdim.x (2), Global index: 8\n",
            "Block (0, 1), Thread (1, 0), Griddim.x (2), Blockdim.x (2), Global index: 9\n",
            "Block (0, 1), Thread (0, 1), Griddim.x (2), Blockdim.x (2), Global index: 10\n",
            "Block (0, 1), Thread (1, 1), Griddim.x (2), Blockdim.x (2), Global index: 11\n",
            "Block (0, 0), Thread (0, 0), Griddim.x (2), Blockdim.x (2), Global index: 0\n",
            "Block (0, 0), Thread (1, 0), Griddim.x (2), Blockdim.x (2), Global index: 1\n",
            "Block (0, 0), Thread (0, 1), Griddim.x (2), Blockdim.x (2), Global index: 2\n",
            "Block (0, 0), Thread (1, 1), Griddim.x (2), Blockdim.x (2), Global index: 3\n",
            "Block (1, 1), Thread (0, 0), Griddim.x (2), Blockdim.x (2), Global index: 12\n",
            "Block (1, 1), Thread (1, 0), Griddim.x (2), Blockdim.x (2), Global index: 13\n",
            "Block (1, 1), Thread (0, 1), Griddim.x (2), Blockdim.x (2), Global index: 14\n",
            "Block (1, 1), Thread (1, 1), Griddim.x (2), Blockdim.x (2), Global index: 15\n",
            "Block (1, 0), Thread (0, 0), Griddim.x (2), Blockdim.x (2), Global index: 4\n",
            "Block (1, 0), Thread (1, 0), Griddim.x (2), Blockdim.x (2), Global index: 5\n",
            "Block (1, 0), Thread (0, 1), Griddim.x (2), Blockdim.x (2), Global index: 6\n",
            "Block (1, 0), Thread (1, 1), Griddim.x (2), Blockdim.x (2), Global index: 7\n"
          ]
        }
      ]
    },
    {
      "cell_type": "code",
      "source": [
        "  %%writefile 2.cu\n",
        "\n",
        "  #include <stdio.h>\n",
        "  #include <cuda_runtime.h>\n",
        "\n",
        "  #define M 4\n",
        "  #define N 5\n",
        "\n",
        "  __global__ void addArrays2D(int *d_result, int* d_array1, int *d_array2){\n",
        "    int bx = blockIdx.x;\n",
        "    int by = blockIdx.y;\n",
        "    int tx = threadIdx.x;\n",
        "    int ty = threadIdx.y;\n",
        "\n",
        "    int row = by * blockDim.y + ty;\n",
        "    int col = bx * blockDim.x + tx;\n",
        "\n",
        "    int tid = row * (blockDim.x) + col;\n",
        "\n",
        "    printf(\"Globally unique thread number: %d\\n\", tid);\n",
        "\n",
        "    if(row < M && col < N){\n",
        "      int result = d_array1[row * N + col] + d_array2[row * N + col];\n",
        "      d_result[row * N + col] = result;\n",
        "    }\n",
        "  }\n",
        "\n",
        "  int main(){\n",
        "    int host_array1[M][N] = {\n",
        "      {1,2,3,4,5},\n",
        "      {6,7,8,9,10},\n",
        "      {11,12,13,14,15},\n",
        "      {16,17,18,19,20},\n",
        "    };\n",
        "    int host_array2[M][N] = {\n",
        "      {21,22,23,24,25},\n",
        "      {26,27,28,29,30},\n",
        "      {31,32,33,34,35},\n",
        "      {36,37,38,39,40}\n",
        "    };\n",
        "\n",
        "    int *d_array1, *d_array2, *d_result;\n",
        "    cudaMalloc((void**)&d_array1, M*N * sizeof(int));\n",
        "    cudaMalloc((void**)&d_array2, M*N * sizeof(int));\n",
        "    cudaMalloc((void**)&d_result, M*N * sizeof(int));\n",
        "\n",
        "    cudaMemcpy(d_array1, host_array1, M*N * sizeof(int), cudaMemcpyHostToDevice);\n",
        "    cudaMemcpy(d_array2, host_array2, M*N * sizeof(int), cudaMemcpyHostToDevice);\n",
        "\n",
        "    int threadsPerBlockX = N;\n",
        "    int threadsPerBlockY = M;\n",
        "\n",
        "    dim3 threadsPerBlock(threadsPerBlockX,threadsPerBlockY,1) ;\n",
        "\n",
        "    int numBlockX = (N + threadsPerBlockX -1) / threadsPerBlockX;\n",
        "    int numBlockY = (M + threadsPerBlockY -1) / threadsPerBlockY;\n",
        "    dim3 blocksPerGrid(numBlockX, numBlockY, 1);\n",
        "\n",
        "    addArrays2D<<<blocksPerGrid, threadsPerBlock>>> (d_result, d_array1, d_array2);\n",
        "\n",
        "    int host_result[M][N];\n",
        "\n",
        "    cudaMemcpy(host_result, d_result, M*N * sizeof(int), cudaMemcpyDeviceToHost);\n",
        "\n",
        "    printf(\"Resulting Array: \\n\");\n",
        "    for(int i=0; i<M; i++){\n",
        "      for(int j=0; j<N; j++){\n",
        "        printf(\"%d \", host_result[i][j]);\n",
        "      }\n",
        "      printf(\"\\n\");\n",
        "    }\n",
        "\n",
        "    cudaFree(d_array1);\n",
        "    cudaFree(d_array2);\n",
        "    cudaFree(d_result);\n",
        "  }"
      ],
      "metadata": {
        "colab": {
          "base_uri": "https://localhost:8080/"
        },
        "id": "jy2fOGVo8e96",
        "outputId": "00860849-c1df-440a-ef62-00c1785de60b"
      },
      "execution_count": 12,
      "outputs": [
        {
          "output_type": "stream",
          "name": "stdout",
          "text": [
            "Overwriting 2.cu\n"
          ]
        }
      ]
    },
    {
      "cell_type": "code",
      "source": [
        "!nvcc -o 2 2.cu"
      ],
      "metadata": {
        "id": "hUMhqCF5Tp4L"
      },
      "execution_count": 13,
      "outputs": []
    },
    {
      "cell_type": "code",
      "source": [
        "!./2"
      ],
      "metadata": {
        "colab": {
          "base_uri": "https://localhost:8080/"
        },
        "id": "AaRFEVolTsle",
        "outputId": "b3764fbd-4203-4588-fa69-e5adbeb9d06b"
      },
      "execution_count": 14,
      "outputs": [
        {
          "output_type": "stream",
          "name": "stdout",
          "text": [
            "Globally unique thread number: 0\n",
            "Globally unique thread number: 1\n",
            "Globally unique thread number: 2\n",
            "Globally unique thread number: 3\n",
            "Globally unique thread number: 4\n",
            "Globally unique thread number: 5\n",
            "Globally unique thread number: 6\n",
            "Globally unique thread number: 7\n",
            "Globally unique thread number: 8\n",
            "Globally unique thread number: 9\n",
            "Globally unique thread number: 10\n",
            "Globally unique thread number: 11\n",
            "Globally unique thread number: 12\n",
            "Globally unique thread number: 13\n",
            "Globally unique thread number: 14\n",
            "Globally unique thread number: 15\n",
            "Globally unique thread number: 16\n",
            "Globally unique thread number: 17\n",
            "Globally unique thread number: 18\n",
            "Globally unique thread number: 19\n",
            "Resulting Array: \n",
            "22 24 26 28 30 \n",
            "32 34 36 38 40 \n",
            "42 44 46 48 50 \n",
            "52 54 56 58 60 \n"
          ]
        }
      ]
    },
    {
      "cell_type": "code",
      "source": [],
      "metadata": {
        "id": "voYonNRQUoV_"
      },
      "execution_count": null,
      "outputs": []
    }
  ]
}