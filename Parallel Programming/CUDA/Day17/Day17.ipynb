{
  "nbformat": 4,
  "nbformat_minor": 0,
  "metadata": {
    "colab": {
      "provenance": [],
      "gpuType": "T4"
    },
    "kernelspec": {
      "name": "python3",
      "display_name": "Python 3"
    },
    "language_info": {
      "name": "python"
    },
    "accelerator": "GPU"
  },
  "cells": [
    {
      "cell_type": "markdown",
      "source": [
        "## Histogram of Array CPU & GPU --> Cpp & CUDA & OpenAcc Code"
      ],
      "metadata": {
        "id": "FLocSxqFeMPC"
      }
    },
    {
      "cell_type": "code",
      "execution_count": 51,
      "metadata": {
        "colab": {
          "base_uri": "https://localhost:8080/"
        },
        "id": "gcBakrSQ9mMt",
        "outputId": "f0b7fa0a-7811-4997-b39d-f2a2cbf4fbd0"
      },
      "outputs": [
        {
          "output_type": "stream",
          "name": "stdout",
          "text": [
            "Overwriting 1.cpp\n"
          ]
        }
      ],
      "source": [
        "%%writefile 1.cpp\n",
        "\n",
        "#include <stdio.h>\n",
        "#include <stdlib.h>\n",
        "#include <chrono>\n",
        "#include <time.h>\n",
        "\n",
        "#define ARRAY_SIZE 250000000\n",
        "#define MAX_VALUE 100\n",
        "\n",
        "void compute_histogram_cpu(int *array, int *histogram, int size) {\n",
        "    for (int i = 0; i < size; i++) {\n",
        "        int value = array[i];\n",
        "        histogram[value]++;\n",
        "    }\n",
        "}\n",
        "\n",
        "int main() {\n",
        "    int *array = (int *)malloc(ARRAY_SIZE * sizeof(int));\n",
        "    int *histogram = (int *)calloc(MAX_VALUE, sizeof(int));\n",
        "\n",
        "    if (!array || !histogram) {\n",
        "        fprintf(stderr, \"Memory allocation failed\\n\");\n",
        "        return 1;\n",
        "    }\n",
        "\n",
        "    // Seed the random number generator and initialize the array with random values\n",
        "    srand(time(NULL));\n",
        "    for (int i = 0; i < ARRAY_SIZE; i++) {\n",
        "        array[i] = rand() % MAX_VALUE;\n",
        "\n",
        "    auto start = std::chrono::high_resolution_clock::now();\n",
        "    compute_histogram_cpu(array, histogram, ARRAY_SIZE);\n",
        "    auto end = std::chrono::high_resolution_clock::now();\n",
        "\n",
        "    double elapsed_time = std::chrono::duration<double, std::milli>(end - start).count();\n",
        "\n",
        "    printf(\"Value: \");\n",
        "    for (int i = 0; i < MAX_VALUE; i++) {\n",
        "        printf(\"%d \", i);\n",
        "    }\n",
        "\n",
        "    printf(\"\\nCount: \");\n",
        "    for (int i = 0; i < MAX_VALUE; i++) {\n",
        "        printf(\"%d \", histogram[i]);\n",
        "    }\n",
        "    printf(\"\\n\");\n",
        "\n",
        "    printf(\"Execution Time: %.3f ms\\n\", elapsed_time);\n",
        "\n",
        "    free(array);\n",
        "    free(histogram);\n",
        "\n",
        "    return 0;\n",
        "}\n",
        "}\n"
      ]
    },
    {
      "cell_type": "code",
      "source": [
        "!g++ -o 1 1.cpp"
      ],
      "metadata": {
        "id": "K4AtuefEFlYD"
      },
      "execution_count": 52,
      "outputs": []
    },
    {
      "cell_type": "code",
      "source": [
        "!./1"
      ],
      "metadata": {
        "colab": {
          "base_uri": "https://localhost:8080/"
        },
        "id": "dmX6n2sGFos9",
        "outputId": "986b2cfa-b5a2-4a36-f13a-cbc1a84928a4"
      },
      "execution_count": 53,
      "outputs": [
        {
          "output_type": "stream",
          "name": "stdout",
          "text": [
            "Value: 0 1 2 3 4 5 6 7 8 9 10 11 12 13 14 15 16 17 18 19 20 21 22 23 24 25 26 27 28 29 30 31 32 33 34 35 36 37 38 39 40 41 42 43 44 45 46 47 48 49 50 51 52 53 54 55 56 57 58 59 60 61 62 63 64 65 66 67 68 69 70 71 72 73 74 75 76 77 78 79 80 81 82 83 84 85 86 87 88 89 90 91 92 93 94 95 96 97 98 99 \n",
            "Count: 249999999 0 0 0 0 0 0 0 0 0 0 0 0 0 0 0 0 0 0 0 0 0 0 0 0 0 0 0 0 0 0 0 0 0 0 0 0 0 0 0 0 0 0 0 0 0 0 0 0 0 0 0 0 0 0 0 0 0 0 0 0 0 0 0 0 0 0 0 0 0 0 0 0 0 0 0 1 0 0 0 0 0 0 0 0 0 0 0 0 0 0 0 0 0 0 0 0 0 0 0 \n",
            "Execution Time: 1008.199 ms\n"
          ]
        }
      ]
    },
    {
      "cell_type": "code",
      "source": [
        "%%writefile 2.cu\n",
        "\n",
        "#include <stdio.h>\n",
        "#include <stdlib.h>\n",
        "#include <chrono>\n",
        "#include <time.h>\n",
        "#include <cuda_runtime.h>\n",
        "#include <cuda.h>\n",
        "\n",
        "#define ARRAY_SIZE 250000000\n",
        "#define MAX_VALUE 100\n",
        "\n",
        "__global__ void compute_histogram_gpu(int *array, int *histogram, int size) {\n",
        "    int id = threadIdx.x + blockIdx.x * blockDim.x;\n",
        "\n",
        "    if (id < size) {\n",
        "        atomicAdd(&histogram[array[id]], 1);\n",
        "    }\n",
        "}\n",
        "\n",
        "void compute_histogram_cpu(int *array, int *histogram, int size) {\n",
        "    for (int i = 0; i < size; i++) {\n",
        "        int value = array[i];\n",
        "        histogram[value]++;\n",
        "    }\n",
        "}\n",
        "\n",
        "int main() {\n",
        "    int *array = (int *)malloc(ARRAY_SIZE * sizeof(int));\n",
        "    int *histogram_cpu = (int *)calloc(MAX_VALUE, sizeof(int));\n",
        "    int *histogram_gpu = (int *)calloc(MAX_VALUE, sizeof(int));\n",
        "\n",
        "    if (!array || !histogram_cpu || !histogram_gpu) {\n",
        "        fprintf(stderr, \"Memory allocation failed\\n\");\n",
        "        return 1;\n",
        "    }\n",
        "\n",
        "    srand(time(NULL));\n",
        "    for (int i = 0; i < ARRAY_SIZE; i++) {\n",
        "        array[i] = rand() % MAX_VALUE;\n",
        "    }\n",
        "\n",
        "    auto start = std::chrono::high_resolution_clock::now();\n",
        "    compute_histogram_cpu(array, histogram_cpu, ARRAY_SIZE);\n",
        "    auto end = std::chrono::high_resolution_clock::now();\n",
        "\n",
        "    double elapsed_time_cpu = std::chrono::duration<double, std::milli>(end - start).count();\n",
        "\n",
        "    printf(\"From CPU: \\n\");\n",
        "    printf(\"Value: \");\n",
        "    for (int i = 0; i < MAX_VALUE; i++) {\n",
        "        printf(\"%d \", i);\n",
        "    }\n",
        "\n",
        "    printf(\"\\nCount: \");\n",
        "    for (int i = 0; i < MAX_VALUE; i++) {\n",
        "        printf(\"%d \", histogram_cpu[i]);\n",
        "    }\n",
        "    printf(\"\\n\");\n",
        "\n",
        "    printf(\"CPU Execution Time: %.3f ms\\n\", elapsed_time_cpu);\n",
        "\n",
        "////////////////CUDA CODE/////////////////////////////////////////////////////////////////\n",
        "\n",
        "    // CUDA memory allocation\n",
        "    int *d_array, *d_histogram;\n",
        "    cudaMalloc((void **)&d_array, ARRAY_SIZE * sizeof(int));\n",
        "    cudaMalloc((void **)&d_histogram, MAX_VALUE * sizeof(int));\n",
        "\n",
        "    cudaMemcpy(d_array, array, ARRAY_SIZE * sizeof(int), cudaMemcpyHostToDevice);\n",
        "    cudaMemset(d_histogram, 0, MAX_VALUE * sizeof(int));\n",
        "\n",
        "    int threadsPerBlock = 256;\n",
        "    int blocksPerGrid = (ARRAY_SIZE + threadsPerBlock - 1) / threadsPerBlock;\n",
        "\n",
        "    cudaEvent_t start_event, stop_event;\n",
        "    cudaEventCreate(&start_event);\n",
        "    cudaEventCreate(&stop_event);\n",
        "\n",
        "    cudaEventRecord(start_event, 0);\n",
        "    compute_histogram_gpu<<<blocksPerGrid, threadsPerBlock>>>(d_array, d_histogram, ARRAY_SIZE);\n",
        "    cudaEventRecord(stop_event, 0);\n",
        "    cudaEventSynchronize(stop_event);\n",
        "\n",
        "    float elapsed_time_gpu = 0;\n",
        "    cudaEventElapsedTime(&elapsed_time_gpu, start_event, stop_event);\n",
        "\n",
        "    cudaMemcpy(histogram_gpu, d_histogram, MAX_VALUE * sizeof(int), cudaMemcpyDeviceToHost);\n",
        "\n",
        "    printf(\"\\nFrom GPU: \\n\");\n",
        "    printf(\"Value: \");\n",
        "    for (int i = 0; i < MAX_VALUE; i++) {\n",
        "        printf(\"%d \", i);\n",
        "    }\n",
        "\n",
        "    printf(\"\\nCount: \");\n",
        "    for (int i = 0; i < MAX_VALUE; i++) {\n",
        "        printf(\"%d \", histogram_gpu[i]);\n",
        "    }\n",
        "    printf(\"\\n\");\n",
        "\n",
        "    printf(\"GPU Execution Time: %.3f ms\\n\", elapsed_time_gpu);\n",
        "\n",
        "    free(array);\n",
        "    free(histogram_cpu);\n",
        "    free(histogram_gpu);\n",
        "    cudaFree(d_array);\n",
        "    cudaFree(d_histogram);\n",
        "\n",
        "    return 0;\n",
        "}\n"
      ],
      "metadata": {
        "colab": {
          "base_uri": "https://localhost:8080/"
        },
        "id": "LFsEpbTpFvF9",
        "outputId": "523d902f-4535-4681-acc3-8448e8a883bb"
      },
      "execution_count": 52,
      "outputs": [
        {
          "output_type": "stream",
          "name": "stdout",
          "text": [
            "Overwriting 2.cu\n"
          ]
        }
      ]
    },
    {
      "cell_type": "code",
      "source": [
        "!nvcc -o 2 2.cu"
      ],
      "metadata": {
        "id": "BDWvpNIpPlcR"
      },
      "execution_count": 53,
      "outputs": []
    },
    {
      "cell_type": "code",
      "source": [
        "!./2"
      ],
      "metadata": {
        "colab": {
          "base_uri": "https://localhost:8080/"
        },
        "id": "E9WYKnmFPnev",
        "outputId": "df23c724-8b5f-49ff-e34c-903ec7c084ad"
      },
      "execution_count": 54,
      "outputs": [
        {
          "output_type": "stream",
          "name": "stdout",
          "text": [
            "From CPU: \n",
            "Value: 0 1 2 3 4 5 6 7 8 9 10 11 12 13 14 15 16 17 18 19 20 21 22 23 24 25 26 27 28 29 30 31 32 33 34 35 36 37 38 39 40 41 42 43 44 45 46 47 48 49 50 51 52 53 54 55 56 57 58 59 60 61 62 63 64 65 66 67 68 69 70 71 72 73 74 75 76 77 78 79 80 81 82 83 84 85 86 87 88 89 90 91 92 93 94 95 96 97 98 99 \n",
            "Count: 2499490 2499422 2502309 2501184 2501007 2502607 2499495 2497690 2498920 2503095 2500082 2499948 2499985 2499405 2496447 2498413 2498771 2498081 2501444 2498933 2497405 2499121 2501580 2500026 2502011 2503992 2501211 2501477 2500719 2499316 2498251 2500939 2497920 2499575 2499451 2501186 2500564 2501402 2497598 2500636 2500284 2500661 2500901 2501011 2498599 2502026 2501078 2499944 2501633 2498881 2500915 2502584 2498989 2498088 2499060 2503553 2498919 2500022 2500379 2499683 2499389 2502309 2499902 2500562 2499193 2500629 2498826 2500334 2499745 2501981 2499287 2498713 2499976 2499290 2499228 2497994 2498090 2499966 2500885 2501834 2502437 2498857 2500662 2500825 2500017 2497379 2498963 2499185 2494872 2497811 2501875 2499144 2499457 2499258 2499586 2500723 2502561 2498546 2501313 2500078 \n",
            "CPU Execution Time: 649.751 ms\n",
            "\n",
            "From GPU: \n",
            "Value: 0 1 2 3 4 5 6 7 8 9 10 11 12 13 14 15 16 17 18 19 20 21 22 23 24 25 26 27 28 29 30 31 32 33 34 35 36 37 38 39 40 41 42 43 44 45 46 47 48 49 50 51 52 53 54 55 56 57 58 59 60 61 62 63 64 65 66 67 68 69 70 71 72 73 74 75 76 77 78 79 80 81 82 83 84 85 86 87 88 89 90 91 92 93 94 95 96 97 98 99 \n",
            "Count: 2499490 2499422 2502309 2501184 2501007 2502607 2499495 2497690 2498920 2503095 2500082 2499948 2499985 2499405 2496447 2498413 2498771 2498081 2501444 2498933 2497405 2499121 2501580 2500026 2502011 2503992 2501211 2501477 2500719 2499316 2498251 2500939 2497920 2499575 2499451 2501186 2500564 2501402 2497598 2500636 2500284 2500661 2500901 2501011 2498599 2502026 2501078 2499944 2501633 2498881 2500915 2502584 2498989 2498088 2499060 2503553 2498919 2500022 2500379 2499683 2499389 2502309 2499902 2500562 2499193 2500629 2498826 2500334 2499745 2501981 2499287 2498713 2499976 2499290 2499228 2497994 2498090 2499966 2500885 2501834 2502437 2498857 2500662 2500825 2500017 2497379 2498963 2499185 2494872 2497811 2501875 2499144 2499457 2499258 2499586 2500723 2502561 2498546 2501313 2500078 \n",
            "GPU Execution Time: 119.495 ms\n"
          ]
        }
      ]
    },
    {
      "cell_type": "code",
      "source": [],
      "metadata": {
        "id": "lyRQGPQMQS0Q"
      },
      "execution_count": null,
      "outputs": []
    }
  ]
}