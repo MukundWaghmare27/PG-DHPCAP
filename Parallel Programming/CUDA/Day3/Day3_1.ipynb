{
  "nbformat": 4,
  "nbformat_minor": 0,
  "metadata": {
    "colab": {
      "provenance": [],
      "gpuType": "T4"
    },
    "kernelspec": {
      "name": "python3",
      "display_name": "Python 3"
    },
    "language_info": {
      "name": "python"
    },
    "accelerator": "GPU"
  },
  "cells": [
    {
      "cell_type": "code",
      "execution_count": 1,
      "metadata": {
        "id": "1rV-SlwVl_Zn"
      },
      "outputs": [],
      "source": [
        "## Global Static Array"
      ]
    },
    {
      "cell_type": "code",
      "source": [
        "%%writefile 1.cu\n",
        "\n",
        "#include <stdio.h>\n",
        "#define N 10\n",
        "\n",
        "__device__ int globalArray[N];\n",
        "\n",
        "__global__ void incrementGlobalArray(){\n",
        "    int i = threadIdx.x;\n",
        "\n",
        "    if (i < N){\n",
        "        globalArray[i]+=1;\n",
        "    }\n",
        "}\n",
        "\n",
        "void initializeGlobalArray(int *hostArray){\n",
        "    cudaMemcpyToSymbol(globalArray, hostArray, N * sizeof(int), 0, cudaMemcpyHostToDevice);\n",
        "}\n",
        "\n",
        "void retrieveGlobalArray(int *hostArray){\n",
        "    cudaMemcpyFromSymbol(hostArray, globalArray, N * sizeof(int), 0, cudaMemcpyDeviceToHost);\n",
        "}\n",
        "\n",
        "int main(){\n",
        "  int hostArray[N];\n",
        "\n",
        "  for(int i=0; i < N; i++){\n",
        "    hostArray[i] = i;\n",
        "  }\n",
        "\n",
        "\n",
        "  initializeGlobalArray(hostArray);\n",
        "\n",
        "  incrementGlobalArray<<<1, N>>>();\n",
        "\n",
        "  retrieveGlobalArray(hostArray);\n",
        "\n",
        "  printf(\"Modified global Array: \\n\");\n",
        "\n",
        "  for(int i=0; i<N; i++){\n",
        "    printf(\"%d \", hostArray[i]);\n",
        "\n",
        "  }\n",
        "  printf(\"\\n\");\n",
        "\n",
        "  return 0;\n",
        "}\n"
      ],
      "metadata": {
        "id": "T-fvnA1IpsXO"
      },
      "execution_count": null,
      "outputs": []
    },
    {
      "cell_type": "code",
      "source": [
        "!nvcc -o 1 1.cu"
      ],
      "metadata": {
        "id": "I0yPxH3gpB5i"
      },
      "execution_count": 5,
      "outputs": []
    },
    {
      "cell_type": "code",
      "source": [
        "!./1"
      ],
      "metadata": {
        "colab": {
          "base_uri": "https://localhost:8080/"
        },
        "id": "4C-LNayLpGtT",
        "outputId": "55b94f9b-a55d-4e9c-91f4-367d301ee123"
      },
      "execution_count": 6,
      "outputs": [
        {
          "output_type": "stream",
          "name": "stdout",
          "text": [
            "Modified global Array: \n",
            "1 2 3 4 5 6 7 8 9 10 \n"
          ]
        }
      ]
    },
    {
      "cell_type": "code",
      "source": [
        "## Assignment Q2"
      ],
      "metadata": {
        "id": "Myu6atINpSlb"
      },
      "execution_count": 2,
      "outputs": []
    },
    {
      "cell_type": "code",
      "source": [
        "%%writefile 3.cu\n",
        "\n",
        "#include <stdio.h>\n",
        "#include <cuda_runtime.h>\n",
        "\n",
        "#define SIZE 5\n",
        "\n",
        "__device__ int d_a[SIZE];\n",
        "__device__ int d_b[SIZE];\n",
        "__device__ int d_c[SIZE];\n",
        "\n",
        "__global__ void add_arrays() {\n",
        "    int i = threadIdx.x;\n",
        "    if (i < SIZE) {\n",
        "        d_c[i] = d_a[i] + d_b[i];\n",
        "    }\n",
        "}\n",
        "\n",
        "void initializeDeviceArrayA(int *a) {\n",
        "    cudaMemcpyToSymbol(d_a, a, SIZE * sizeof(int), 0, cudaMemcpyHostToDevice);\n",
        "}\n",
        "\n",
        "void initializeDeviceArrayB(int *b) {\n",
        "    cudaMemcpyToSymbol(d_b, b, SIZE * sizeof(int), 0, cudaMemcpyHostToDevice);\n",
        "}\n",
        "\n",
        "void retrieveDeviceArray(int *c) {\n",
        "    cudaMemcpyFromSymbol(c, d_c, SIZE * sizeof(int), 0, cudaMemcpyDeviceToHost);\n",
        "}\n",
        "\n",
        "int main() {\n",
        "\n",
        "    int a[SIZE] = {1, 2, 3, 4, 5};\n",
        "    int b[SIZE] = {10, 9, 8, 7, 6};\n",
        "    int c[SIZE];\n",
        "\n",
        "    initializeDeviceArrayA(a);\n",
        "    initializeDeviceArrayB(b);\n",
        "\n",
        "    add_arrays<<<1, SIZE>>>();\n",
        "    cudaDeviceSynchronize();\n",
        "\n",
        "    retrieveDeviceArray(c);\n",
        "\n",
        "    printf(\"Result:\\n\");\n",
        "    for (int i = 0; i < SIZE; i++) {\n",
        "        printf(\"%d \", c[i]);\n",
        "    }\n",
        "    printf(\"\\n\");\n",
        "\n",
        "    return 0;\n",
        "}\n"
      ],
      "metadata": {
        "colab": {
          "base_uri": "https://localhost:8080/"
        },
        "id": "LqKQ5x9oz-mF",
        "outputId": "83c42305-843a-4cd8-c53e-3c77689b71ee"
      },
      "execution_count": 38,
      "outputs": [
        {
          "output_type": "stream",
          "name": "stdout",
          "text": [
            "Overwriting 3.cu\n"
          ]
        }
      ]
    },
    {
      "cell_type": "code",
      "source": [
        "!nvcc -o 3 3.cu"
      ],
      "metadata": {
        "id": "CWp7KiWS0kpx"
      },
      "execution_count": 39,
      "outputs": []
    },
    {
      "cell_type": "code",
      "source": [
        "!./3"
      ],
      "metadata": {
        "colab": {
          "base_uri": "https://localhost:8080/"
        },
        "id": "c3tTDYGY0vHV",
        "outputId": "05edbfe6-4118-408d-c9d9-533cbcb61be5"
      },
      "execution_count": 40,
      "outputs": [
        {
          "output_type": "stream",
          "name": "stdout",
          "text": [
            "Result:\n",
            "11 11 11 11 11 \n"
          ]
        }
      ]
    },
    {
      "cell_type": "code",
      "source": [
        "%%writefile 5.cu\n",
        "\n",
        "#include <stdio.h>\n",
        "#define N 5\n",
        "\n",
        "__device__ int d_a[N];\n",
        "__device__ int d_b[N];\n",
        "__device__ int d_c[N];\n",
        "\n",
        "__global__ void AddArray(){\n",
        "    int i = threadIdx.x;\n",
        "\n",
        "    if (i < N){\n",
        "        d_c[i]= d_a[i] + d_b[i];\n",
        "    }\n",
        "}\n",
        "\n",
        "\n",
        "int main(){\n",
        "  int h_a[N] = {1,2,3,4,5};\n",
        "  int h_b[N] = {1,2,3,4,5};\n",
        "  int h_c[N];\n",
        "\n",
        "  cudaMemcpyToSymbol(d_a, h_a, N * sizeof(int), 0, cudaMemcpyHostToDevice);\n",
        "  cudaMemcpyToSymbol(d_b, h_b, N * sizeof(int), 0, cudaMemcpyHostToDevice);\n",
        "\n",
        "\n",
        "  AddArray<<<1, N>>>();\n",
        "  cudaDeviceSynchronize();\n",
        "\n",
        "  cudaMemcpyFromSymbol(h_c, d_c, N * sizeof(int), 0, cudaMemcpyDeviceToHost);\n",
        "\n",
        "\n",
        "  for(int i=0; i<N; i++){\n",
        "    printf(\"%d \", h_c[i]);\n",
        "\n",
        "  }\n",
        "  printf(\"\\n\");\n",
        "\n",
        "  return 0;\n",
        "}\n"
      ],
      "metadata": {
        "colab": {
          "base_uri": "https://localhost:8080/"
        },
        "id": "EPs77wjE3xwl",
        "outputId": "830312a3-1e1b-48c8-ebad-78a34b018b9d"
      },
      "execution_count": 23,
      "outputs": [
        {
          "output_type": "stream",
          "name": "stdout",
          "text": [
            "Overwriting 5.cu\n"
          ]
        }
      ]
    },
    {
      "cell_type": "code",
      "source": [
        "!nvcc -o 5 5.cu"
      ],
      "metadata": {
        "id": "yb4gx6sYIPNx"
      },
      "execution_count": 24,
      "outputs": []
    },
    {
      "cell_type": "code",
      "source": [
        "!./5"
      ],
      "metadata": {
        "colab": {
          "base_uri": "https://localhost:8080/"
        },
        "id": "I9xMSGbTIV-A",
        "outputId": "e9ae2b9d-eb2b-4cdd-e319-6ccf7c49b21c"
      },
      "execution_count": 25,
      "outputs": [
        {
          "output_type": "stream",
          "name": "stdout",
          "text": [
            "2 4 6 8 10 \n"
          ]
        }
      ]
    },
    {
      "cell_type": "code",
      "source": [
        "%%writefile 6.cu\n",
        "\n",
        "#include <stdio.h>\n",
        "#include <cuda_runtime.h>\n",
        "\n",
        "int main(){\n",
        "  cudaDeviceProp prop;\n",
        "  cudaGetDeviceProperties(&prop, 0);\n",
        "\n",
        "  printf(\"Compute capability: %d.%d\\n\", prop.major, prop.minor);\n",
        "  printf(\"Max threads per block: %d\\n\", prop.maxThreadsPerBlock);\n",
        "  printf(\"max blocks per dimension (x): %d\\n\", prop.maxGridSize[0]);\n",
        "  printf(\"max threads per dim (x): %d\\n\", prop.maxThreadsDim[0]);\n",
        "\n",
        "  return 0;\n",
        "}"
      ],
      "metadata": {
        "colab": {
          "base_uri": "https://localhost:8080/"
        },
        "id": "xirwKR7OIi9f",
        "outputId": "be047a90-ee2a-4185-f5e0-2d67ab84929f"
      },
      "execution_count": 41,
      "outputs": [
        {
          "output_type": "stream",
          "name": "stdout",
          "text": [
            "Writing 6.cu\n"
          ]
        }
      ]
    },
    {
      "cell_type": "code",
      "source": [
        "!nvcc -o 6 6.cu"
      ],
      "metadata": {
        "id": "BlS0-lqMRsGE"
      },
      "execution_count": 42,
      "outputs": []
    },
    {
      "cell_type": "code",
      "source": [
        "!./6"
      ],
      "metadata": {
        "colab": {
          "base_uri": "https://localhost:8080/"
        },
        "id": "BfJCEFuMRvK6",
        "outputId": "47a87d39-25c0-4452-b591-2aba1abd4fd7"
      },
      "execution_count": 43,
      "outputs": [
        {
          "output_type": "stream",
          "name": "stdout",
          "text": [
            "Compute capability: 7.5\n",
            "Max threads per block: 1024\n",
            "max blocks per dimension (x): 2147483647\n",
            "max threads per dim (x): 1024\n"
          ]
        }
      ]
    },
    {
      "cell_type": "code",
      "source": [],
      "metadata": {
        "id": "Gs0-4SIQRxPh"
      },
      "execution_count": null,
      "outputs": []
    },
    {
      "cell_type": "code",
      "source": [
        "%%writefile 5.cu\n",
        "\n",
        "#include <stdio.h>\n",
        "#include <cuda_runtime.h>\n",
        "\n",
        "#define N 5\n",
        "\n",
        "__device__ int d_c[N];\n",
        "\n",
        "__global__ void AddArray(){\n",
        "    int i = threadIdx.x;\n",
        "\n",
        "    if (i < N){\n",
        "        d_c[i]= d_a[i] + d_b[i];\n",
        "    }\n",
        "}\n",
        "\n",
        "\n",
        "int main(){\n",
        "  int h_a[N] = {1,2,3,4,5};\n",
        "  int h_b[N] = {1,2,3,4,5};\n",
        "  int h_c[N];\n",
        "\n",
        "  int d_a[N], d_b[N];\n",
        "\n",
        "  cudaMalloc((void **)&d_a, N * sizeof(int));\n",
        "  cudaMalloc((void **)&d_b, N * sizeof(int));\n",
        "\n",
        "  cudaMemcpy(d_a, h_a, N * sizeof(int), 0, cudaMemcpyHostToDevice);\n",
        "  cudaMemcpy(d_b, h_b, N * sizeof(int), 0, cudaMemcpyHostToDevice);\n",
        "\n",
        "  AddArray<<<1, N>>>();\n",
        "  cudaDeviceSynchronize();\n",
        "\n",
        "  cudaMemcpyFromSymbol(h_c, d_c, N * sizeof(int), 0, cudaMemcpyDeviceToHost);\n",
        "\n",
        "\n",
        "  for(int i=0; i<N; i++){\n",
        "    printf(\"%d \", h_c[i]);\n",
        "\n",
        "  }\n",
        "  printf(\"\\n\");\n",
        "\n",
        "  cudaFree(d_a);\n",
        "  cudaFree(d_b);\n",
        "\n",
        "  return 0;\n",
        "}\n"
      ],
      "metadata": {
        "id": "O8aM3y8SWQZk"
      },
      "execution_count": null,
      "outputs": []
    },
    {
      "cell_type": "code",
      "source": [],
      "metadata": {
        "id": "ACsYpTXjXnSc"
      },
      "execution_count": null,
      "outputs": []
    }
  ]
}