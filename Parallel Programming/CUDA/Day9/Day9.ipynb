{
  "nbformat": 4,
  "nbformat_minor": 0,
  "metadata": {
    "colab": {
      "provenance": []
    },
    "kernelspec": {
      "name": "python3",
      "display_name": "Python 3"
    },
    "language_info": {
      "name": "python"
    }
  },
  "cells": [
    {
      "cell_type": "markdown",
      "source": [
        "## CPU vs GPU Performance with vector size"
      ],
      "metadata": {
        "id": "PIJoFK1se4Vh"
      }
    },
    {
      "cell_type": "code",
      "execution_count": 16,
      "metadata": {
        "colab": {
          "base_uri": "https://localhost:8080/"
        },
        "id": "UMSavMtIGSeK",
        "outputId": "8c1bb72d-aaa8-481e-e24d-85cb2ee997cb"
      },
      "outputs": [
        {
          "output_type": "stream",
          "name": "stdout",
          "text": [
            "Overwriting 1.cu\n"
          ]
        }
      ],
      "source": [
        "%%writefile 1.cu\n",
        "\n",
        "#include <cuda_runtime.h>\n",
        "#include <device_launch_parameters.h>\n",
        "#include <iostream>\n",
        "#include <stdio.h>\n",
        "#include <stdlib.h>\n",
        "#include <chrono>\n",
        "\n",
        "__global__ void sumArraysOnGPU(int* A, int *B, int *C, const int N){\n",
        "\tint tid = threadIdx.x + blockIdx.x * blockDim.x;\n",
        "\n",
        "\tif(tid < N)\n",
        "\t\tC[tid] = A[tid] + B[tid];\n",
        "}\n",
        "\n",
        "void sumArrayOnHost(int *A, int *B, int *C, const int N){\n",
        "\tfor(int id = 0; id<N ; id++){\n",
        "\t\tC[id] = A[id]+B[id];\n",
        "\t}\n",
        "}\n",
        "\n",
        "int main(){\n",
        "\tint N = 1000;\n",
        "\tprintf(\"vector size %d\\n\", N);\n",
        "\n",
        "\tsize_t nBytes = N * sizeof(int);\n",
        "\n",
        "\tint *h_A, *h_B, *h_C, *h_result;\n",
        "\tint *d_A, *d_B, *d_C;\n",
        "\n",
        "\th_A = (int*)malloc(nBytes);\n",
        "\th_B = (int*)malloc(nBytes);\n",
        "\th_C = (int*)malloc(nBytes);\n",
        "\th_result = (int*)malloc(nBytes);\n",
        "\n",
        "\tcudaMalloc((int**)&d_A, nBytes);\n",
        "\tcudaMalloc((int**)&d_B, nBytes);\n",
        "\tcudaMalloc((int**)&d_C, nBytes);\n",
        "\n",
        "\tfor(int i=0; i<N; i++){\n",
        "\t\th_A[i]=i+1;\n",
        "\t\th_B[i]=i+1;\n",
        "\t\th_C[i]=0;\n",
        "\t\th_result[i] = 0;\n",
        "\t}\n",
        "\n",
        "\n",
        "\tauto start_time = std::chrono::high_resolution_clock::now();\n",
        "\tsumArrayOnHost(h_A, h_B, h_C, N);\n",
        "\tauto end_time = std::chrono::high_resolution_clock::now();\n",
        "\n",
        "\tauto duration_ns = std::chrono::duration_cast < std::chrono::nanoseconds> (end_time - start_time).count();\n",
        "\tdouble seconds_cpu = duration_ns / 1000000000.0;\n",
        "\n",
        "\tstd::cout<<\"Time take by CPU: \"<<seconds_cpu<<\" seconds\"<<std::endl;\n",
        "\n",
        "\n",
        "\tcudaMemcpy(d_A, h_A, nBytes, cudaMemcpyHostToDevice);\n",
        "\tcudaMemcpy(d_B, h_B, nBytes, cudaMemcpyHostToDevice);\n",
        "\tcudaMemcpy(d_C, h_C, nBytes, cudaMemcpyHostToDevice);\n",
        "\n",
        "\tint threadsPerBlock = 1024;\n",
        "\tint blockPerGrid = (N + threadsPerBlock - 1) / threadsPerBlock;\n",
        "\n",
        "\tcudaEventRecord(start);\n",
        "\tsumArraysOnGPU<<<blockPerGrid, threadsPerBlock>>>(d_A, d_B, d_C, N);\n",
        "\tcudaEventSynchronize(stop);\n",
        "\tcudaEventRecord(stop);\n",
        "\n",
        "\tfloat milli_seconds_device = 0;\n",
        "\tcudaEventElapsedTime(&milli_seconds_device, start, stop);\n",
        "\tprintf(\"Time taken by device(GPU): %.0f seconds\\n\", milli_seconds_device/1000);\n",
        "\n",
        "\tcudaMemcpy(h_result, d_C, nBytes, cudaMemcpyDeviceToHost);\n",
        "\n",
        "\tprintf(\"printing Result\\n\");\n",
        "  for(int i=0; i<10; i++){\n",
        "\t\tprintf(\"i = %d, sum = %d\\n\", i, h_result[i]);\n",
        "\t}\n",
        "\n",
        "\tcudaFree(d_A);\n",
        "\tcudaFree(d_B);\n",
        "\tcudaFree(d_C);\n",
        "\n",
        "\tfree(h_A);\n",
        "\tfree(h_B);\n",
        "\tfree(h_C);\n",
        "\tfree(h_result);\n",
        "\n",
        "\treturn 0;\n",
        "\n",
        "}\n"
      ]
    },
    {
      "cell_type": "code",
      "source": [
        "!nvcc -o 1 1.cu"
      ],
      "metadata": {
        "colab": {
          "base_uri": "https://localhost:8080/"
        },
        "id": "IkkNuglgK3lu",
        "outputId": "880986b1-f073-4020-c9f7-7547737f7398"
      },
      "execution_count": 17,
      "outputs": [
        {
          "output_type": "stream",
          "name": "stdout",
          "text": [
            "\u001b[01m\u001b[0m\u001b[01m1.cu(65)\u001b[0m: \u001b[01;31merror\u001b[0m: identifier \"\u001b[01mstart\u001b[0m\" is undefined\n",
            "   cudaEventRecord(start);\n",
            "                   ^\n",
            "\n",
            "\u001b[01m\u001b[0m\u001b[01m1.cu(67)\u001b[0m: \u001b[01;31merror\u001b[0m: identifier \"\u001b[01mstop\u001b[0m\" is undefined\n",
            "   cudaEventSynchronize(stop);\n",
            "                        ^\n",
            "\n",
            "2 errors detected in the compilation of \"1.cu\".\n"
          ]
        }
      ]
    },
    {
      "cell_type": "code",
      "source": [
        "%%writefile 3.cu\n",
        "\n",
        "#include <cuda_runtime.h>\n",
        "#include <device_launch_parameters.h>\n",
        "#include <iostream>\n",
        "#include <stdio.h>\n",
        "#include <stdlib.h>\n",
        "#include <chrono>\n",
        "\n",
        "__global__ void sumArraysOnGPU(int* A, int* B, int* C, const int N) {\n",
        "    int tid = threadIdx.x + blockIdx.x * blockDim.x;\n",
        "    if (tid < N)\n",
        "        C[tid] = A[tid] + B[tid];\n",
        "}\n",
        "\n",
        "void sumArrayOnHost(int* A, int* B, int* C, const int N) {\n",
        "    for (int id = 0; id < N; id++) {\n",
        "        C[id] = A[id] + B[id];\n",
        "    }\n",
        "}\n",
        "\n",
        "int main() {\n",
        "    int N = 1000;\n",
        "    printf(\"Vector size %d\\n\", N);\n",
        "\n",
        "    size_t nBytes = N * sizeof(int);\n",
        "\n",
        "    int* h_A, * h_B, * h_C, * h_result;\n",
        "    int* d_A, * d_B, * d_C;\n",
        "\n",
        "    h_A = (int*)malloc(nBytes);\n",
        "    h_B = (int*)malloc(nBytes);\n",
        "    h_C = (int*)malloc(nBytes);\n",
        "    h_result = (int*)malloc(nBytes);\n",
        "\n",
        "    cudaMalloc((void**)&d_A, nBytes);\n",
        "    cudaMalloc((void**)&d_B, nBytes);\n",
        "    cudaMalloc((void**)&d_C, nBytes);\n",
        "\n",
        "    for (int i = 0; i < N; i++) {\n",
        "        h_A[i] = i + 1;\n",
        "        h_B[i] = i + 1;\n",
        "        h_C[i] = 0;\n",
        "        h_result[i] = 0;\n",
        "    }\n",
        "\n",
        "    // Measure CPU time\n",
        "    auto start_time = std::chrono::high_resolution_clock::now();\n",
        "    sumArrayOnHost(h_A, h_B, h_C, N);\n",
        "    auto end_time = std::chrono::high_resolution_clock::now();\n",
        "    auto duration_ns = std::chrono::duration_cast<std::chrono::nanoseconds>(end_time - start_time).count();\n",
        "    double seconds_cpu = duration_ns / 1000000000.0;\n",
        "    std::cout << \"Time taken by CPU: \" << seconds_cpu << \" seconds\" << std::endl;\n",
        "\n",
        "    // Copy data to device\n",
        "    cudaMemcpy(d_A, h_A, nBytes, cudaMemcpyHostToDevice);\n",
        "    cudaMemcpy(d_B, h_B, nBytes, cudaMemcpyHostToDevice);\n",
        "\n",
        "    int threadsPerBlock = 1024;\n",
        "    int blockPerGrid = (N + threadsPerBlock - 1) / threadsPerBlock;\n",
        "\n",
        "    // Measure GPU time\n",
        "    cudaEvent_t start, stop;\n",
        "    cudaEventCreate(&start);\n",
        "    cudaEventCreate(&stop);\n",
        "\n",
        "    cudaEventRecord(start);\n",
        "    sumArraysOnGPU <<< blockPerGrid, threadsPerBlock >>> (d_A, d_B, d_C, N);\n",
        "    cudaEventRecord(stop);\n",
        "    cudaEventSynchronize(stop);\n",
        "\n",
        "    float milliseconds_device = 0;\n",
        "    cudaEventElapsedTime(&milliseconds_device, start, stop);\n",
        "    double seconds_gpu = milliseconds_device / 1000.0;\n",
        "    std::cout << \"Time taken by device (GPU): \" << seconds_gpu << \" seconds\" << std::endl;\n",
        "\n",
        "    cudaMemcpy(h_result, d_C, nBytes, cudaMemcpyDeviceToHost);\n",
        "\n",
        "    // Print a sample of the results\n",
        "    printf(\"Printing Result\\n\");\n",
        "    for (int i = 0; i < 10; i++) {\n",
        "        printf(\"i = %d, sum = %d\\n\", i, h_result[i]);\n",
        "    }\n",
        "\n",
        "    cudaFree(d_A);\n",
        "    cudaFree(d_B);\n",
        "    cudaFree(d_C);\n",
        "\n",
        "    free(h_A);\n",
        "    free(h_B);\n",
        "    free(h_C);\n",
        "    free(h_result);\n",
        "\n",
        "    return 0;\n",
        "}\n"
      ],
      "metadata": {
        "colab": {
          "base_uri": "https://localhost:8080/"
        },
        "id": "sDWLk2WuHQ2E",
        "outputId": "d4a76344-af35-41e4-83c6-ce2a85b1e7b3"
      },
      "execution_count": 6,
      "outputs": [
        {
          "output_type": "stream",
          "name": "stdout",
          "text": [
            "Writing 3.cu\n"
          ]
        }
      ]
    },
    {
      "cell_type": "code",
      "source": [
        "!nvcc -o 3 3.cu"
      ],
      "metadata": {
        "id": "niO4DscCKFsR"
      },
      "execution_count": 7,
      "outputs": []
    },
    {
      "cell_type": "code",
      "source": [
        "!./3"
      ],
      "metadata": {
        "colab": {
          "base_uri": "https://localhost:8080/"
        },
        "id": "iNl2BstxKI8k",
        "outputId": "83c95554-90ed-4c9b-fa37-5ff3c39e1453"
      },
      "execution_count": 8,
      "outputs": [
        {
          "output_type": "stream",
          "name": "stdout",
          "text": [
            "Vector size 1000\n",
            "Time taken by CPU: 3.297e-06 seconds\n",
            "Time taken by device (GPU): 0.000202784 seconds\n",
            "Printing Result\n",
            "i = 0, sum = 2\n",
            "i = 1, sum = 4\n",
            "i = 2, sum = 6\n",
            "i = 3, sum = 8\n",
            "i = 4, sum = 10\n",
            "i = 5, sum = 12\n",
            "i = 6, sum = 14\n",
            "i = 7, sum = 16\n",
            "i = 8, sum = 18\n",
            "i = 9, sum = 20\n"
          ]
        }
      ]
    },
    {
      "cell_type": "markdown",
      "source": [],
      "metadata": {
        "id": "kHTFQbkRe0-a"
      }
    },
    {
      "cell_type": "code",
      "source": [
        "%%writefile 4.cu\n",
        "\n",
        "#include <cuda_runtime.h>\n",
        "#include <device_launch_parameters.h>\n",
        "#include <iostream>\n",
        "#include <stdio.h>\n",
        "#include <stdlib.h>\n",
        "#include <chrono>\n",
        "\n",
        "__global__ void sumArraysOnGPU(int* A, int* B, int* C, const int N) {\n",
        "    int tid = threadIdx.x + blockIdx.x * blockDim.x;\n",
        "    if (tid < N)\n",
        "        C[tid] = A[tid] + B[tid];\n",
        "}\n",
        "\n",
        "void sumArrayOnHost(int* A, int* B, int* C, const int N) {\n",
        "    for (int id = 0; id < N; id++) {\n",
        "        C[id] = A[id] + B[id];\n",
        "    }\n",
        "}\n",
        "\n",
        "int main() {\n",
        "    int N = 1000000;\n",
        "    printf(\"Vector size %d\\n\", N);\n",
        "\n",
        "    size_t nBytes = N * sizeof(int);\n",
        "\n",
        "    int* h_A, * h_B, * h_C, * h_result;\n",
        "    int* d_A, * d_B, * d_C;\n",
        "\n",
        "    h_A = (int*)malloc(nBytes);\n",
        "    h_B = (int*)malloc(nBytes);\n",
        "    h_C = (int*)malloc(nBytes);\n",
        "    h_result = (int*)malloc(nBytes);\n",
        "\n",
        "    cudaMalloc((void**)&d_A, nBytes);\n",
        "    cudaMalloc((void**)&d_B, nBytes);\n",
        "    cudaMalloc((void**)&d_C, nBytes);\n",
        "\n",
        "    for (int i = 0; i < N; i++) {\n",
        "        h_A[i] = i + 1;\n",
        "        h_B[i] = i + 1;\n",
        "        h_C[i] = 0;\n",
        "        h_result[i] = 0;\n",
        "    }\n",
        "\n",
        "    // Measure CPU time\n",
        "    auto start_time = std::chrono::high_resolution_clock::now();\n",
        "    sumArrayOnHost(h_A, h_B, h_C, N);\n",
        "    auto end_time = std::chrono::high_resolution_clock::now();\n",
        "    auto duration_ns = std::chrono::duration_cast<std::chrono::nanoseconds>(end_time - start_time).count();\n",
        "    double seconds_cpu = duration_ns / 1000000000.0;\n",
        "    std::cout << \"Time taken by CPU: \" << seconds_cpu << \" seconds\" << std::endl;\n",
        "\n",
        "    cudaMemcpy(d_A, h_A, nBytes, cudaMemcpyHostToDevice);\n",
        "    cudaMemcpy(d_B, h_B, nBytes, cudaMemcpyHostToDevice);\n",
        "\n",
        "    int threadsPerBlock = 1024;\n",
        "    int blockPerGrid = (N + threadsPerBlock - 1) / threadsPerBlock;\n",
        "\n",
        "    // Measure GPU time\n",
        "    cudaEvent_t start, stop;\n",
        "    cudaEventCreate(&start);\n",
        "    cudaEventCreate(&stop);\n",
        "\n",
        "    cudaEventRecord(start);\n",
        "    sumArraysOnGPU <<< blockPerGrid, threadsPerBlock >>> (d_A, d_B, d_C, N);\n",
        "    cudaEventRecord(stop);\n",
        "    cudaEventSynchronize(stop);\n",
        "\n",
        "    float milliseconds_device = 0;\n",
        "    cudaEventElapsedTime(&milliseconds_device, start, stop);\n",
        "    double seconds_gpu = milliseconds_device / 1000.0;\n",
        "    std::cout << \"Time taken by device (GPU): \" << seconds_gpu << \" seconds\" << std::endl;\n",
        "\n",
        "    cudaMemcpy(h_result, d_C, nBytes, cudaMemcpyDeviceToHost);\n",
        "\n",
        "    // Print a sample of the results\n",
        "    printf(\"Printing Result\\n\");\n",
        "    //for (int i = 0; i < 10; i++) {\n",
        "        //printf(\"i = %d, sum = %d\\n\", i, h_result[i]);\n",
        "    //}\n",
        "\n",
        "    cudaFree(d_A);\n",
        "    cudaFree(d_B);\n",
        "    cudaFree(d_C);\n",
        "\n",
        "    free(h_A);\n",
        "    free(h_B);\n",
        "    free(h_C);\n",
        "    free(h_result);\n",
        "\n",
        "    return 0;\n",
        "}\n"
      ],
      "metadata": {
        "colab": {
          "base_uri": "https://localhost:8080/"
        },
        "id": "Me0EuBLdKL30",
        "outputId": "cf97da58-5763-4f70-8f1c-5eaf6905468c"
      },
      "execution_count": 33,
      "outputs": [
        {
          "output_type": "stream",
          "name": "stdout",
          "text": [
            "Overwriting 4.cu\n"
          ]
        }
      ]
    },
    {
      "cell_type": "code",
      "source": [
        "!nvcc -o 4 4.cu"
      ],
      "metadata": {
        "id": "J37RoJrKMaW-"
      },
      "execution_count": 34,
      "outputs": []
    },
    {
      "cell_type": "code",
      "source": [
        "!./4"
      ],
      "metadata": {
        "colab": {
          "base_uri": "https://localhost:8080/"
        },
        "id": "dN4oAgdGMc3M",
        "outputId": "eb31cfb8-3535-436c-f6d0-453db04b677f"
      },
      "execution_count": 35,
      "outputs": [
        {
          "output_type": "stream",
          "name": "stdout",
          "text": [
            "Vector size 1000000\n",
            "Time taken by CPU: 0.00317881 seconds\n",
            "Time taken by device (GPU): 0.000180736 seconds\n",
            "Printing Result\n"
          ]
        }
      ]
    },
    {
      "cell_type": "code",
      "source": [],
      "metadata": {
        "id": "UUnK4SzJMfu0"
      },
      "execution_count": 26,
      "outputs": []
    }
  ]
}