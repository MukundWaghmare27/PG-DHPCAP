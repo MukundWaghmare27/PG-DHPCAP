{
  "nbformat": 4,
  "nbformat_minor": 0,
  "metadata": {
    "colab": {
      "provenance": []
    },
    "kernelspec": {
      "name": "python3",
      "display_name": "Python 3"
    },
    "language_info": {
      "name": "python"
    }
  },
  "cells": [
    {
      "cell_type": "markdown",
      "source": [
        "## Atomic Functions\n",
        "To Avoid Race Condition"
      ],
      "metadata": {
        "id": "Sn9PGeQcTBuH"
      }
    },
    {
      "cell_type": "code",
      "execution_count": 11,
      "metadata": {
        "colab": {
          "base_uri": "https://localhost:8080/"
        },
        "id": "hIaCvBkJPpA6",
        "outputId": "33b2d68e-28c8-4b78-e157-778ba25751fd"
      },
      "outputs": [
        {
          "output_type": "stream",
          "name": "stdout",
          "text": [
            "Overwriting 1.cu\n"
          ]
        }
      ],
      "source": [
        "%%writefile 1.cu\n",
        "\n",
        "#include <stdio.h>\n",
        "\n",
        "__global__ void atomicKernel(int *shared_counter) {\n",
        "  atomicAdd(shared_counter, 1);    //this will increment the counter\n",
        "  //*shared_counter++;             //Every thread will count so counter remain 0\n",
        "}\n",
        "\n",
        "int main() {\n",
        "  int h_counter = 0;\n",
        "  int *d_counter;\n",
        "\n",
        "  cudaMalloc((void **)&d_counter, sizeof(int));\n",
        "  cudaMemcpy(d_counter, &h_counter, sizeof(int), cudaMemcpyHostToDevice);\n",
        "\n",
        "  atomicKernel<<<1, 1024>>>(d_counter);\n",
        "  cudaDeviceSynchronize();\n",
        "\n",
        "  cudaMemcpy(&h_counter, d_counter, sizeof(int), cudaMemcpyDeviceToHost);\n",
        "\n",
        "  printf(\"Final Counter value: %d\\n\", h_counter);\n",
        "\n",
        "  cudaFree(d_counter);\n",
        "\n",
        "  return 0;\n",
        "}\n"
      ]
    },
    {
      "cell_type": "code",
      "source": [
        "!nvcc -o 1 1.cu"
      ],
      "metadata": {
        "id": "yoUbDIqzRZk6"
      },
      "execution_count": 12,
      "outputs": []
    },
    {
      "cell_type": "code",
      "source": [
        "!./1"
      ],
      "metadata": {
        "colab": {
          "base_uri": "https://localhost:8080/"
        },
        "id": "aGar-RcgRewG",
        "outputId": "ab35add9-0adb-4ea0-c268-7bc1b841caa6"
      },
      "execution_count": 13,
      "outputs": [
        {
          "output_type": "stream",
          "name": "stdout",
          "text": [
            "Final Counter value: 1024\n"
          ]
        }
      ]
    },
    {
      "cell_type": "markdown",
      "source": [
        "## Task1:\n",
        "1) create an Array containing 1024 elements\n",
        "2) init with values 1 to 1024 on host\n",
        "3) in kernel"
      ],
      "metadata": {
        "id": "YOQakEVQT7If"
      }
    },
    {
      "cell_type": "code",
      "source": [
        "%%writefile 2.cu\n",
        "\n",
        "#include <stdio.h>\n",
        "\n",
        "#define N 1024\n",
        "\n",
        "__global__ void AtomicAddition(int *d_input, int *d_output){\n",
        "\n",
        "  int id = threadIdx.x;\n",
        "\n",
        "  if(id < N){\n",
        "    atomicAdd(d_output, d_input[id]);     //d_output += d_input[id]     //1024 threads working parallally, Atomic Add summing all the values of threads\n",
        "    //d_output += d_input[id];            //Race Condition will occur\n",
        "  }\n",
        "}\n",
        "\n",
        "int main(){\n",
        "  int h_input[N], h_output = 0;\n",
        "  int *d_input, *d_output;\n",
        "\n",
        "  cudaMalloc((void**)&d_input, N * sizeof(int));\n",
        "  cudaMalloc((void**)&d_output, sizeof(int));\n",
        "\n",
        "  for(int i=0; i< N; i++){\n",
        "    h_input[i] = i+1;\n",
        "  }\n",
        "\n",
        "  cudaMemcpy(d_input, &h_input, N * sizeof(int), cudaMemcpyHostToDevice);\n",
        "\n",
        "  AtomicAddition<<<1, 1024>>>(d_input, d_output);\n",
        "  cudaDeviceSynchronize();\n",
        "\n",
        "  cudaMemcpy(&h_output, d_output, sizeof(int), cudaMemcpyDeviceToHost);\n",
        "\n",
        "  printf(\"%d\", h_output);\n",
        "\n",
        "  cudaFree(d_output);\n",
        "  cudaFree(d_input);\n",
        "\n",
        "  return 0;\n",
        "\n",
        "\n",
        "}"
      ],
      "metadata": {
        "colab": {
          "base_uri": "https://localhost:8080/"
        },
        "id": "W1ECs2WuR6Z2",
        "outputId": "fd7e1de6-3438-470d-b2b2-d47ae53f628f"
      },
      "execution_count": 17,
      "outputs": [
        {
          "output_type": "stream",
          "name": "stdout",
          "text": [
            "Overwriting 2.cu\n"
          ]
        }
      ]
    },
    {
      "cell_type": "code",
      "source": [
        "!nvcc -o 2 2.cu"
      ],
      "metadata": {
        "id": "5OxpTI4FW0Tw"
      },
      "execution_count": 18,
      "outputs": []
    },
    {
      "cell_type": "code",
      "source": [
        "!./2"
      ],
      "metadata": {
        "colab": {
          "base_uri": "https://localhost:8080/"
        },
        "id": "P_qHO5PgYpQm",
        "outputId": "4e2daf2c-39cd-422e-e8c7-ac34ce403620"
      },
      "execution_count": 19,
      "outputs": [
        {
          "output_type": "stream",
          "name": "stdout",
          "text": [
            "524800"
          ]
        }
      ]
    },
    {
      "cell_type": "code",
      "source": [
        "%%writefile 3.cu\n",
        "\n",
        "#include <stdio.h>\n",
        "\n",
        "#define N 1024\n",
        "\n",
        "__global__ void AtomicAddition(int *d_input, int *d_output, int *d_result){\n",
        "\n",
        "  int id = threadIdx.x;\n",
        "\n",
        "  if(id < N){\n",
        "    atomicAdd(d_output, d_input[id]);     //d_output += d_input[id]     //1024 threads working parallally, Atomic Add summing all the values of threads\n",
        "    //d_output += d_input[id];            //Race Condition will occur\n",
        "\n",
        "    if (id == 0) {\n",
        "      *d_result = (N * (N + 1)) / 2;\n",
        "    }\n",
        "  }\n",
        "}\n",
        "\n",
        "int main(){\n",
        "  int h_input[N], h_output = 0, h_result = 0;\n",
        "  int *d_input, *d_output, *d_result;\n",
        "\n",
        "  cudaMalloc((void**)&d_input, N * sizeof(int));\n",
        "  cudaMalloc((void**)&d_output, sizeof(int));\n",
        "  cudaMalloc((void**)&d_result, sizeof(int));\n",
        "\n",
        "  for(int i=0; i< N; i++){\n",
        "    h_input[i] = i+1;\n",
        "  }\n",
        "\n",
        "  cudaMemcpy(d_input, &h_input, N * sizeof(int), cudaMemcpyHostToDevice);\n",
        "\n",
        "  AtomicAddition<<<1, 1024>>>(d_input, d_output, d_result);\n",
        "  cudaDeviceSynchronize();\n",
        "\n",
        "  cudaMemcpy(&h_output, d_output, sizeof(int), cudaMemcpyDeviceToHost);\n",
        "  cudaMemcpy(&h_result, d_result, sizeof(int), cudaMemcpyDeviceToHost);\n",
        "\n",
        "  printf(\"sum = %d\\n\", h_output);\n",
        "  printf(\"result = %d\\n\", h_result);\n",
        "\n",
        "  cudaFree(d_output);\n",
        "  cudaFree(d_input);\n",
        "  cudaFree(d_result);\n",
        "\n",
        "  return 0;\n",
        "\n",
        "\n",
        "}"
      ],
      "metadata": {
        "colab": {
          "base_uri": "https://localhost:8080/"
        },
        "id": "h35lQdoQW24X",
        "outputId": "181efb54-f219-4dde-bb94-7e290efa79c6"
      },
      "execution_count": 6,
      "outputs": [
        {
          "output_type": "stream",
          "name": "stdout",
          "text": [
            "Overwriting 3.cu\n"
          ]
        }
      ]
    },
    {
      "cell_type": "code",
      "source": [
        "!nvcc -o 3 3.cu"
      ],
      "metadata": {
        "id": "_kdd5-vOmmPz"
      },
      "execution_count": 7,
      "outputs": []
    },
    {
      "cell_type": "code",
      "source": [
        "!./3"
      ],
      "metadata": {
        "colab": {
          "base_uri": "https://localhost:8080/"
        },
        "id": "Sn1q05uDm0bx",
        "outputId": "29c99c01-f32b-487b-c473-a8a5f9df67ba"
      },
      "execution_count": 8,
      "outputs": [
        {
          "output_type": "stream",
          "name": "stdout",
          "text": [
            "sum = 524800\n",
            "result = 524800\n"
          ]
        }
      ]
    },
    {
      "cell_type": "markdown",
      "source": [
        "## Finding Max & Min from Array"
      ],
      "metadata": {
        "id": "C6DLkXSbnX_S"
      }
    },
    {
      "cell_type": "code",
      "source": [
        "%%writefile 4.cu\n",
        "\n",
        "#include <stdio.h>\n",
        "#include <limits.h>\n",
        "\n",
        "#define N 1024\n",
        "\n",
        "__global__ void AtomicAddition(int *d_input, int *d_output, int *d_max, int *d_min) {\n",
        "  int id = threadIdx.x;\n",
        "\n",
        "  // Initialize d_max and d_min on the device only once\n",
        "  if (id == 0) {\n",
        "    *d_max = INT_MIN;\n",
        "    *d_min = INT_MAX;\n",
        "  }\n",
        "  __syncthreads(); // Ensure all threads see the initialized values\n",
        "\n",
        "  if (id < N) {\n",
        "    atomicAdd(d_output, d_input[id]);\n",
        "\n",
        "    // Atomic maximum and minimum operations\n",
        "    atomicMax(d_max, d_input[id]);\n",
        "    atomicMin(d_min, d_input[id]);\n",
        "  }\n",
        "}\n",
        "\n",
        "int main() {\n",
        "  int h_input[N], h_output = 0, h_max, h_min;\n",
        "  int *d_input, *d_output, *d_max, *d_min;\n",
        "\n",
        "  cudaMalloc((void**)&d_input, N * sizeof(int));\n",
        "  cudaMalloc((void**)&d_output, sizeof(int));\n",
        "  cudaMalloc((void**)&d_max, sizeof(int));\n",
        "  cudaMalloc((void**)&d_min, sizeof(int));\n",
        "\n",
        "  for (int i = 0; i < N; i++) {\n",
        "    h_input[i] = i + 1;\n",
        "  }\n",
        "\n",
        "  cudaMemcpy(d_input, h_input, N * sizeof(int), cudaMemcpyHostToDevice);\n",
        "  cudaMemcpy(d_output, &h_output, sizeof(int), cudaMemcpyHostToDevice);\n",
        "\n",
        "  AtomicAddition<<<1, 1024>>>(d_input, d_output, d_max, d_min);\n",
        "  cudaDeviceSynchronize();\n",
        "\n",
        "  cudaMemcpy(&h_output, d_output, sizeof(int), cudaMemcpyDeviceToHost);\n",
        "  cudaMemcpy(&h_max, d_max, sizeof(int), cudaMemcpyDeviceToHost);\n",
        "  cudaMemcpy(&h_min, d_min, sizeof(int), cudaMemcpyDeviceToHost);\n",
        "\n",
        "  printf(\"Sum: %d\\n\", h_output);\n",
        "  printf(\"Max: %d\\n\", h_max);\n",
        "  printf(\"Min: %d\\n\", h_min);\n",
        "\n",
        "  cudaFree(d_output);\n",
        "  cudaFree(d_input);\n",
        "  cudaFree(d_max);\n",
        "  cudaFree(d_min);\n",
        "\n",
        "  return 0;\n",
        "}\n"
      ],
      "metadata": {
        "colab": {
          "base_uri": "https://localhost:8080/"
        },
        "id": "yLlv7JCqm8rR",
        "outputId": "d114eff7-5714-4973-ba7f-cd2f4fa1b6e0"
      },
      "execution_count": 25,
      "outputs": [
        {
          "output_type": "stream",
          "name": "stdout",
          "text": [
            "Overwriting 4.cu\n"
          ]
        }
      ]
    },
    {
      "cell_type": "code",
      "source": [
        "!nvcc -o 4 4.cu"
      ],
      "metadata": {
        "id": "-9TYTpnzp68T"
      },
      "execution_count": 26,
      "outputs": []
    },
    {
      "cell_type": "code",
      "source": [
        "!./4"
      ],
      "metadata": {
        "colab": {
          "base_uri": "https://localhost:8080/"
        },
        "id": "FGTaraMlqCAK",
        "outputId": "558d6c93-3e05-4158-d852-2ff3c4375860"
      },
      "execution_count": 27,
      "outputs": [
        {
          "output_type": "stream",
          "name": "stdout",
          "text": [
            "Sum: 524800\n",
            "Max: 1024\n",
            "Min: 1\n"
          ]
        }
      ]
    },
    {
      "cell_type": "code",
      "source": [],
      "metadata": {
        "id": "bgskcBCiqjhp"
      },
      "execution_count": null,
      "outputs": []
    }
  ]
}