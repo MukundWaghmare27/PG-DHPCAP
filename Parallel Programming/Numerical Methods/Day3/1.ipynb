{
 "cells": [
  {
   "cell_type": "markdown",
   "metadata": {},
   "source": []
  },
  {
   "cell_type": "code",
   "execution_count": null,
   "metadata": {},
   "outputs": [],
   "source": [
    "def muller_method(f, x0, x1, x2, tol=1e-15, max_iter=100):\n",
    "    for i in range(max_iter):\n",
    "        f0, f1, f2 = f(x0), f(x1), f(x2)"
   ]
  },
  {
   "cell_type": "code",
   "execution_count": null,
   "metadata": {},
   "outputs": [],
   "source": [
    "x3_1 = x2 + (-2 * c) / discriminant1\n",
    "x3_2 = x2 + (-2 * c) / discriminant2\n",
    "\n",
    "if abs(x3_1 - x2) < abs(x3_2 -x2):\n",
    "    x3 = x3_1\n",
    "else:\n",
    "    x3 = x3_2\n",
    "    \n",
    "if (x3 - x2) < tol:\n",
    "    return x3\n",
    "\n",
    "x0, x1, x2 = x1, x2, x3\n",
    "\n",
    "print('Max iterations reached')\n",
    "return None\n"
   ]
  },
  {
   "cell_type": "code",
   "execution_count": null,
   "metadata": {},
   "outputs": [],
   "source": [
    "def example_function(x):\n",
    "    return x ** 2 - 5"
   ]
  },
  {
   "cell_type": "code",
   "execution_count": null,
   "metadata": {},
   "outputs": [],
   "source": [
    "x0, x1, x3 = 1.0, 2.0, 3.0\n",
    "root = muller_method(example_function, x0, x1, x2)"
   ]
  }
 ],
 "metadata": {
  "kernelspec": {
   "display_name": "Python 3",
   "language": "python",
   "name": "python3"
  },
  "language_info": {
   "codemirror_mode": {
    "name": "ipython",
    "version": 3
   },
   "file_extension": ".py",
   "mimetype": "text/x-python",
   "name": "python",
   "nbconvert_exporter": "python",
   "pygments_lexer": "ipython3",
   "version": "3.10.7"
  }
 },
 "nbformat": 4,
 "nbformat_minor": 2
}
