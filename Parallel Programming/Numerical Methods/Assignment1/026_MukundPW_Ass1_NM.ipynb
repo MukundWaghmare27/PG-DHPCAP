{
 "cells": [
  {
   "cell_type": "markdown",
   "metadata": {},
   "source": [
    "## Assignment 1\n",
    "\n",
    "Name: Mukund P Waghmare\n",
    "PRN No.: 240840141026"
   ]
  },
  {
   "cell_type": "markdown",
   "metadata": {},
   "source": [
    "1. Write a Python program for demonstrating the use of accuracy measurement on some\n",
    "random normal variables"
   ]
  },
  {
   "cell_type": "code",
   "execution_count": 1,
   "metadata": {},
   "outputs": [
    {
     "name": "stdout",
     "output_type": "stream",
     "text": [
      "Calculated Accuracy: 0.53\n"
     ]
    }
   ],
   "source": [
    "import numpy as np\n",
    "from sklearn.metrics import accuracy_score\n",
    "\n",
    "# Generate random binary labels (0 or 1) for true values\n",
    "y_true = np.random.randint(0, 2, size=100) \n",
    "\n",
    "# Generate random binary labels (0 or 1) for predicted values\n",
    "y_predicted = np.random.randint(0, 2, size=100)  \n",
    "\n",
    "# Compute the accuracy score\n",
    "calculated_accuracy = accuracy_score(y_true, y_predicted)\n",
    "\n",
    "# Display the accuracy\n",
    "print(\"Calculated Accuracy:\", calculated_accuracy)\n"
   ]
  },
  {
   "cell_type": "markdown",
   "metadata": {},
   "source": [
    "2. Write a Python program for demonstrating the use of precision measurement on some\n",
    "random normal variables"
   ]
  },
  {
   "cell_type": "code",
   "execution_count": 8,
   "metadata": {},
   "outputs": [
    {
     "name": "stdout",
     "output_type": "stream",
     "text": [
      "Random Variables (with precision): [Decimal('0.5654068568221665'), Decimal('-0.9989979904310733'), Decimal('-0.0009339619083010314'), Decimal('0.6783425253978089'), Decimal('-1.1449468298104333')]\n",
      "Sum: 10.520288568178367213\n",
      "Average: 0.10520288568178367213\n",
      "difference: 1E-20\n",
      "comparison: False\n",
      "small Difference: 1E-24\n",
      "comparison: False\n"
     ]
    }
   ],
   "source": [
    "import numpy as np\n",
    "from decimal import Decimal, getcontext\n",
    "\n",
    "# set the precision for decimal calculations \n",
    "getcontext().prec = 20\n",
    "\n",
    "# generate some random normal variables with higher precision\n",
    "num_samples = 100\n",
    "mu = 0 \n",
    "sigma = 1  \n",
    "\n",
    "# use Decimal for precision\n",
    "random_variables = [Decimal(str(np.random.normal(mu, sigma))) for _ in range(num_samples)]\n",
    "\n",
    "# demonstrate some calculations with precision\n",
    "sum_of_variables = sum(random_variables)\n",
    "average_variable = sum_of_variables / num_samples\n",
    "\n",
    "# print the results with higher precision\n",
    "print(\"Random Variables (with precision):\", random_variables[:5])  # print first 5 for brevity\n",
    "print(\"Sum:\", sum_of_variables)\n",
    "print(\"Average:\", average_variable)\n",
    "\n",
    "\n",
    "variable1 = Decimal(\"0.12345678901234567890\")\n",
    "variable2 = Decimal(\"0.12345678901234567891\")\n",
    "difference = variable2 - variable1\n",
    "print(f\"difference: {difference}\")\n",
    "\n",
    "print(f\"comparison: {variable1 == variable2}\")\n",
    "\n",
    "# example with smaller differences\n",
    "variable3 = Decimal(\"0.12345678901234567890\")\n",
    "variable4 = Decimal(\"0.123456789012345678900001\")\n",
    "difference2 = variable4 - variable3\n",
    "print(f\"small Difference: {difference2}\")\n",
    "\n",
    "print(f\"comparison: {variable3 == variable4}\")"
   ]
  },
  {
   "cell_type": "code",
   "execution_count": null,
   "metadata": {},
   "outputs": [],
   "source": []
  },
  {
   "cell_type": "code",
   "execution_count": null,
   "metadata": {},
   "outputs": [],
   "source": []
  }
 ],
 "metadata": {
  "kernelspec": {
   "display_name": "Python 3",
   "language": "python",
   "name": "python3"
  },
  "language_info": {
   "codemirror_mode": {
    "name": "ipython",
    "version": 3
   },
   "file_extension": ".py",
   "mimetype": "text/x-python",
   "name": "python",
   "nbconvert_exporter": "python",
   "pygments_lexer": "ipython3",
   "version": "3.10.7"
  }
 },
 "nbformat": 4,
 "nbformat_minor": 2
}
