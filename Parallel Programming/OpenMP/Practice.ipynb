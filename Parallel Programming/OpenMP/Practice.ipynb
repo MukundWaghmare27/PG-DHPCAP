{
  "nbformat": 4,
  "nbformat_minor": 0,
  "metadata": {
    "colab": {
      "provenance": []
    },
    "kernelspec": {
      "name": "python3",
      "display_name": "Python 3"
    },
    "language_info": {
      "name": "python"
    }
  },
  "cells": [
    {
      "cell_type": "markdown",
      "source": [
        "Array Addition, subtraction, Multiplication"
      ],
      "metadata": {
        "id": "EkWxtn4JV7nR"
      }
    },
    {
      "cell_type": "code",
      "execution_count": null,
      "metadata": {
        "colab": {
          "base_uri": "https://localhost:8080/"
        },
        "id": "EPTUECcLPbu-",
        "outputId": "2faa9822-75bc-4303-a74d-8f251451f35c"
      },
      "outputs": [
        {
          "output_type": "stream",
          "name": "stdout",
          "text": [
            "Overwriting 1.cu\n"
          ]
        }
      ],
      "source": [
        "%%writefile 1.cu\n",
        "\n",
        "#include <stdio.h>\n",
        "#include <stdlib.h>\n",
        "#include <cuda.h>\n",
        "\n",
        "#define n 10\n",
        "\n",
        "__global__ void array_add(int *a, int *b, int *c){\n",
        "  int tid = threadIdx.x + blockIdx.x * blockDim.x;\n",
        "\n",
        "  if(tid < n){\n",
        "    for(int i=0; i<n; i++){\n",
        "      c[i] = a[i] + b[i];   //+, -, *\n",
        "    }\n",
        "    //result = c[i];\n",
        "  }\n",
        "}\n",
        "\n",
        "int main(){\n",
        "  int a[n], b[n], c[n];\n",
        "\n",
        "  for(int i=0; i<n; i++){\n",
        "    a[i]=i+1;\n",
        "    b[i]=i+1;\n",
        "  }\n",
        "\n",
        "  int *d_a, *d_b, *d_c;\n",
        "\n",
        "  cudaMalloc((void**)&d_a, n*sizeof(int));\n",
        "  cudaMalloc((void**)&d_b, n*sizeof(int));\n",
        "  cudaMalloc((void**)&d_c, n*sizeof(int));\n",
        "\n",
        "  cudaMemcpy(d_a, a, n*sizeof(int), cudaMemcpyHostToDevice);\n",
        "  cudaMemcpy(d_b, b, n*sizeof(int), cudaMemcpyHostToDevice);\n",
        "\n",
        "  int threadsPerBlock = 256;\n",
        "  int blocksPerGrid = (n + threadsPerBlock -1) / threadsPerBlock;\n",
        "\n",
        "  array_add<<<blocksPerGrid, threadsPerBlock>>>(d_a, d_b, d_c);\n",
        "\n",
        "  cudaMemcpy(c, d_c, n*sizeof(int), cudaMemcpyDeviceToHost);\n",
        "\n",
        "  for(int i=0; i<n; i++){\n",
        "    printf(\"%d \", c[i]);\n",
        "  }\n",
        "  printf(\"\\n\");\n",
        "\n",
        "  cudaFree(d_a);\n",
        "  cudaFree(d_b);\n",
        "  cudaFree(d_c);\n",
        "\n",
        "  return 0;\n",
        "}\n"
      ]
    },
    {
      "cell_type": "code",
      "source": [
        "!nvcc -o 1 1.cu"
      ],
      "metadata": {
        "id": "9gKsUwPGU33T"
      },
      "execution_count": null,
      "outputs": []
    },
    {
      "cell_type": "code",
      "source": [
        "!./1"
      ],
      "metadata": {
        "colab": {
          "base_uri": "https://localhost:8080/"
        },
        "id": "IkVjKt00VI8T",
        "outputId": "f5bf572e-8fe4-4ee5-d34d-43abf37dade2"
      },
      "execution_count": null,
      "outputs": [
        {
          "output_type": "stream",
          "name": "stdout",
          "text": [
            "0 0 0 0 0 0 0 0 0 0 \n"
          ]
        }
      ]
    },
    {
      "cell_type": "code",
      "source": [
        "%%writefile 2.cu\n",
        "\n",
        "#include <stdio.h>\n",
        "#include <stdlib.h>\n",
        "#include <cuda.h>\n",
        "\n",
        "#define n 10\n",
        "\n",
        "__global__ void arrayMax(int *a, int *b, int max, int min){\n",
        "  int tid = threadIdx.x + blockIdx.x * blockDim.x;\n",
        "\n",
        "  if(tid < n){\n",
        "    max = 0;\n",
        "    for(int i=0; i<n; i++){\n",
        "      if (a[i]>max){\n",
        "        max = a[i];\n",
        "      }\n",
        "    }\n",
        "    min =0;\n",
        "    for(int i=0; i<n;i++){\n",
        "      if(a[i]<=min){\n",
        "        min = a[i];\n",
        "    }\n",
        "    }\n",
        "  }\n",
        "}\n",
        "\n",
        "int main(){\n",
        "  int a[n], b[n], max, min;\n",
        "\n",
        "  for(int i=0; i<n; i++){\n",
        "    a[i]=i+1;\n",
        "    b[i]=i+1;\n",
        "  }\n",
        "\n",
        "  int *d_a, *d_b, d_max, d_min;\n",
        "\n",
        "  cudaMalloc((void**)&d_a, n*sizeof(int));\n",
        "  cudaMalloc((void**)&d_b, n*sizeof(int));\n",
        "  cudaMalloc((void**)&d_max, sizeof(int));\n",
        "  cudaMalloc((void**)&d_min, sizeof(int));\n",
        "\n",
        "  cudaMemcpy(d_a, a, n*sizeof(int), cudaMemcpyHostToDevice);\n",
        "  cudaMemcpy(d_b, b, n*sizeof(int), cudaMemcpyHostToDevice);\n",
        "\n",
        "  int threadsPerBlock = 256;\n",
        "  int blocksPerGrid = (n+threadsPerBlock-1)/threadsPerBlock;\n",
        "\n",
        "  arrayMax<<<blocksPerGrid, threadsPerBlock>>>(d_a, d_b, d_max, d_min);\n",
        "\n",
        "  cudaMemcpy(&max, &d_max, sizeof(int), cudaMemcpyDeviceToHost);\n",
        "  cudaMemcpy(&min, &d_min, sizeof(int), cudaMemcpyDeviceToHost);\n",
        "\n",
        "  printf(\"%d\\n\",max);\n",
        "  printf(\"%d\\n\",max);\n",
        "\n",
        "  cudaFree(d_a);\n",
        "  cudaFree(d_b);\n",
        "  //cudaFree(d_max);\n",
        "\n",
        "  return 0;\n",
        "\n",
        "}"
      ],
      "metadata": {
        "colab": {
          "base_uri": "https://localhost:8080/"
        },
        "id": "sn8_4FcPVpyl",
        "outputId": "9319857d-f2b1-42fd-ce6e-cb626e31598b"
      },
      "execution_count": null,
      "outputs": [
        {
          "output_type": "stream",
          "name": "stdout",
          "text": [
            "Overwriting 2.cu\n"
          ]
        }
      ]
    },
    {
      "cell_type": "code",
      "source": [
        "!nvcc -o 2 2.cu"
      ],
      "metadata": {
        "id": "s0OW6xvXZ1c8"
      },
      "execution_count": null,
      "outputs": []
    },
    {
      "cell_type": "code",
      "source": [
        "!./2"
      ],
      "metadata": {
        "colab": {
          "base_uri": "https://localhost:8080/"
        },
        "id": "PuZjx0DoZ6Sz",
        "outputId": "1a3d8b44-126c-4499-b1b1-28082dbe9e8a"
      },
      "execution_count": null,
      "outputs": [
        {
          "output_type": "stream",
          "name": "stdout",
          "text": [
            "1\n",
            "1\n"
          ]
        }
      ]
    },
    {
      "cell_type": "code",
      "source": [
        "%%writefile 3.cu\n",
        "\n",
        "#include <stdio.h>\n",
        "#include <stdlib.h>\n",
        "#include <cuda.h>\n",
        "\n",
        "#define n 10\n",
        "\n",
        "__global__ void arrayMax(int *a, int *b, int *max, int min){\n",
        "  int tid = threadIdx.x + blockIdx.x * blockDim.x;\n",
        "\n",
        "  if(tid < n){\n",
        "    atomicMax(max, a[tid]);\n",
        "  }\n",
        "}\n",
        "\n",
        "\n",
        "int main(){\n",
        "  int a[n], b[n], max, min;\n",
        "\n",
        "  for(int i=0; i<n; i++){\n",
        "    a[i]=i+1;\n",
        "    b[i]=i+1;\n",
        "  }\n",
        "\n",
        "  int *d_a, *d_b, *d_max, d_min;\n",
        "\n",
        "  cudaMalloc((void**)&d_a, n*sizeof(int));\n",
        "  cudaMalloc((void**)&d_b, n*sizeof(int));\n",
        "  cudaMalloc((void**)&d_max, sizeof(int));\n",
        "  cudaMalloc((void**)&d_min, sizeof(int));\n",
        "\n",
        "  cudaMemcpy(d_a, a, n*sizeof(int), cudaMemcpyHostToDevice);\n",
        "  cudaMemcpy(d_b, b, n*sizeof(int), cudaMemcpyHostToDevice);\n",
        "\n",
        "  int threadsPerBlock = 256;\n",
        "  int blocksPerGrid = (n+threadsPerBlock-1)/threadsPerBlock;\n",
        "\n",
        "  arrayMax<<<blocksPerGrid, threadsPerBlock>>>(d_a, d_b, d_max, d_min);\n",
        "\n",
        "  cudaMemcpy(&max, d_max, sizeof(int), cudaMemcpyDeviceToHost);\n",
        "  cudaMemcpy(&min, &d_min, sizeof(int), cudaMemcpyDeviceToHost);\n",
        "\n",
        "  printf(\"%d\\n\",max);\n",
        "  printf(\"%d\\n\",max);\n",
        "\n",
        "  cudaFree(d_a);\n",
        "  cudaFree(d_b);\n",
        "  //cudaFree(d_max);\n",
        "\n",
        "  return 0;\n",
        "\n",
        "}"
      ],
      "metadata": {
        "colab": {
          "base_uri": "https://localhost:8080/"
        },
        "id": "lp6ZP8YJazZM",
        "outputId": "23715ceb-f4bb-4000-9639-2a6d106a876f"
      },
      "execution_count": null,
      "outputs": [
        {
          "output_type": "stream",
          "name": "stdout",
          "text": [
            "Overwriting 3.cu\n"
          ]
        }
      ]
    },
    {
      "cell_type": "code",
      "source": [
        "!nvcc -o 3 3.cu"
      ],
      "metadata": {
        "id": "z_u5FTZ4jifH"
      },
      "execution_count": null,
      "outputs": []
    },
    {
      "cell_type": "code",
      "source": [
        "!./3"
      ],
      "metadata": {
        "colab": {
          "base_uri": "https://localhost:8080/"
        },
        "id": "GV9oxWZwjoIl",
        "outputId": "ff4e0690-209c-43de-e0d3-fc24c18896fb"
      },
      "execution_count": null,
      "outputs": [
        {
          "output_type": "stream",
          "name": "stdout",
          "text": [
            "10\n",
            "10\n"
          ]
        }
      ]
    },
    {
      "cell_type": "code",
      "source": [
        "%%writefile 4.cu\n",
        "\n",
        "#include <stdio.h>\n",
        "#include <cuda_runtime.h>\n",
        "\n",
        "#define N 10\n",
        "\n",
        "__device__ int d_a[N];\n",
        "__device__ int d_b[N];\n",
        "__device__ int d_c[N];\n",
        "\n",
        "__global__ void add_array(){\n",
        "  int tid = threadIdx.x + blockIdx.x * blockDim.x;\n",
        "\n",
        "  if(tid < N){\n",
        "    d_c[tid] = d_a[tid] + d_b[tid];\n",
        "  }\n",
        "}\n",
        "\n",
        "void initializeArrayA(int *a){\n",
        "  cudaMemcpyToSymbol(d_a, a, N*sizeof(int), 0, cudaMemcpyHostToDevice);\n",
        "}\n",
        "\n",
        "void initArrayB(int *b){\n",
        "  cudaMemcpyToSymbol(d_b, b, N*sizeof(int), 0, cudaMemcpyHostToDevice);\n",
        "}\n",
        "\n",
        "void retrieveResFromC(int *c){\n",
        "  cudaMemcpyFromSymbol(c, d_c, N*sizeof(int), 0, cudaMemcpyDeviceToHost);\n",
        "}\n",
        "\n",
        "int main(){\n",
        "  int a[N], b[N], c[N];\n",
        "\n",
        "  for(int i=0; i< N; i++){\n",
        "    a[i]=i+1;\n",
        "    b[i]=i+2;\n",
        "  }\n",
        "\n",
        "  initializeArrayA(a);\n",
        "  initArrayB(b);\n",
        "\n",
        "  int threadsPerBlock = 256;\n",
        "  int blocksPerGrid = (N + threadsPerBlock -1)/threadsPerBlock;\n",
        "\n",
        "  add_array<<<blocksPerGrid, threadsPerBlock>>>();\n",
        "  cudaDeviceSynchronize();\n",
        "\n",
        "  retrieveResFromC(c);\n",
        "\n",
        "  for(int i=0; i<N; i++){\n",
        "    printf(\"%d \", c[i]);\n",
        "  }\n",
        "\n",
        "  return 0;\n",
        "\n",
        "}\n"
      ],
      "metadata": {
        "id": "Sfd8x6igokQv",
        "colab": {
          "base_uri": "https://localhost:8080/"
        },
        "outputId": "0e207314-fc32-4265-dd0e-646ff2a2eaa9"
      },
      "execution_count": null,
      "outputs": [
        {
          "output_type": "stream",
          "name": "stdout",
          "text": [
            "Overwriting 4.cu\n"
          ]
        }
      ]
    },
    {
      "cell_type": "code",
      "source": [
        "!nvcc -o 4 4.cu"
      ],
      "metadata": {
        "id": "ouZIhw6BbTC0"
      },
      "execution_count": null,
      "outputs": []
    },
    {
      "cell_type": "code",
      "source": [
        "!./4"
      ],
      "metadata": {
        "colab": {
          "base_uri": "https://localhost:8080/"
        },
        "id": "MeWK4ZiwbW5P",
        "outputId": "7b4f3cd4-3082-4229-cdbf-ace3ca3fd502"
      },
      "execution_count": null,
      "outputs": [
        {
          "output_type": "stream",
          "name": "stdout",
          "text": [
            "3 5 7 9 11 13 15 17 19 21 "
          ]
        }
      ]
    },
    {
      "cell_type": "code",
      "source": [],
      "metadata": {
        "id": "6uYSV72bblmH"
      },
      "execution_count": null,
      "outputs": []
    },
    {
      "cell_type": "code",
      "source": [
        "%%writefile 5.cu\n",
        "\n",
        "#include <stdio.h>\n",
        "#include <cuda.h>\n",
        "\n",
        "#define N 100\n",
        "\n",
        "__global__ void primeNum(){\n",
        "  int id = threadIdx.x + blockIdx.x * blockDim.x;\n",
        "\n",
        "  if(id < N){\n",
        "    int count = 0;\n",
        "    for(int j=0; j<=id; j++){\n",
        "      if(id%j==0){\n",
        "        count++;\n",
        "      }\n",
        "    }\n",
        "    if(count == 2){\n",
        "      printf(\"%d is prime\\n\", id);\n",
        "    }else{\n",
        "      printf(\"%d is not prime\\n\", id);\n",
        "    }\n",
        "  }\n",
        "}\n",
        "\n",
        "int main(){\n",
        "  int threadsPerBlock = 256;\n",
        "  int blocksPerGrid = (N + threadsPerBlock-1)/threadsPerBlock;\n",
        "\n",
        "  primeNum<<<blocksPerGrid, threadsPerBlock>>>();\n",
        "  cudaDeviceSynchronize();\n",
        "\n",
        "  return 0;\n",
        "}"
      ],
      "metadata": {
        "colab": {
          "base_uri": "https://localhost:8080/"
        },
        "id": "dsNsrHz_exvx",
        "outputId": "0fe0e5cb-d548-4eeb-e676-05f12ecb25bb"
      },
      "execution_count": null,
      "outputs": [
        {
          "output_type": "stream",
          "name": "stdout",
          "text": [
            "Overwriting 5.cu\n"
          ]
        }
      ]
    },
    {
      "cell_type": "code",
      "source": [
        "!nvcc -o 5 5.cu"
      ],
      "metadata": {
        "id": "kw9rj_l2gh9f"
      },
      "execution_count": null,
      "outputs": []
    },
    {
      "cell_type": "code",
      "source": [
        "!./5"
      ],
      "metadata": {
        "colab": {
          "base_uri": "https://localhost:8080/"
        },
        "id": "t930jkKUgkdm",
        "outputId": "5cf4432a-63a5-4289-d07f-db9f5e6c5a5f"
      },
      "execution_count": null,
      "outputs": [
        {
          "output_type": "stream",
          "name": "stdout",
          "text": [
            "97 is prime\n",
            "37 is prime\n",
            "41 is prime\n",
            "43 is prime\n",
            "47 is prime\n",
            "53 is prime\n",
            "59 is prime\n",
            "61 is prime\n",
            "2 is prime\n",
            "3 is prime\n",
            "5 is prime\n",
            "7 is prime\n",
            "11 is prime\n",
            "13 is prime\n",
            "17 is prime\n",
            "19 is prime\n",
            "23 is prime\n",
            "29 is prime\n",
            "31 is prime\n",
            "67 is prime\n",
            "71 is prime\n",
            "73 is prime\n",
            "79 is prime\n",
            "83 is prime\n",
            "89 is prime\n",
            "96 is not prime\n",
            "98 is not prime\n",
            "99 is not prime\n",
            "0 is not prime\n",
            "1 is not prime\n",
            "4 is not prime\n",
            "6 is not prime\n",
            "8 is not prime\n",
            "9 is not prime\n",
            "10 is not prime\n",
            "12 is not prime\n",
            "14 is not prime\n",
            "15 is not prime\n",
            "16 is not prime\n",
            "18 is not prime\n",
            "20 is not prime\n",
            "21 is not prime\n",
            "22 is not prime\n",
            "24 is not prime\n",
            "25 is not prime\n",
            "26 is not prime\n",
            "27 is not prime\n",
            "28 is not prime\n",
            "30 is not prime\n",
            "32 is not prime\n",
            "33 is not prime\n",
            "34 is not prime\n",
            "35 is not prime\n",
            "36 is not prime\n",
            "38 is not prime\n",
            "39 is not prime\n",
            "40 is not prime\n",
            "42 is not prime\n",
            "44 is not prime\n",
            "45 is not prime\n",
            "46 is not prime\n",
            "48 is not prime\n",
            "49 is not prime\n",
            "50 is not prime\n",
            "51 is not prime\n",
            "52 is not prime\n",
            "54 is not prime\n",
            "55 is not prime\n",
            "56 is not prime\n",
            "57 is not prime\n",
            "58 is not prime\n",
            "60 is not prime\n",
            "62 is not prime\n",
            "63 is not prime\n",
            "64 is not prime\n",
            "65 is not prime\n",
            "66 is not prime\n",
            "68 is not prime\n",
            "69 is not prime\n",
            "70 is not prime\n",
            "72 is not prime\n",
            "74 is not prime\n",
            "75 is not prime\n",
            "76 is not prime\n",
            "77 is not prime\n",
            "78 is not prime\n",
            "80 is not prime\n",
            "81 is not prime\n",
            "82 is not prime\n",
            "84 is not prime\n",
            "85 is not prime\n",
            "86 is not prime\n",
            "87 is not prime\n",
            "88 is not prime\n",
            "90 is not prime\n",
            "91 is not prime\n",
            "92 is not prime\n",
            "93 is not prime\n",
            "94 is not prime\n",
            "95 is not prime\n"
          ]
        }
      ]
    },
    {
      "cell_type": "code",
      "source": [
        "%%writefile 6.cu\n",
        "\n",
        "#include <stdio.h>\n",
        "#define N 15\n",
        "\n",
        "__global__ void sumWithSharedMem(int *d_input, int *d_output, int n) {\n",
        "    extern __shared__ int sdata[]; // Dynamically allocated shared memory\n",
        "\n",
        "    int idx = blockIdx.x * blockDim.x + threadIdx.x;\n",
        "\n",
        "    // Load data into shared memory\n",
        "    if (idx < n) {\n",
        "        sdata[threadIdx.x] = d_input[idx];\n",
        "    } else {\n",
        "        sdata[threadIdx.x] = 0;\n",
        "    }\n",
        "\n",
        "    __syncthreads();\n",
        "\n",
        "    // Perform block-wise sum\n",
        "    if (threadIdx.x == 0) {\n",
        "        int blockSum = 0;\n",
        "        for (int i = 0; i < blockDim.x; i++) { // Corrected condition\n",
        "            blockSum += sdata[i];\n",
        "        }\n",
        "        d_output[blockIdx.x] = blockSum;\n",
        "    }\n",
        "}\n",
        "\n",
        "int main() {\n",
        "    int h_input[N], *d_input, *d_output;\n",
        "    int threadsPerBlock = 4;\n",
        "    int blocksPerGrid = (N + threadsPerBlock - 1) / threadsPerBlock; // Dynamic block calculation\n",
        "    int h_output[blocksPerGrid]; // Adjust output array size dynamically\n",
        "    int finalSum = 0; // Initialize finalSum\n",
        "\n",
        "    for (int i = 0; i < N; i++) {\n",
        "        h_input[i] = i + 1;\n",
        "    }\n",
        "\n",
        "    cudaMalloc((void **)&d_input, N * sizeof(int));\n",
        "    cudaMalloc((void **)&d_output, blocksPerGrid * sizeof(int));\n",
        "\n",
        "    cudaMemcpy(d_input, h_input, N * sizeof(int), cudaMemcpyHostToDevice);\n",
        "\n",
        "    sumWithSharedMem<<<blocksPerGrid, threadsPerBlock, threadsPerBlock * sizeof(int)>>>(d_input, d_output, N);\n",
        "\n",
        "    cudaMemcpy(h_output, d_output, blocksPerGrid * sizeof(int), cudaMemcpyDeviceToHost);\n",
        "\n",
        "    for (int i = 0; i < blocksPerGrid; i++) {\n",
        "        finalSum += h_output[i];\n",
        "    }\n",
        "\n",
        "    printf(\"Final Sum: %d\\n\", finalSum);\n",
        "\n",
        "    cudaFree(d_input);\n",
        "    cudaFree(d_output);\n",
        "\n",
        "    return 0;\n",
        "}\n"
      ],
      "metadata": {
        "colab": {
          "base_uri": "https://localhost:8080/"
        },
        "id": "1t8jOTUTgmuX",
        "outputId": "91fd2f73-5465-4db7-cb52-e10f2e801c74"
      },
      "execution_count": null,
      "outputs": [
        {
          "output_type": "stream",
          "name": "stdout",
          "text": [
            "Overwriting 6.cu\n"
          ]
        }
      ]
    },
    {
      "cell_type": "code",
      "source": [
        "!nvcc -o 6 6.cu"
      ],
      "metadata": {
        "id": "Dn7RaN0joPbZ"
      },
      "execution_count": null,
      "outputs": []
    },
    {
      "cell_type": "code",
      "source": [
        "!./6"
      ],
      "metadata": {
        "colab": {
          "base_uri": "https://localhost:8080/"
        },
        "id": "CRLQ612EoXk2",
        "outputId": "25d597a0-89a5-45ca-874a-dece14db36e9"
      },
      "execution_count": null,
      "outputs": [
        {
          "output_type": "stream",
          "name": "stdout",
          "text": [
            "Final Sum: 0\n"
          ]
        }
      ]
    },
    {
      "cell_type": "code",
      "source": [
        "%%writefile 7.cu\n",
        "\n",
        "#include <stdio.h>\n",
        "#define N 15\n",
        "\n",
        "__global__ void sumWithSharedMem(int *d_input, int *d_output, int n){\n",
        "  extern __shared__ int Sdata[];\n",
        "\n",
        "  int tid = threadIdx.x + blockIdx.x * blockDim.x;\n",
        "\n",
        "  if(tid < n){\n",
        "    Sdata[threadIdx.x] = d_input[tid];\n",
        "  }\n",
        "  else{\n",
        "    Sdata[threadIdx.x] = 0;\n",
        "  }\n",
        "  __syncthreads();\n",
        "\n",
        "  if(threadIdx.x == 0){\n",
        "    int blockSum =0;\n",
        "    for(int i=0; i<blockDim.x; i++){\n",
        "      blockSum += Sdata[i];\n",
        "    }\n",
        "    d_output[blockIdx.x] = blockSum;\n",
        "  }\n",
        "}\n",
        "\n",
        "int main(){\n",
        "  int h_input[N];\n",
        "  int threadsPerBlock = 4;\n",
        "  int blocksPerGrid = (N+threadsPerBlock-1)/threadsPerBlock;\n",
        "  int h_output[blocksPerGrid];\n",
        "\n",
        "  for(int i=0; i<N; i++){\n",
        "    h_input[i] = i+1;\n",
        "  }\n",
        "\n",
        "  int *d_input, *d_output;\n",
        "  cudaMalloc((void**)&d_input, N*sizeof(int));\n",
        "  cudaMalloc((void**)&d_output, blocksPerGrid*sizeof(int));\n",
        "\n",
        "  cudaMemcpy(d_input, h_input, N*sizeof(int), cudaMemcpyHostToDevice);\n",
        "\n",
        "  sumWithSharedMem<<<blocksPerGrid, threadsPerBlock, threadsPerBlock*sizeof(int)>>>(d_input, d_output, N);\n",
        "\n",
        "  cudaMemcpy(h_output, d_output, blocksPerGrid*sizeof(int), cudaMemcpyDeviceToHost);\n",
        "\n",
        "  int finalSum =0;\n",
        "  for(int i=0; i<blocksPerGrid; i++){\n",
        "    finalSum += h_output[i];\n",
        "  }\n",
        "\n",
        "  printf(\"%d \\n\", finalSum);\n",
        "\n",
        "  cudaFree(d_input);\n",
        "  cudaFree(d_output);\n",
        "  return 0;\n",
        "}"
      ],
      "metadata": {
        "colab": {
          "base_uri": "https://localhost:8080/"
        },
        "id": "D3OSM-H1piWs",
        "outputId": "f47e06fc-07ba-4e65-cf15-60269f37af6c"
      },
      "execution_count": 1,
      "outputs": [
        {
          "output_type": "stream",
          "name": "stdout",
          "text": [
            "Writing 7.cu\n"
          ]
        }
      ]
    },
    {
      "cell_type": "code",
      "source": [
        "!nvcc -o 7 7.cu"
      ],
      "metadata": {
        "id": "qsEuEeUa14p0"
      },
      "execution_count": 2,
      "outputs": []
    },
    {
      "cell_type": "code",
      "source": [
        "!./7"
      ],
      "metadata": {
        "colab": {
          "base_uri": "https://localhost:8080/"
        },
        "id": "IdBb5wij18Bv",
        "outputId": "26bf6c23-8b9f-4710-cc31-9d5059613e21"
      },
      "execution_count": 3,
      "outputs": [
        {
          "output_type": "stream",
          "name": "stdout",
          "text": [
            "120 \n"
          ]
        }
      ]
    },
    {
      "cell_type": "code",
      "source": [
        "%%writefile 8.cu\n",
        "\n",
        "#include <stdio.h>\n",
        "#define N 16\n",
        "\n",
        "__device__ int blockReduction(int *Sdata, int blocksize){\n",
        "  int blockSum = 0;\n",
        "  for(int i=0; i<blocksize; i++){\n",
        "    blockSum += Sdata[i];\n",
        "  }\n",
        "  return blockSum;\n",
        "}\n",
        "\n",
        "__global__ void SharedSum(int *d_input, int *d_output, int n){\n",
        "  extern __shared__ int Sdata[];\n",
        "\n",
        "  int tid = threadIdx.x + blockIdx.x * blockDim.x;\n",
        "\n",
        "  if(tid < n){\n",
        "    Sdata[threadIdx.x] = d_input[tid];\n",
        "  }\n",
        "  else{\n",
        "    Sdata[threadIdx.x] = 0;\n",
        "  }\n",
        "  __syncthreads();\n",
        "\n",
        "  if(threadIdx.x == 0){\n",
        "    int blockSum = blockReduction(Sdata, blockDim.x);\n",
        "    d_output[blockIdx.x] = blockSum;\n",
        "  }\n",
        "}\n",
        "\n",
        "int main(){\n",
        "  int h_input[N];\n",
        "  int threadsPerBlock = 4;\n",
        "  int blocksPerGrid = (N + threadsPerBlock-1)/threadsPerBlock;\n",
        "  int h_output[blocksPerGrid];\n",
        "\n",
        "  for(int i=0; i<N; i++){\n",
        "    h_input[i] = i+1;\n",
        "  }\n",
        "\n",
        "  int *d_input, *d_output;\n",
        "\n",
        "  cudaMalloc((void**)&d_input, N*sizeof(int));\n",
        "  cudaMalloc((void**)&d_output, blocksPerGrid*sizeof(int));\n",
        "\n",
        "  cudaMemcpy(d_input, h_input, N*sizeof(int), cudaMemcpyHostToDevice);\n",
        "\n",
        "  SharedSum<<<blocksPerGrid, threadsPerBlock, threadsPerBlock*sizeof(int)>>>(d_input, d_output, N);\n",
        "\n",
        "  cudaMemcpy(h_output, d_output, blocksPerGrid*sizeof(int), cudaMemcpyDeviceToHost);\n",
        "\n",
        "  int finalSum = 0;\n",
        "  for(int i=0; i<blocksPerGrid; i++){\n",
        "    finalSum += h_output[i];\n",
        "  }\n",
        "\n",
        "  printf(\"final sum: %d\\n\", finalSum);\n",
        "\n",
        "  cudaFree(d_input);\n",
        "  cudaFree(d_output);\n",
        "\n",
        "  return 0;\n",
        "}"
      ],
      "metadata": {
        "id": "CC2ah67gbgsz",
        "colab": {
          "base_uri": "https://localhost:8080/"
        },
        "outputId": "43b5bb4a-75cc-402f-cf72-d6417eb72150"
      },
      "execution_count": 7,
      "outputs": [
        {
          "output_type": "stream",
          "name": "stdout",
          "text": [
            "Overwriting 8.cu\n"
          ]
        }
      ]
    },
    {
      "cell_type": "code",
      "source": [
        "!nvcc -o 8 8.cu"
      ],
      "metadata": {
        "id": "iCWnMLdCsjIX"
      },
      "execution_count": 8,
      "outputs": []
    },
    {
      "cell_type": "code",
      "source": [
        "!./8"
      ],
      "metadata": {
        "colab": {
          "base_uri": "https://localhost:8080/"
        },
        "id": "pDhDOZOVsl90",
        "outputId": "da81343f-2568-43ad-d32f-68882341c9dd"
      },
      "execution_count": 9,
      "outputs": [
        {
          "output_type": "stream",
          "name": "stdout",
          "text": [
            "final sum: 136\n"
          ]
        }
      ]
    },
    {
      "cell_type": "code",
      "source": [
        "%%writefile 9.cu\n",
        "\n",
        "#include <stdio.h>\n",
        "#define N 1024\n",
        "\n",
        "__global__ void AtomicAdd(int *d_input, int *d_output){\n",
        "  int tid = threadIdx.x;\n",
        "\n",
        "  if(tid<N){\n",
        "    atomicAdd(d_output, d_input[tid]);\n",
        "  }\n",
        "}\n",
        "\n",
        "int main(){\n",
        "  int h_input[N], h_output = 0;\n",
        "  for(int i=0; i<N; i++){\n",
        "    h_input[i] = i+1;\n",
        "  }\n",
        "\n",
        "  int *d_input, *d_output;\n",
        "  cudaMalloc((void**)&d_input, N*sizeof(int));\n",
        "  cudaMalloc((void**)&d_output, sizeof(int));\n",
        "\n",
        "  cudaMemcpy(d_input, h_input, N*sizeof(int), cudaMemcpyHostToDevice);\n",
        "  AtomicAdd<<<1, 1024>>>(d_input, d_output);\n",
        "  cudaMemcpy(&h_output, d_output, sizeof(int), cudaMemcpyDeviceToHost);\n",
        "\n",
        "  printf(\"%d \", h_output);\n",
        "\n",
        "  cudaFree(d_input);\n",
        "  cudaFree(d_output);\n",
        "\n",
        "  return 0;\n",
        "}"
      ],
      "metadata": {
        "colab": {
          "base_uri": "https://localhost:8080/"
        },
        "id": "Yt966Lz7tyls",
        "outputId": "c8b5d3d4-fdee-47c1-8db1-64376dc125a4"
      },
      "execution_count": 11,
      "outputs": [
        {
          "output_type": "stream",
          "name": "stdout",
          "text": [
            "Overwriting 9.cu\n"
          ]
        }
      ]
    },
    {
      "cell_type": "code",
      "source": [
        "!nvcc -o 9 9.cu"
      ],
      "metadata": {
        "id": "os7QbT0GBypK"
      },
      "execution_count": 12,
      "outputs": []
    },
    {
      "cell_type": "code",
      "source": [
        "!./9"
      ],
      "metadata": {
        "colab": {
          "base_uri": "https://localhost:8080/"
        },
        "id": "aCqjhrbfB09W",
        "outputId": "5d61d932-7be9-4478-8159-26e92c5fc3b8"
      },
      "execution_count": 13,
      "outputs": [
        {
          "output_type": "stream",
          "name": "stdout",
          "text": [
            "524800 "
          ]
        }
      ]
    },
    {
      "cell_type": "code",
      "source": [
        "%%writefile 10.cu\n",
        "\n",
        "#include <stdio.h>\n",
        "#define N 1024\n",
        "\n",
        "__global__ void AtomicAddMaxMin(int *d_input, int *d_sum, int *d_max, int *d_min){\n",
        "  int tid = threadIdx.x + blockIdx.x * blockDim.x;\n",
        "\n",
        "  if(tid < N){\n",
        "    atomicAdd(d_sum, d_input[tid]);\n",
        "    atomicMax(d_max, d_input[tid]);\n",
        "    atomicMin(d_min, d_input[tid]);\n",
        "  }\n",
        "}\n",
        "\n",
        "int main(){\n",
        "  int h_input[N];\n",
        "  int h_sum, h_max, h_min = 0;\n",
        "  for(int i=0; i<N; i++){\n",
        "    h_input[i] = i+1;\n",
        "  }\n",
        "\n",
        "  int threadsPerBlock = 256;\n",
        "  int blocksPerGrid = (N+threadsPerBlock-1)/threadsPerBlock;\n",
        "\n",
        "  int *d_input, *d_sum, *d_max, *d_min;\n",
        "  cudaMalloc((void**)&d_input, N*sizeof(int));\n",
        "  cudaMalloc((void**)&d_sum, sizeof(int));\n",
        "  cudaMalloc((void**)&d_max, sizeof(int));\n",
        "  cudaMalloc((void**)&d_min, sizeof(int));\n",
        "\n",
        "  cudaMemcpy(d_input, h_input, N*sizeof(int), cudaMemcpyHostToDevice);\n",
        "  AtomicAddMaxMin<<<blocksPerGrid, threadsPerBlock>>>(d_input, d_sum, d_max, d_min);\n",
        "  cudaMemcpy(&h_sum, d_sum, sizeof(int), cudaMemcpyDeviceToHost);\n",
        "  cudaMemcpy(&h_min, d_min, sizeof(int), cudaMemcpyDeviceToHost);\n",
        "  cudaMemcpy(&h_max, d_max, sizeof(int), cudaMemcpyDeviceToHost);\n",
        "\n",
        "  printf(\"sum : %d\\n max: %d\\n min: %d\\n\", h_sum, h_max, h_min);\n",
        "\n",
        "  return 0;\n",
        "\n",
        "}"
      ],
      "metadata": {
        "colab": {
          "base_uri": "https://localhost:8080/"
        },
        "id": "ynmp05YPCbsM",
        "outputId": "fce612a9-9a50-4e97-a517-e7edef364954"
      },
      "execution_count": 8,
      "outputs": [
        {
          "output_type": "stream",
          "name": "stdout",
          "text": [
            "Overwriting 10.cu\n"
          ]
        }
      ]
    },
    {
      "cell_type": "code",
      "source": [
        "!nvcc -o 10 10.cu"
      ],
      "metadata": {
        "id": "as_MPKcbGqZa"
      },
      "execution_count": 9,
      "outputs": []
    },
    {
      "cell_type": "code",
      "source": [
        "!./10"
      ],
      "metadata": {
        "colab": {
          "base_uri": "https://localhost:8080/"
        },
        "id": "IiJlFrX_GtdU",
        "outputId": "96958c89-dfd9-4dea-8d78-af624fe793e7"
      },
      "execution_count": 10,
      "outputs": [
        {
          "output_type": "stream",
          "name": "stdout",
          "text": [
            "sum : 524800\n",
            " max: 1024\n",
            " min: 0\n"
          ]
        }
      ]
    },
    {
      "cell_type": "code",
      "source": [
        "%%writefile 11.cu\n",
        "\n",
        "#include <stdio.h>\n",
        "#define N 5\n",
        "\n",
        "__global__ void matrix_addition(int *a, int *b, int *c, int n){\n",
        "  int tid = threadIdx.x + blockIdx.x * blockDim.x;\n",
        "\n",
        "  if(tid < n*n){\n",
        "    int i = tid / n;\n",
        "    int j = tid % n;\n",
        "    c[i * n + j] = a[i * n + j]+ b[i*n+j];\n",
        "  }\n",
        "}\n",
        "\n",
        "int main(){\n",
        "  int a[N][N], b[N][N], c[N][N];\n",
        "  for(int i=0; i<N; i++){\n",
        "    for(int j=0; j<N; j++){\n",
        "      a[i][j] = i+1;\n",
        "      b[i][j] = i+1;\n",
        "    }\n",
        "  }\n",
        "\n",
        "  int threadsPerBlock = N;\n",
        "  int blocksPerGrid = (N*N+threadsPerBlock-1)/threadsPerBlock;\n",
        "\n",
        "  int *d_a, *d_b, *d_c;\n",
        "  cudaMalloc((void**)&d_a, N*N*sizeof(int));\n",
        "  cudaMalloc((void**)&d_b, N*N*sizeof(int));\n",
        "  cudaMalloc((void**)&d_c, N*N*sizeof(int));\n",
        "\n",
        "  cudaMemcpy(d_a, a, N*N*sizeof(int), cudaMemcpyHostToDevice);\n",
        "  cudaMemcpy(d_b, b, N*N*sizeof(int), cudaMemcpyHostToDevice);\n",
        "\n",
        "  matrix_addition<<<blocksPerGrid, threadsPerBlock>>>(d_a, d_b, d_c, N);\n",
        "\n",
        "  cudaMemcpy(c, d_c, N*N*sizeof(int), cudaMemcpyDeviceToHost);\n",
        "\n",
        "  for(int i=0; i<N; i++){\n",
        "    for(int j=0; j<N; j++){\n",
        "      printf(\"%d \", c[i][j]);\n",
        "    }\n",
        "    printf(\"\\n\");\n",
        "  }\n",
        "\n",
        "  return 0;\n",
        "}"
      ],
      "metadata": {
        "colab": {
          "base_uri": "https://localhost:8080/"
        },
        "id": "RxcKek-uHCVz",
        "outputId": "ae9ee548-9fce-4981-c595-d85c62141ab2"
      },
      "execution_count": 1,
      "outputs": [
        {
          "output_type": "stream",
          "name": "stdout",
          "text": [
            "Writing 11.cu\n"
          ]
        }
      ]
    },
    {
      "cell_type": "code",
      "source": [
        "!nvcc -o 11 11.cu"
      ],
      "metadata": {
        "id": "87soVBg7bZRQ"
      },
      "execution_count": 2,
      "outputs": []
    },
    {
      "cell_type": "code",
      "source": [
        "!./11"
      ],
      "metadata": {
        "colab": {
          "base_uri": "https://localhost:8080/"
        },
        "id": "dpJU9Hmnbbfc",
        "outputId": "5d89abd9-97f8-4447-8e65-a04ef42c0748"
      },
      "execution_count": 3,
      "outputs": [
        {
          "output_type": "stream",
          "name": "stdout",
          "text": [
            "2 2 2 2 2 \n",
            "4 4 4 4 4 \n",
            "6 6 6 6 6 \n",
            "8 8 8 8 8 \n",
            "10 10 10 10 10 \n"
          ]
        }
      ]
    },
    {
      "cell_type": "code",
      "source": [
        "%%writefile 12.cu\n",
        "\n",
        "#include <stdio.h>\n",
        "#include <stdlib.h>\n",
        "\n",
        "__global__ void matrix_add(int *a, int *b, int *c, int n){\n",
        "  int tid = threadIdx.x + blockIdx.x * blockDim.x;\n",
        "\n",
        "  if(tid < n * n){\n",
        "    int i = tid / n;\n",
        "    int j = tid % n;\n",
        "    c[i*n+j] = a[i*n+j] + b[i*n+j];\n",
        "  }\n",
        "}\n",
        "\n",
        "int main(){\n",
        "  int sizes[] = {5,10,15};\n",
        "  int n;\n",
        "\n",
        "\n",
        "  for(int i=0; i<3; i++){\n",
        "    n = sizes[i];\n",
        "    int size = n*n*sizeof(int);\n",
        "\n",
        "    int *a, *b, *c;\n",
        "    a = (int*)malloc(size);\n",
        "    b = (int*)malloc(size);\n",
        "    c = (int*)malloc(size);\n",
        "\n",
        "    for(int i=0; i<n*n; i++){\n",
        "      a[i] = i+1;\n",
        "      b[i] = i+1;\n",
        "    }\n",
        "\n",
        "    int *d_a, *d_b, *d_c;\n",
        "    cudaMalloc((void**)&d_a, size);\n",
        "    cudaMalloc((void**)&d_b, size);\n",
        "    cudaMalloc((void**)&d_c, size);\n",
        "\n",
        "    cudaMemcpy(d_a, a, size, cudaMemcpyHostToDevice);\n",
        "    cudaMemcpy(d_b, b, size, cudaMemcpyHostToDevice);\n",
        "\n",
        "    int threadsPerBlock = 256;\n",
        "    int blocksPerGrid = (n*n + threadsPerBlock-1)/threadsPerBlock;\n",
        "\n",
        "    matrix_add<<<blocksPerGrid, threadsPerBlock>>>(d_a, d_b, d_c, n);\n",
        "\n",
        "    cudaMemcpy(c, d_c, size, cudaMemcpyDeviceToHost);\n",
        "\n",
        "    for(int i=0; i<n; i++){\n",
        "      for(int j=0; j<n; j++){\n",
        "        printf(\"%d \", c[i*n+j]);\n",
        "      }\n",
        "      printf(\"\\n\");\n",
        "    }\n",
        "    printf(\"\\n\");\n",
        "  }\n",
        "\n",
        "  return 0;\n",
        "}"
      ],
      "metadata": {
        "colab": {
          "base_uri": "https://localhost:8080/"
        },
        "id": "M5nlLxNfoPEf",
        "outputId": "070949b7-9ac8-40f2-9825-dae482525cd4"
      },
      "execution_count": 7,
      "outputs": [
        {
          "output_type": "stream",
          "name": "stdout",
          "text": [
            "Overwriting 12.cu\n"
          ]
        }
      ]
    },
    {
      "cell_type": "code",
      "source": [
        "!nvcc -o 12 12.cu"
      ],
      "metadata": {
        "id": "LiWfdm3NFk_4"
      },
      "execution_count": 8,
      "outputs": []
    },
    {
      "cell_type": "code",
      "source": [
        "!./12"
      ],
      "metadata": {
        "colab": {
          "base_uri": "https://localhost:8080/"
        },
        "id": "vOCDG1eyFnRN",
        "outputId": "0843895c-41a5-488f-d4ea-bb4930982e62"
      },
      "execution_count": 9,
      "outputs": [
        {
          "output_type": "stream",
          "name": "stdout",
          "text": [
            "2 4 6 8 10 \n",
            "12 14 16 18 20 \n",
            "22 24 26 28 30 \n",
            "32 34 36 38 40 \n",
            "42 44 46 48 50 \n",
            "\n",
            "2 4 6 8 10 12 14 16 18 20 \n",
            "22 24 26 28 30 32 34 36 38 40 \n",
            "42 44 46 48 50 52 54 56 58 60 \n",
            "62 64 66 68 70 72 74 76 78 80 \n",
            "82 84 86 88 90 92 94 96 98 100 \n",
            "102 104 106 108 110 112 114 116 118 120 \n",
            "122 124 126 128 130 132 134 136 138 140 \n",
            "142 144 146 148 150 152 154 156 158 160 \n",
            "162 164 166 168 170 172 174 176 178 180 \n",
            "182 184 186 188 190 192 194 196 198 200 \n",
            "\n",
            "2 4 6 8 10 12 14 16 18 20 22 24 26 28 30 \n",
            "32 34 36 38 40 42 44 46 48 50 52 54 56 58 60 \n",
            "62 64 66 68 70 72 74 76 78 80 82 84 86 88 90 \n",
            "92 94 96 98 100 102 104 106 108 110 112 114 116 118 120 \n",
            "122 124 126 128 130 132 134 136 138 140 142 144 146 148 150 \n",
            "152 154 156 158 160 162 164 166 168 170 172 174 176 178 180 \n",
            "182 184 186 188 190 192 194 196 198 200 202 204 206 208 210 \n",
            "212 214 216 218 220 222 224 226 228 230 232 234 236 238 240 \n",
            "242 244 246 248 250 252 254 256 258 260 262 264 266 268 270 \n",
            "272 274 276 278 280 282 284 286 288 290 292 294 296 298 300 \n",
            "302 304 306 308 310 312 314 316 318 320 322 324 326 328 330 \n",
            "332 334 336 338 340 342 344 346 348 350 352 354 356 358 360 \n",
            "362 364 366 368 370 372 374 376 378 380 382 384 386 388 390 \n",
            "392 394 396 398 400 402 404 406 408 410 412 414 416 418 420 \n",
            "422 424 426 428 430 432 434 436 438 440 442 444 446 448 450 \n",
            "\n"
          ]
        }
      ]
    },
    {
      "cell_type": "code",
      "source": [
        "%%writefile 13.cu\n",
        "\n",
        "#include <stdio.h>\n",
        "#define N 5\n",
        "\n",
        "__global__ void matrix_mult(int *a, int *b, int *c, int n){\n",
        "  int tid = threadIdx.x + blockIdx.x * blockDim.x;\n",
        "\n",
        "  if(tid < n*n){\n",
        "    int row = tid / n;\n",
        "    int col = tid % n;\n",
        "\n",
        "    int sum =0;\n",
        "    for(int i=0; i<n;i++){\n",
        "      sum += a[row*n+i] * b[i*n+col];\n",
        "    }\n",
        "    c[row*n+col] = sum;\n",
        "  }\n",
        "}\n",
        "\n",
        "int main(){\n",
        "  int a[N][N] = {0};\n",
        "  int b[N][N] = {0};\n",
        "  int c[N][N] = {0};\n",
        "  int size = N*N*sizeof(int);\n",
        "\n",
        "  for(int i=0; i<N; i++){\n",
        "    for(int j=0; j<N; j++){\n",
        "      a[i][j] = rand() % 10;\n",
        "      b[i][j] = rand() % 10;\n",
        "    }\n",
        "  }\n",
        "\n",
        "  int *d_a, *d_b, *d_c;\n",
        "  cudaMalloc((void**)&d_a, size);\n",
        "  cudaMalloc((void**)&d_b, size);\n",
        "  cudaMalloc((void**)&d_c, size);\n",
        "\n",
        "  cudaMemcpy(d_a, a, size, cudaMemcpyHostToDevice);\n",
        "  cudaMemcpy(d_b, b, size, cudaMemcpyHostToDevice);\n",
        "\n",
        "  int threadsPerBlock = 256;\n",
        "  int blocksPerGrid = (N*N + threadsPerBlock -1)/threadsPerBlock;\n",
        "\n",
        "  matrix_mult<<<blocksPerGrid, threadsPerBlock>>>(d_a, d_b, d_c, N);\n",
        "\n",
        "  cudaMemcpy(c, d_c, size, cudaMemcpyDeviceToHost);\n",
        "\n",
        "  for(int i=0; i<N; i++){\n",
        "    for(int j=0; j<N;j++){\n",
        "      printf(\"%d \", c[i][j]);\n",
        "    }\n",
        "    printf(\"\\n\");\n",
        "  }\n",
        "  printf(\"\\n\");\n",
        "\n",
        "  return 0;\n",
        "\n",
        "}"
      ],
      "metadata": {
        "colab": {
          "base_uri": "https://localhost:8080/"
        },
        "id": "1CI5VQXEF3Px",
        "outputId": "afc1a40b-3846-406e-9b19-269b8ab2039d"
      },
      "execution_count": 10,
      "outputs": [
        {
          "output_type": "stream",
          "name": "stdout",
          "text": [
            "Overwriting 13.cu\n"
          ]
        }
      ]
    },
    {
      "cell_type": "code",
      "source": [
        "!nvcc -o 13 13.cu"
      ],
      "metadata": {
        "id": "1miNs64IO4uj"
      },
      "execution_count": 11,
      "outputs": []
    },
    {
      "cell_type": "code",
      "source": [
        "!./13"
      ],
      "metadata": {
        "colab": {
          "base_uri": "https://localhost:8080/"
        },
        "id": "yWEQW3c-O60d",
        "outputId": "1b0d5bbf-293f-4675-86ad-91a707d62f45"
      },
      "execution_count": 12,
      "outputs": [
        {
          "output_type": "stream",
          "name": "stdout",
          "text": [
            "130 234 162 129 72 \n",
            "42 55 24 21 17 \n",
            "96 165 110 90 57 \n",
            "149 177 85 79 72 \n",
            "124 199 142 104 51 \n",
            "\n"
          ]
        }
      ]
    },
    {
      "cell_type": "code",
      "source": [
        "%%writefile 14.c\n",
        "\n",
        "#include <stdio.h>\n",
        "#define N 5\n",
        "\n",
        "void matrix_mul(int a[N][N], int b[N][N], int c[N][N], int n){\n",
        "  #pragma acc parallel loop collapse(2) copyin(a[0:N][0:N], b[0:N][0:N]) copyout(c[0:N][0:N])\n",
        "  for(int row =0; row<n; row++){\n",
        "    for(int col=0; col<n; col++){\n",
        "      int sum =0;\n",
        "      for(int i=0; i<n; i++){\n",
        "        sum += a[row][i] * b[i][col];\n",
        "      }\n",
        "      c[row][col] = sum;\n",
        "    }\n",
        "  }\n",
        "}\n",
        "\n",
        "int main(){\n",
        "\n",
        "}"
      ],
      "metadata": {
        "id": "kBFHnQxWPF_C"
      },
      "execution_count": 8,
      "outputs": []
    }
  ]
}