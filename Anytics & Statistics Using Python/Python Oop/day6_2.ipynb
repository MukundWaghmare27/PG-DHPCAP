{
 "cells": [
  {
   "cell_type": "markdown",
   "metadata": {},
   "source": [
    "Python Oop"
   ]
  },
  {
   "cell_type": "code",
   "execution_count": 46,
   "metadata": {},
   "outputs": [],
   "source": [
    "class person:\n",
    "    def __init__ (self, fname, lname, age, country, city, skills):\n",
    "        \n",
    "        #attributes\n",
    "        self.first_name = fname\n",
    "        self.last_name = lname\n",
    "        self.age = age\n",
    "        self.country = country\n",
    "        self.city = city\n",
    "        self.skills = skills\n",
    "    \n",
    "    #Methods\n",
    "    def full_name(self):\n",
    "        return f'{self.first_name} {self.last_name} {self.country} {self.city} '\n",
    "    \n",
    "    def add_skill(self, skill):\n",
    "        self.skill.append(skill)\n",
    "        \n",
    "    def print_info(self):\n",
    "        return f'''{self.first_name},\n",
    "    is from {self.city}\n",
    "    Likes {self.skills} so much'''"
   ]
  },
  {
   "cell_type": "code",
   "execution_count": 31,
   "metadata": {},
   "outputs": [
    {
     "name": "stdout",
     "output_type": "stream",
     "text": [
      "<__main__.person object at 0x7f942a58ec20>\n",
      "Parker\n",
      "24\n",
      "Peter Parker India Pune \n"
     ]
    }
   ],
   "source": [
    "p = person('Peter', 'Parker', 24, 'India', 'Pune')\n",
    "print(p)\n",
    "print(p.last_name)\n",
    "print(p.age)\n",
    "print(p.full_name())\n"
   ]
  },
  {
   "cell_type": "code",
   "execution_count": 33,
   "metadata": {},
   "outputs": [
    {
     "data": {
      "text/plain": [
       "'spidy makdesh USA AZ '"
      ]
     },
     "execution_count": 33,
     "metadata": {},
     "output_type": "execute_result"
    }
   ],
   "source": [
    "p=person('spidy', 'makdesh', 24, 'USA', 'AZ')\n",
    "p.full_name()\n"
   ]
  },
  {
   "cell_type": "code",
   "execution_count": 48,
   "metadata": {},
   "outputs": [
    {
     "name": "stdout",
     "output_type": "stream",
     "text": [
      "Bhavik,\n",
      "    is from Yav\n",
      "    Likes Cricket so much\n"
     ]
    }
   ],
   "source": [
    "p=person('Bhavik', \"Bondade\", 24, 'India', 'Yav', 'Cricket')\n",
    "print(p.print_info())"
   ]
  },
  {
   "cell_type": "markdown",
   "metadata": {},
   "source": [
    "Inheritance"
   ]
  },
  {
   "cell_type": "code",
   "execution_count": 50,
   "metadata": {},
   "outputs": [],
   "source": [
    "class Student(person):\n",
    "    '''student is inherited from person'''\n",
    "    pass"
   ]
  },
  {
   "cell_type": "code",
   "execution_count": 58,
   "metadata": {},
   "outputs": [],
   "source": [
    "#s1 = Student('Mohan', 'Gandhi', 25, 'India', 'Aurangabad', 'ty')\n",
    "#s2 = Student('Rohan', 'Bhagwat', 25, 'India', 'Ayodhya')\n",
    "#print(s2.print_info())"
   ]
  },
  {
   "cell_type": "code",
   "execution_count": 59,
   "metadata": {},
   "outputs": [
    {
     "name": "stdout",
     "output_type": "stream",
     "text": [
      "Aaah...\n",
      "am full\n"
     ]
    }
   ],
   "source": [
    "class Bird:\n",
    "    def __init__(self):\n",
    "        self.hungry = True\n",
    "    def eat(self):\n",
    "        if self.hungry:\n",
    "            print('Aaah...')\n",
    "            self.hungry = False\n",
    "        else:\n",
    "            print('am full')\n",
    "                       \n",
    "b = Bird()\n",
    "b.eat()\n",
    "b.eat()"
   ]
  },
  {
   "cell_type": "code",
   "execution_count": 75,
   "metadata": {},
   "outputs": [
    {
     "name": "stdout",
     "output_type": "stream",
     "text": [
      "singing: squawk squawk!\n",
      "Aaah...\n",
      "am full\n",
      "Bye\n",
      "Bhurrrrr\n"
     ]
    }
   ],
   "source": [
    "class SongBird(Bird):\n",
    "    def __init__(self):\n",
    "        super(SongBird, self).__init__()\n",
    "        self.sound='squawk'\n",
    "        self.Flying = True\n",
    "    def sing(self):\n",
    "        print(f'singing: {self.sound} {self.sound}!')\n",
    "        \n",
    "    def Fly(self):\n",
    "        if self.Flying:\n",
    "            print('Bye')\n",
    "            self.Flying = False\n",
    "        else:\n",
    "            print('Bhurrrrr')\n",
    "        \n",
    "sb = SongBird()\n",
    "sb.sing()\n",
    "sb.eat()\n",
    "sb.eat()\n",
    "sb.Fly()\n",
    "sb.Fly()"
   ]
  },
  {
   "cell_type": "markdown",
   "metadata": {},
   "source": [
    "Encapsulation"
   ]
  },
  {
   "cell_type": "code",
   "execution_count": 90,
   "metadata": {},
   "outputs": [],
   "source": [
    "GlobalName = 'Sir Javed'\n",
    "\n",
    "class OpenObject():\n",
    "    def __init__(self):\n",
    "        self.GlobalName = GlobalName\n",
    "        \n",
    "    def setName(self, name):\n",
    "        global GlobalName\n",
    "        GlobalName = name\n",
    "        self.GlobalName = name\n",
    "        \n",
    "    def getName(self):\n",
    "        return self.GlobalName"
   ]
  },
  {
   "cell_type": "code",
   "execution_count": 91,
   "metadata": {},
   "outputs": [
    {
     "name": "stdout",
     "output_type": "stream",
     "text": [
      "Sir Javed\n",
      "Robin Hood\n"
     ]
    },
    {
     "data": {
      "text/plain": [
       "'Robin Hood'"
      ]
     },
     "execution_count": 91,
     "metadata": {},
     "output_type": "execute_result"
    }
   ],
   "source": [
    "o1 = OpenObject()\n",
    "print(o1.GlobalName)\n",
    "o1.setName('Robin Hood')\n",
    "print(o1.GlobalName)\n",
    "o2 = OpenObject()\n",
    "o2.getName()\n"
   ]
  },
  {
   "cell_type": "code",
   "execution_count": 103,
   "metadata": {},
   "outputs": [],
   "source": [
    "class EncludingObject():\n",
    "    def __init__(self, Name = 'Sir Munna'):\n",
    "        self.Name = Name\n",
    "        \n",
    "    def setName(self, new_name):\n",
    "        global Name\n",
    "        Name = new_name\n",
    "        self.Name = Name\n",
    "        \n",
    "    def getName(self):\n",
    "        return self.Name"
   ]
  },
  {
   "cell_type": "code",
   "execution_count": 106,
   "metadata": {},
   "outputs": [
    {
     "name": "stdout",
     "output_type": "stream",
     "text": [
      "Sir Munna\n",
      "Babar\n"
     ]
    },
    {
     "data": {
      "text/plain": [
       "'Babar'"
      ]
     },
     "execution_count": 106,
     "metadata": {},
     "output_type": "execute_result"
    }
   ],
   "source": [
    "a = EncludingObject()\n",
    "print(a.Name)\n",
    "a.setName('Babar')\n",
    "print(a.Name)\n",
    "a.getName()"
   ]
  },
  {
   "cell_type": "code",
   "execution_count": 108,
   "metadata": {},
   "outputs": [
    {
     "name": "stdout",
     "output_type": "stream",
     "text": [
      "TATA Nexon is starting...\n"
     ]
    }
   ],
   "source": [
    "class car:\n",
    "    def __init__(self, make, model):\n",
    "        self.make = make\n",
    "        self.model = model \n",
    "    def start(self):\n",
    "        print(f'{self.make} {self.model} is starting...')\n",
    "\n",
    "car1 = car('TATA', 'Nexon')\n",
    "car1.start()"
   ]
  },
  {
   "cell_type": "code",
   "execution_count": 109,
   "metadata": {},
   "outputs": [
    {
     "data": {
      "text/plain": [
       "'TATA'"
      ]
     },
     "execution_count": 109,
     "metadata": {},
     "output_type": "execute_result"
    }
   ],
   "source": [
    "car1.make"
   ]
  },
  {
   "cell_type": "code",
   "execution_count": 111,
   "metadata": {},
   "outputs": [
    {
     "name": "stdout",
     "output_type": "stream",
     "text": [
      "Where are you am not there..!\n"
     ]
    }
   ],
   "source": [
    "class Secret:\n",
    "    def __inaccessible(self):  #private members define with double underscore(__)\n",
    "        print('am not there..!')\n",
    "    def accessible(self):\n",
    "        print('Where are you ', end='')\n",
    "        self.__inaccessible()\n",
    "        \n",
    "s1 = Secret()\n",
    "s1.accessible()"
   ]
  },
  {
   "cell_type": "code",
   "execution_count": 114,
   "metadata": {},
   "outputs": [],
   "source": [
    "class BankAccount:\n",
    "    def __init__(self, account_num):  #Private\n",
    "        self.__account_num = account_num\n",
    "        \n",
    "    def __validate_pin(self, pin):    #Private\n",
    "        return len(pin) == 4\n",
    "    \n",
    "acc = BankAccount('54454')"
   ]
  },
  {
   "cell_type": "code",
   "execution_count": 115,
   "metadata": {},
   "outputs": [
    {
     "data": {
      "text/plain": [
       "'54454'"
      ]
     },
     "execution_count": 115,
     "metadata": {},
     "output_type": "execute_result"
    }
   ],
   "source": [
    "acc._BankAccount__account_num #To access private member"
   ]
  },
  {
   "cell_type": "code",
   "execution_count": 118,
   "metadata": {},
   "outputs": [
    {
     "data": {
      "text/plain": [
       "True"
      ]
     },
     "execution_count": 118,
     "metadata": {},
     "output_type": "execute_result"
    }
   ],
   "source": [
    "acc._BankAccount__validate_pin('1234') #To access private number"
   ]
  },
  {
   "cell_type": "code",
   "execution_count": null,
   "metadata": {},
   "outputs": [],
   "source": []
  },
  {
   "cell_type": "code",
   "execution_count": null,
   "metadata": {},
   "outputs": [],
   "source": []
  }
 ],
 "metadata": {
  "kernelspec": {
   "display_name": "Sep2024",
   "language": "python",
   "name": "python3"
  },
  "language_info": {
   "codemirror_mode": {
    "name": "ipython",
    "version": 3
   },
   "file_extension": ".py",
   "mimetype": "text/x-python",
   "name": "python",
   "nbconvert_exporter": "python",
   "pygments_lexer": "ipython3",
   "version": "3.10.7"
  }
 },
 "nbformat": 4,
 "nbformat_minor": 2
}
