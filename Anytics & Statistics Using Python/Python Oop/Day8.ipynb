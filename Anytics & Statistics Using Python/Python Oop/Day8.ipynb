{
 "cells": [
  {
   "cell_type": "markdown",
   "metadata": {},
   "source": []
  },
  {
   "cell_type": "code",
   "execution_count": 9,
   "metadata": {},
   "outputs": [],
   "source": [
    "class FibsIter:\n",
    "    def __init__(self, max_num):\n",
    "        self.max_num = max_num\n",
    "        \n",
    "    def __iter__(self):\n",
    "        self.a=0\n",
    "        self.b=1\n",
    "        return self\n",
    "        \n",
    "    def __next__(self):\n",
    "        if self.a <= self.max_num:\n",
    "            self.a, self.b = self.b, self.a + self.b\n",
    "            return self.a\n",
    "        else:\n",
    "            raise StopIteration"
   ]
  },
  {
   "cell_type": "code",
   "execution_count": 6,
   "metadata": {},
   "outputs": [
    {
     "name": "stdout",
     "output_type": "stream",
     "text": [
      "1, 1, 2, 3, 5, 8, 13, 21, 34, 55, 89, 144, "
     ]
    }
   ],
   "source": [
    "fibs = FibsIter(100)\n",
    "for fib in fibs:\n",
    "    print(fib, end=', ')"
   ]
  },
  {
   "cell_type": "markdown",
   "metadata": {},
   "source": []
  },
  {
   "cell_type": "code",
   "execution_count": null,
   "metadata": {},
   "outputs": [],
   "source": [
    "\n",
    "class Rectangle:\n",
    "    def __init__(self):\n",
    "        self.width = 0\n",
    "        self.height = 0\n",
    "        \n",
    "    def setSize(self, size):\n",
    "        self.width, self.height = size\n",
    "        \n",
    "    "
   ]
  },
  {
   "cell_type": "code",
   "execution_count": null,
   "metadata": {},
   "outputs": [],
   "source": []
  }
 ],
 "metadata": {
  "kernelspec": {
   "display_name": "Python 3",
   "language": "python",
   "name": "python3"
  },
  "language_info": {
   "codemirror_mode": {
    "name": "ipython",
    "version": 3
   },
   "file_extension": ".py",
   "mimetype": "text/x-python",
   "name": "python",
   "nbconvert_exporter": "python",
   "pygments_lexer": "ipython3",
   "version": "3.10.7"
  }
 },
 "nbformat": 4,
 "nbformat_minor": 2
}
