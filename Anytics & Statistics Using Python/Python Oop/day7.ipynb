{
 "cells": [
  {
   "cell_type": "code",
   "execution_count": null,
   "metadata": {},
   "outputs": [],
   "source": []
  },
  {
   "cell_type": "code",
   "execution_count": 5,
   "metadata": {},
   "outputs": [
    {
     "name": "stdout",
     "output_type": "stream",
     "text": [
      "husky makes a bark sound\n"
     ]
    },
    {
     "data": {
      "text/plain": [
       "'Generic animal'"
      ]
     },
     "execution_count": 5,
     "metadata": {},
     "output_type": "execute_result"
    }
   ],
   "source": [
    "class Animal:\n",
    "    def __init__(self,name):\n",
    "        self._name = name\n",
    "    def _make_sound(self,sound):\n",
    "        print(f'{self._name} makes a {sound} sound')\n",
    "        \n",
    "class Dog(Animal):\n",
    "    def bark(self):\n",
    "        self._make_sound('bark')\n",
    "        \n",
    "animal = Animal('Generic animal')\n",
    "dog = Dog('husky')\n",
    "dog.bark()\n",
    "animal._name\n",
    "\n"
   ]
  },
  {
   "cell_type": "code",
   "execution_count": 33,
   "metadata": {},
   "outputs": [
    {
     "name": "stdout",
     "output_type": "stream",
     "text": [
      "ID: 101 Name: michael jordan Salary: 90000000\n"
     ]
    }
   ],
   "source": [
    "class Employee:\n",
    "    def __init__(self,emp_id,emp_name,emp_salary):\n",
    "        self._emp_id = emp_id\n",
    "        self._emp_name = emp_name\n",
    "        self._emp_salary = emp_salary\n",
    "        \n",
    "    def __str__(self):\n",
    "        return f'ID: {self._emp_id} Name: {self._emp_name} Salary: {self._emp_salary}'\n",
    "    \n",
    "    def decrement_salary(self,amount):\n",
    "        if amount > 0:\n",
    "           self._emp_salary -= amount\n",
    "        else:\n",
    "            print(\"invalid salary\")\n",
    "            \n",
    "e1 = Employee(101,'michael jordan',90000000)\n",
    "print(e1)"
   ]
  },
  {
   "cell_type": "code",
   "execution_count": 35,
   "metadata": {},
   "outputs": [
    {
     "name": "stdout",
     "output_type": "stream",
     "text": [
      "ID: 101 Name: michael jordan Salary: 70000000\n"
     ]
    }
   ],
   "source": [
    "e1.decrement_salary(10000000)\n",
    "print(e1)"
   ]
  },
  {
   "cell_type": "markdown",
   "metadata": {},
   "source": [
    "### Multiple Super class"
   ]
  },
  {
   "cell_type": "code",
   "execution_count": 36,
   "metadata": {},
   "outputs": [
    {
     "name": "stdout",
     "output_type": "stream",
     "text": [
      "In __init__ of TalkingCalculator\n",
      "In __init__ of Calculator\n",
      "In __init__ of Talker\n",
      "In __init__ of Interaction System\n",
      "I am Calculator\n"
     ]
    },
    {
     "data": {
      "text/plain": [
       "(__main__.TalkingCalculator,\n",
       " __main__.Calculator,\n",
       " __main__.Talker,\n",
       " __main__.InteractionSystem,\n",
       " object)"
      ]
     },
     "execution_count": 36,
     "metadata": {},
     "output_type": "execute_result"
    }
   ],
   "source": [
    "class InteractionSystem:\n",
    "    \n",
    "    def __init__(self):\n",
    "        print('In __init__ of Interaction System')\n",
    "\n",
    "    def who_am_i(self):\n",
    "        print('I am InteractionSystem')\n",
    "\n",
    "class Calculator(InteractionSystem):\n",
    "    \n",
    "    def __init__(self):\n",
    "        print('In __init__ of Calculator')\n",
    "        super().__init__()\n",
    "    \n",
    "    def calculate(self,expression):\n",
    "        self.value = eval(expression)\n",
    "        \n",
    "    def who_am_i(self):\n",
    "        print('I am Calculator')\n",
    "\n",
    "        \n",
    "class Talker(InteractionSystem):\n",
    "    \n",
    "    def __init__(self):\n",
    "        print('In __init__ of Talker')\n",
    "        super().__init__()\n",
    "        \n",
    "    def talk(self):\n",
    "        print(f'The result is {self.value}')\n",
    "        \n",
    "    def who_am_i(self):\n",
    "        print('I am Talker')\n",
    "\n",
    "        \n",
    "        \n",
    "class TalkingCalculator(Calculator,Talker):\n",
    "    \n",
    "    def __init__(self):\n",
    "        print('In __init__ of TalkingCalculator')\n",
    "        super().__init__()\n",
    "\n",
    "\n",
    "tc = TalkingCalculator()\n",
    "tc.who_am_i()\n",
    "\n",
    "TalkingCalculator.__mro__"
   ]
  },
  {
   "cell_type": "markdown",
   "metadata": {},
   "source": [
    "functions"
   ]
  },
  {
   "cell_type": "code",
   "execution_count": 38,
   "metadata": {},
   "outputs": [
    {
     "name": "stdout",
     "output_type": "stream",
     "text": [
      "{}\n",
      "{2: 1000}\n"
     ]
    }
   ],
   "source": [
    "\n",
    "def check_index(key):\n",
    "    if not isinstance(key,int): raise TypeError\n",
    "    if key < 0: raise IndexError\n",
    "    \n",
    "class ArithmeticError:\n",
    "    def __init__(self,start = 0,step = 0):\n",
    "        self.start = start\n",
    "        self.step = step\n",
    "        self.change = {}\n",
    "        \n",
    "    def __getitem__(self,key):\n",
    "        check_index(key)\n",
    "        try: return self.change[key]\n",
    "        except KeyError:\n",
    "            return self.start + key * self.step\n",
    "\n",
    "    def __setitem__(self,key,value):\n",
    "        check_index(key)\n",
    "        self.change[key] = value\n",
    "\n",
    "    def __str__(self): \n",
    "        return f'{self.change}'\n",
    "    \n",
    "            \n",
    "s = ArithmeticError(1,2)\n",
    "print(s)\n",
    "s[2] = 1000\n",
    "print(s)"
   ]
  },
  {
   "cell_type": "code",
   "execution_count": 39,
   "metadata": {},
   "outputs": [
    {
     "name": "stdout",
     "output_type": "stream",
     "text": [
      "1, 1, 2, 3, 5, 8, 13, 21, 34, 55, 89, 144, 233, 377, 610, 987, 1597, 2584, 4181, 6765, "
     ]
    }
   ],
   "source": [
    "\n",
    "class Fibs:\n",
    "    def __init__(self):\n",
    "        self.a = 0\n",
    "        self.b = 1\n",
    "        \n",
    "    def next(self):\n",
    "        self.a, self.b = self.b, self.a + self.b\n",
    "        return self.a\n",
    "\n",
    "    def __iter__(self):\n",
    "        return self\n",
    "    \n",
    "fib = Fibs()\n",
    "for _ in range(20):\n",
    "    print(fib.next(),end = ', ')\n"
   ]
  },
  {
   "cell_type": "code",
   "execution_count": 41,
   "metadata": {},
   "outputs": [
    {
     "name": "stdout",
     "output_type": "stream",
     "text": [
      "7\n"
     ]
    }
   ],
   "source": [
    "\n",
    "class MathOperations:\n",
    "    \n",
    "    @staticmethod\n",
    "    def add(x,y):\n",
    "        return x + y\n",
    "    \n",
    "\n",
    "result = MathOperations.add(3,4)\n",
    "print(result)"
   ]
  },
  {
   "cell_type": "code",
   "execution_count": 83,
   "metadata": {},
   "outputs": [
    {
     "name": "stdout",
     "output_type": "stream",
     "text": [
      "1\n",
      "2\n"
     ]
    }
   ],
   "source": [
    "\n",
    "\n",
    "class MathOperations:\n",
    "    count = 0   #class-level attribute\n",
    "    \n",
    "    @classmethod\n",
    "    def increment_count(cls):\n",
    "        cls.count += 1\n",
    "        return cls.count\n",
    "    \n",
    "    #calling the class method\n",
    "print(MathOperations.increment_count())\n",
    "print(MathOperations.increment_count())\n",
    "\n"
   ]
  },
  {
   "cell_type": "code",
   "execution_count": 84,
   "metadata": {},
   "outputs": [
    {
     "name": "stdout",
     "output_type": "stream",
     "text": [
      "static method: 7\n",
      "class method: 1\n",
      "class method: 2\n",
      "instance method: my name is michael\n",
      "instance method: my name is jordan\n"
     ]
    }
   ],
   "source": [
    "\n",
    "class Example:\n",
    "    count =0 #class level attribute\n",
    "    \n",
    "    def __init__(self,name):\n",
    "        self.name = name # Instance-level attribute\n",
    "        \n",
    "    # staticmethod\n",
    "    @staticmethod\n",
    "    def static_method(x,y):\n",
    "        return f'static method: {x+y}'\n",
    "    \n",
    "    # class method\n",
    "    @classmethod\n",
    "    def class_method(cls):\n",
    "        cls.count +=1\n",
    "        return f'class method: {cls.count}'\n",
    "\n",
    "    # object (instance) method\n",
    "    def instance_method(self):\n",
    "        return f'instance method: my name is {self.name}'\n",
    "\n",
    "\n",
    "\n",
    "    # creating a instance of the class\n",
    "\n",
    "obj1 = Example(\"michael\")\n",
    "obj2 = Example(\"jordan\")\n",
    "\n",
    "\n",
    "    # static method call\n",
    "\n",
    "print(Example.static_method(3,4))\n",
    "\n",
    "\n",
    "    # class method call\n",
    "\n",
    "print(Example.class_method())\n",
    "print(Example.class_method())\n",
    "\n",
    "\n",
    "    # instance method call\n",
    "\n",
    "\n",
    "print(obj1.instance_method())\n",
    "print(obj2.instance_method())"
   ]
  },
  {
   "cell_type": "markdown",
   "metadata": {},
   "source": [
    "  Exception Handling"
   ]
  },
  {
   "cell_type": "code",
   "execution_count": 1,
   "metadata": {},
   "outputs": [
    {
     "name": "stdout",
     "output_type": "stream",
     "text": [
      "15\n",
      "Error: division by zero\n",
      "This code block will always run\n"
     ]
    },
    {
     "ename": "Exception",
     "evalue": "harddrive overloaded",
     "output_type": "error",
     "traceback": [
      "\u001b[0;31m---------------------------------------------------------------------------\u001b[0m",
      "\u001b[0;31mException\u001b[0m                                 Traceback (most recent call last)",
      "Cell \u001b[0;32mIn[1], line 15\u001b[0m\n\u001b[1;32m     11\u001b[0m \u001b[38;5;28;01mfinally\u001b[39;00m:\n\u001b[1;32m     12\u001b[0m     \u001b[38;5;28mprint\u001b[39m(\u001b[38;5;124m'\u001b[39m\u001b[38;5;124mThis code block will always run\u001b[39m\u001b[38;5;124m'\u001b[39m)\n\u001b[0;32m---> 15\u001b[0m \u001b[38;5;28;01mraise\u001b[39;00m \u001b[38;5;167;01mException\u001b[39;00m(\u001b[38;5;124m\"\u001b[39m\u001b[38;5;124mharddrive overloaded\u001b[39m\u001b[38;5;124m\"\u001b[39m)\n",
      "\u001b[0;31mException\u001b[0m: harddrive overloaded"
     ]
    }
   ],
   "source": [
    "try:\n",
    "    print(10 + int('5'))\n",
    "    a = 10\n",
    "    print(a/0)\n",
    "except TypeError as e:\n",
    "    print(f'Error: {e}')\n",
    "except ZeroDivisionError as e:\n",
    "    print(f'Error: {e}')\n",
    "else:\n",
    "    print('No errors occurred')\n",
    "finally:\n",
    "    print('This code block will always run')\n",
    "\n",
    "\n",
    "raise Exception(\"harddrive overloaded\")"
   ]
  }
 ],
 "metadata": {
  "kernelspec": {
   "display_name": "Sep2024",
   "language": "python",
   "name": "python3"
  },
  "language_info": {
   "codemirror_mode": {
    "name": "ipython",
    "version": 3
   },
   "file_extension": ".py",
   "mimetype": "text/x-python",
   "name": "python",
   "nbconvert_exporter": "python",
   "pygments_lexer": "ipython3",
   "version": "3.10.7"
  }
 },
 "nbformat": 4,
 "nbformat_minor": 2
}
