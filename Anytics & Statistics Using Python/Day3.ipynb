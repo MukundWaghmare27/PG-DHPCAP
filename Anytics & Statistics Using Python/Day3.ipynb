{
 "cells": [
  {
   "cell_type": "markdown",
   "metadata": {},
   "source": [
    "Problem Statement 2:\n",
    "Write a Python program that takes a full name as input in the format \"First Last\".\n",
    "\n",
    "Make sure it is in \"title case\" i.e. first letter capitalized.\n",
    "Assign the first name and last name to two separate variables at once.\n",
    "Format the output to display the name as \"Last, First\".\n",
    "Print the initials of the name using string slicing.\n"
   ]
  },
  {
   "cell_type": "code",
   "execution_count": 18,
   "metadata": {},
   "outputs": [
    {
     "name": "stdout",
     "output_type": "stream",
     "text": [
      "Donald Trump\n",
      "\"Trump,Donald\"\n"
     ]
    },
    {
     "data": {
      "text/plain": [
       "'DT'"
      ]
     },
     "execution_count": 18,
     "metadata": {},
     "output_type": "execute_result"
    }
   ],
   "source": [
    "Full_name='donald tRump'\n",
    "A=Full_name.title()\n",
    "print(A)\n",
    "first,last = A.split()\n",
    "fullName = f'\"{last},{first}\"'\n",
    "print(fullName)\n",
    "''.join([first[0], last[0]])\n",
    "#print(A[0:8:7])\n"
   ]
  },
  {
   "cell_type": "markdown",
   "metadata": {},
   "source": [
    "Problem Statement 2:\n",
    "Write a Python program that:\n",
    "\n",
    "Takes a sentence as input.\n",
    "Counts the number of vowels in the sentence.\n",
    "Reverses the sentence using string slicing.\n",
    "Replaces all occurrences of a specific word in the sentence with another word using basic string operations."
   ]
  },
  {
   "cell_type": "code",
   "execution_count": 26,
   "metadata": {},
   "outputs": [
    {
     "name": "stdout",
     "output_type": "stream",
     "text": [
      "no of vowels: 14\n",
      "arthsaraham ni ytic tsegral dnoces eht si enup\n",
      "nagpur is the second largest city in maharashtra\n"
     ]
    }
   ],
   "source": [
    "example = 'pune is the second largest city in maharashtra'\n",
    "count=0\n",
    "for i in example:\n",
    "    if i == 'a' or i == 'e' or i == 'i' or i == 'o' or i == 'u' or i=='A' or i=='E' or i=='I' or i=='O' or i=='U':\n",
    "        count +=1\n",
    "print(\"no of vowels:\",count)\n",
    "print(example[::-1])\n",
    "print(example.replace('pune','nagpur'))"
   ]
  },
  {
   "cell_type": "markdown",
   "metadata": {},
   "source": [
    "String Concatenation"
   ]
  },
  {
   "cell_type": "code",
   "execution_count": 27,
   "metadata": {},
   "outputs": [
    {
     "name": "stdout",
     "output_type": "stream",
     "text": [
      "Donald Sharma\n"
     ]
    }
   ],
   "source": [
    "firstName = 'Donald'\n",
    "lastName = 'Sharma'\n",
    "space = ' '\n",
    "fullName = firstName  +  space + lastName\n",
    "print(fullName)"
   ]
  },
  {
   "cell_type": "code",
   "execution_count": null,
   "metadata": {},
   "outputs": [],
   "source": [
    "\n",
    "    # creating a list \n",
    "lst = [1,2,3,4,5,6,7,8,9,10]\n",
    "print(type(lst))\n",
    "\n",
    "\n",
    "lst1 = list()\n",
    "print(type(lst1))\n"
   ]
  },
  {
   "cell_type": "code",
   "execution_count": null,
   "metadata": {},
   "outputs": [],
   "source": [
    "   # adding heterogeneous elements to list\n",
    "mix_list = ['phoenix',23,True,{'city':'Pune','state':'Maharashtra'}]\n",
    "print(mix_list)\n",
    "print(type(mix_list))\n",
    "print(type(mix_list[-1]))"
   ]
  },
  {
   "cell_type": "code",
   "execution_count": null,
   "metadata": {},
   "outputs": [],
   "source": [
    "   # unpacking a list\n",
    "name,age,isStudent,address = mix_list\n",
    "print(isStudent)\n"
   ]
  },
  {
   "cell_type": "code",
   "execution_count": 4,
   "metadata": {},
   "outputs": [
    {
     "name": "stdout",
     "output_type": "stream",
     "text": [
      "[4, 5, 6, 7, 8]\n",
      "<class 'list'>\n"
     ]
    }
   ],
   "source": [
    "   # using * operator\n",
    "lst = [1,2,3,4,5,6,7,8]\n",
    "a,b,c,*rest = lst\n",
    "print(rest)\n",
    "print(type(rest))\n"
   ]
  },
  {
   "cell_type": "code",
   "execution_count": 2,
   "metadata": {},
   "outputs": [
    {
     "name": "stdout",
     "output_type": "stream",
     "text": [
      "['banana', 'mango', 'oranges']\n",
      "['apple', 'mango', 'lemon']\n",
      "['mango', 'oranges', 'lemon']\n",
      "['lemon', 'oranges', 'mango', 'banana', 'apple']\n"
     ]
    }
   ],
   "source": [
    "      # indexing\n",
    "fruits = ['apple','banana','mango','oranges','lemon']\n",
    "print(fruits[1:4])\n",
    "print(fruits[::2])\n",
    "print(fruits[2:])\n",
    "print(fruits[::-1])\n"
   ]
  },
  {
   "cell_type": "code",
   "execution_count": 3,
   "metadata": {},
   "outputs": [
    {
     "name": "stdout",
     "output_type": "stream",
     "text": [
      "['grapes', 'banana', 'mango', 'oranges', 'lemon']\n",
      "5\n",
      "True\n",
      "['grapes', 'banana', 'mango', 'oranges', 'lemon', 'kiwi']\n",
      "['grapes', 'banana', 'watermelon', 'mango', 'oranges', 'lemon', 'kiwi']\n",
      "['grapes', 'banana', 'watermelon', 'mango', 'oranges', 'lemon']\n",
      "['grapes', 'banana', 'mango', 'oranges', 'lemon']\n",
      "['grapes', 'banana', 'oranges', 'lemon']\n",
      "['banana', 'oranges', 'lemon']\n",
      "[]\n",
      "['banana', 'mango']\n",
      "['apple', 'banana', 'mango', 'lemon']\n"
     ]
    }
   ],
   "source": [
    "    # modifying list\n",
    "fruits[0] = 'grapes'\n",
    "print(fruits)\n",
    "\n",
    "\n",
    "    # length of the list\n",
    "print(len(fruits))\n",
    "\n",
    "\n",
    "    # checking elements in a list\n",
    "print('mango' in fruits)\n",
    "\n",
    "\n",
    "    # adding elements to a list using append and insert methods\n",
    "fruits.append('kiwi')\n",
    "print(fruits)\n",
    "fruits.insert(2,'watermelon')\n",
    "print(fruits)\n",
    "\n",
    "\n",
    "    # removing elements from a list using remove and pop methods & del \n",
    "fruits.pop()\n",
    "print(fruits)\n",
    "\n",
    "fruits.pop(2)\n",
    "print(fruits)\n",
    "\n",
    "fruits.remove('mango')\n",
    "print(fruits)\n",
    "\n",
    "del fruits[0]\n",
    "print(fruits)\n",
    " \n",
    " \n",
    "    # to remove all the elements\n",
    "fruits.clear()\n",
    "print(fruits)\n",
    "\n",
    "\n",
    "    # modifying and assigning to another list\n",
    "fruits = ['apple','banana','mango']\n",
    "\n",
    "other_fruits = fruits.copy()\n",
    "other_fruits.append('lemon')\n",
    "fruits.pop(0)\n",
    "print(fruits)\n",
    "print(other_fruits)"
   ]
  },
  {
   "cell_type": "code",
   "execution_count": null,
   "metadata": {},
   "outputs": [],
   "source": []
  }
 ],
 "metadata": {
  "kernelspec": {
   "display_name": "Python 3",
   "language": "python",
   "name": "python3"
  },
  "language_info": {
   "codemirror_mode": {
    "name": "ipython",
    "version": 3
   },
   "file_extension": ".py",
   "mimetype": "text/x-python",
   "name": "python",
   "nbconvert_exporter": "python",
   "pygments_lexer": "ipython3",
   "version": "3.10.7"
  }
 },
 "nbformat": 4,
 "nbformat_minor": 2
}
