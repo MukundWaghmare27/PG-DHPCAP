{
 "cells": [
  {
   "cell_type": "code",
   "execution_count": 153,
   "metadata": {},
   "outputs": [
    {
     "name": "stdout",
     "output_type": "stream",
     "text": [
      "mon tue wed thu fri sat sun\n",
      "                         1  \n",
      " 2   3   4   5   6   7   8  \n",
      " 9  10  11  12  13  14  15  \n",
      "16  17  18  19  20  21  22  \n",
      "23  24  25  26  27  28  29  \n",
      "30  \n"
     ]
    }
   ],
   "source": [
    "days_in_month = 30\n",
    "start_day = 6\n",
    "if days_in_month not in [28,29,30,31]:\n",
    "    print(\"Invalid days in month entered\")\n",
    "if start_day < 0 or start_day > 6:\n",
    "    print(\"Invalid start day entered\")\n",
    "\n",
    "#print the header for the calender\n",
    "print(\"mon tue wed thu fri sat sun\")\n",
    "\n",
    "#print spaces for the first week\n",
    "for _ in range(start_day):\n",
    "    print(\"    \",end=\"\")\n",
    "\n",
    "current_day=0\n",
    "\n",
    "#print the days of the month\n",
    "for day in range(1,days_in_month+1):\n",
    "    print(f\"{day:2}  \",end=\"\")\n",
    "    current_day +=1\n",
    "    \n",
    "    position_count = current_day + start_day\n",
    "    #move to the next line after sunday\n",
    "    if position_count % 7 == 0:\n",
    "        print()\n",
    "\n",
    "print()"
   ]
  },
  {
   "cell_type": "markdown",
   "metadata": {},
   "source": []
  },
  {
   "cell_type": "code",
   "execution_count": 154,
   "metadata": {},
   "outputs": [
    {
     "name": "stdout",
     "output_type": "stream",
     "text": [
      "0: ###\n",
      "1: #####\n",
      "2: #\n",
      "3: ########\n",
      "4: ############\n",
      "5: ####################################################################################################\n"
     ]
    }
   ],
   "source": [
    "\"\"\"Prints histogram based on the list of intergers provided.\n",
    "\n",
    "parameters:\n",
    "values\n",
    "\n",
    "\"\"\"\n",
    "\n",
    "data = [3,5,1,8,12,100]\n",
    "\n",
    "count =0\n",
    "\n",
    "for number in data:\n",
    "    print(f\"{count}: \", end=\"\")\n",
    "    \n",
    "    #for _ in range(number):\n",
    "        #print(\"*\", end=\"\")\n",
    "    print(\"#\"*number)\n",
    "    count +=1\n",
    "\n",
    "    #print()   "
   ]
  },
  {
   "cell_type": "markdown",
   "metadata": {},
   "source": [
    "3) A pangram is a sentence that contains all the letter of the English alphabet at least once, for example: the quick brown fox jumps over the lazy dog. Your task here is to write a function to check a sentence to see if it is a pangram or not"
   ]
  },
  {
   "cell_type": "code",
   "execution_count": 155,
   "metadata": {},
   "outputs": [
    {
     "name": "stdout",
     "output_type": "stream",
     "text": [
      "\"The quick brown fox jumps over the lazy dog.\" -> Pangram: True\n",
      "\"Hello World!\" -> Pangram: True\n",
      "\"pack my box with five dozen liquor jugs\" -> Pangram: True\n",
      "\"this sentence is not a pangram\" -> Pangram: True\n"
     ]
    }
   ],
   "source": [
    "import string\n",
    "\n",
    "def ispangram(sentence):\n",
    "    \n",
    "    \"\"\"\n",
    "    Parameters:\n",
    "    sentence (str): the sentence to check.\n",
    "\n",
    "    Returns:    bool:true if the sentence is a pangram, False otherwise.   \n",
    "    \"\"\"\n",
    "    \n",
    "    normalized_sentence = sentence.lower()\n",
    "    \n",
    "    alphabet_set = set(string.ascii_lowercase)\n",
    "    \n",
    "    sentence_set = set(string.ascii_lowercase)\n",
    "    \n",
    "    return alphabet_set.issubset(sentence_set)\n",
    "\n",
    "test_sentences = [\n",
    "    \"The quick brown fox jumps over the lazy dog.\",\n",
    "    \"Hello World!\",\n",
    "    \"pack my box with five dozen liquor jugs\",\n",
    "    \"this sentence is not a pangram\"\n",
    "]\n",
    "\n",
    "for sentence in test_sentences:\n",
    "    result = ispangram(sentence)\n",
    "    print(f'\"{sentence}\" -> Pangram: {result}')\n",
    "    "
   ]
  },
  {
   "cell_type": "markdown",
   "metadata": {},
   "source": [
    "##Returns the sum of all the even numbers in the list"
   ]
  },
  {
   "cell_type": "code",
   "execution_count": 156,
   "metadata": {},
   "outputs": [
    {
     "name": "stdout",
     "output_type": "stream",
     "text": [
      "Sum of even numbers:  24\n"
     ]
    }
   ],
   "source": [
    "numbers = [10, 11, 12, 13 , 15, 2]\n",
    "\n",
    "even_sum=0\n",
    "for num in numbers:\n",
    "    if num % 2 == 0:\n",
    "        even_sum += num\n",
    "        \n",
    "print('Sum of even numbers: ', even_sum)"
   ]
  },
  {
   "cell_type": "markdown",
   "metadata": {},
   "source": []
  },
  {
   "cell_type": "code",
   "execution_count": 157,
   "metadata": {},
   "outputs": [
    {
     "name": "stdout",
     "output_type": "stream",
     "text": [
      "3 found at position 2\n"
     ]
    }
   ],
   "source": [
    "numbers = [1,2,3,4,5]\n",
    "search_val = 3\n",
    "if search_val in numbers:\n",
    "    result = f\"{search_val} found at position {numbers.index(search_val)}\"\n",
    "else:\n",
    "    res = f\"{search_val} not found\"\n",
    "    \n",
    "print(result)"
   ]
  },
  {
   "cell_type": "code",
   "execution_count": 158,
   "metadata": {},
   "outputs": [
    {
     "name": "stdout",
     "output_type": "stream",
     "text": [
      "List after removing occurrences of  2 : [1, 3, 4, 3, 5, 6]\n"
     ]
    }
   ],
   "source": [
    "numbers = [1,2,3,4,3,5,6,2]\n",
    "remove_val = 2\n",
    "\n",
    "new_list = [num for num in numbers if num != remove_val]\n",
    "#for num in numbers:\n",
    " #   if num != remove_val:\n",
    "\n",
    "print(\"List after removing occurrences of \", remove_val, \":\", new_list)"
   ]
  },
  {
   "cell_type": "code",
   "execution_count": 159,
   "metadata": {},
   "outputs": [
    {
     "name": "stdout",
     "output_type": "stream",
     "text": [
      "unique numbers:  [1, 2, 3, 4, 5, 6]\n"
     ]
    }
   ],
   "source": [
    "number = [1,2,2,2,4,6,3,3,4]\n",
    "\n",
    "unique_num = list(set(numbers))\n",
    "\n",
    "print(\"unique numbers: \", unique_num)"
   ]
  },
  {
   "cell_type": "code",
   "execution_count": 160,
   "metadata": {},
   "outputs": [
    {
     "name": "stdout",
     "output_type": "stream",
     "text": [
      "[2, 3, 1, 4, 5, 6]\n"
     ]
    }
   ],
   "source": [
    "lst = [1,2,3,1,4,5,6,4,7]\n",
    "\n",
    "longest_sublist = []\n",
    "current_sublist = []\n",
    "\n",
    "for num in lst:\n",
    "    if num in current_sublist:\n",
    "        if len(current_sublist) > len(longest_sublist):\n",
    "            longest_sublist = current_sublist\n",
    "            \n",
    "        current_sublist = current_sublist[current_sublist.index(num) + 1:]\n",
    "        \n",
    "    current_sublist.append(num)\n",
    "print(max(longest_sublist,current_sublist,key=len))\n",
    "        \n",
    "        \n",
    "        "
   ]
  },
  {
   "cell_type": "code",
   "execution_count": 161,
   "metadata": {},
   "outputs": [
    {
     "data": {
      "text/plain": [
       "tuple"
      ]
     },
     "execution_count": 161,
     "metadata": {},
     "output_type": "execute_result"
    }
   ],
   "source": [
    "a = (1,)\n",
    "type(a)"
   ]
  },
  {
   "cell_type": "code",
   "execution_count": 162,
   "metadata": {},
   "outputs": [
    {
     "data": {
      "text/plain": [
       "{'first_name': 'John',\n",
       " 'last_name': 'Wick',\n",
       " 'age': 25,\n",
       " 'city': 'Pune',\n",
       " 'isStudent': False,\n",
       " 'skills': ['C', 'C++', 'python', 'Java'],\n",
       " 'Address': {'street': 'ABC Street', 'pincode': 411014},\n",
       " 'job title': 'Student'}"
      ]
     },
     "execution_count": 162,
     "metadata": {},
     "output_type": "execute_result"
    }
   ],
   "source": [
    "\n",
    "person = {'first_name': 'John',\n",
    "          'last_name': 'Wick',\n",
    "          'age': 25,\n",
    "          'city':'Pune',\n",
    "          'isStudent':False,\n",
    "          'skills': ['C','C++','python','Java'],\n",
    "          'Address':{'street': 'ABC Street','pincode':411014}\n",
    "          }\n",
    "person['job title'] = 'Student'\n",
    "person\n",
    "\n",
    "person1 = person.copy()\n",
    "person1"
   ]
  },
  {
   "cell_type": "code",
   "execution_count": 163,
   "metadata": {},
   "outputs": [
    {
     "data": {
      "text/plain": [
       "{'first_name': 'Peter',\n",
       " 'last_name': 'Wick',\n",
       " 'age': 25,\n",
       " 'city': 'Pune',\n",
       " 'isStudent': False,\n",
       " 'skills': ['C', 'C++', 'python', 'Java'],\n",
       " 'Address': {'street': 'ABC Street', 'pincode': 411014},\n",
       " 'job title': 'Student'}"
      ]
     },
     "execution_count": 163,
     "metadata": {},
     "output_type": "execute_result"
    }
   ],
   "source": [
    "import copy\n",
    "\n",
    "person2 = copy.deepcopy(person)\n",
    "\n",
    "person2['first_name'] = 'Peter'\n",
    "\n",
    "person2"
   ]
  },
  {
   "cell_type": "code",
   "execution_count": 164,
   "metadata": {},
   "outputs": [
    {
     "data": {
      "text/plain": [
       "{'first_name': 'John',\n",
       " 'last_name': 'Wick',\n",
       " 'age': 25,\n",
       " 'city': 'Pune',\n",
       " 'isStudent': False,\n",
       " 'skills': ['C', 'C++', 'python', 'Java'],\n",
       " 'Address': {'street': 'ABC Street', 'pincode': 411014},\n",
       " 'job title': 'Student'}"
      ]
     },
     "execution_count": 164,
     "metadata": {},
     "output_type": "execute_result"
    }
   ],
   "source": [
    "person"
   ]
  },
  {
   "cell_type": "code",
   "execution_count": 165,
   "metadata": {},
   "outputs": [
    {
     "data": {
      "text/plain": [
       "{'name': None, 'age': None}"
      ]
     },
     "execution_count": 165,
     "metadata": {},
     "output_type": "execute_result"
    }
   ],
   "source": [
    "{}.fromkeys(['name','age'])"
   ]
  },
  {
   "cell_type": "code",
   "execution_count": 166,
   "metadata": {},
   "outputs": [
    {
     "data": {
      "text/plain": [
       "True"
      ]
     },
     "execution_count": 166,
     "metadata": {},
     "output_type": "execute_result"
    }
   ],
   "source": [
    "'age' in person"
   ]
  },
  {
   "cell_type": "code",
   "execution_count": 167,
   "metadata": {},
   "outputs": [
    {
     "name": "stdout",
     "output_type": "stream",
     "text": [
      "25\n"
     ]
    }
   ],
   "source": [
    "if 'age' in person:\n",
    "    print(person['age'])"
   ]
  },
  {
   "cell_type": "code",
   "execution_count": 168,
   "metadata": {},
   "outputs": [
    {
     "data": {
      "text/plain": [
       "{'first_name': 'John',\n",
       " 'age': 25,\n",
       " 'city': 'Pune',\n",
       " 'isStudent': False,\n",
       " 'skills': ['C', 'C++', 'python', 'Java'],\n",
       " 'Address': {'street': 'ABC Street', 'pincode': 411014},\n",
       " 'job title': 'Student'}"
      ]
     },
     "metadata": {},
     "output_type": "display_data"
    }
   ],
   "source": [
    "person.pop('last_name')\n",
    "display(person)"
   ]
  },
  {
   "cell_type": "code",
   "execution_count": 169,
   "metadata": {},
   "outputs": [
    {
     "data": {
      "text/plain": [
       "{'first_name': 'John',\n",
       " 'city': 'Pune',\n",
       " 'isStudent': False,\n",
       " 'skills': ['C', 'C++', 'python', 'Java'],\n",
       " 'Address': {'street': 'ABC Street', 'pincode': 411014},\n",
       " 'job title': 'Student'}"
      ]
     },
     "execution_count": 169,
     "metadata": {},
     "output_type": "execute_result"
    }
   ],
   "source": [
    "del person['age']\n",
    "person\n"
   ]
  },
  {
   "cell_type": "code",
   "execution_count": 170,
   "metadata": {},
   "outputs": [
    {
     "data": {
      "text/plain": [
       "dict_items([('first_name', 'John'), ('city', 'Pune'), ('isStudent', False), ('skills', ['C', 'C++', 'python', 'Java']), ('Address', {'street': 'ABC Street', 'pincode': 411014}), ('job title', 'Student')])"
      ]
     },
     "execution_count": 170,
     "metadata": {},
     "output_type": "execute_result"
    }
   ],
   "source": [
    "person.items()"
   ]
  },
  {
   "cell_type": "code",
   "execution_count": 171,
   "metadata": {},
   "outputs": [
    {
     "data": {
      "text/plain": [
       "dict_values(['John', 'Pune', False, ['C', 'C++', 'python', 'Java'], {'street': 'ABC Street', 'pincode': 411014}, 'Student'])"
      ]
     },
     "execution_count": 171,
     "metadata": {},
     "output_type": "execute_result"
    }
   ],
   "source": [
    "person.values()"
   ]
  },
  {
   "cell_type": "code",
   "execution_count": 172,
   "metadata": {},
   "outputs": [
    {
     "data": {
      "text/plain": [
       "{}"
      ]
     },
     "execution_count": 172,
     "metadata": {},
     "output_type": "execute_result"
    }
   ],
   "source": [
    "person2.clear()\n",
    "person2"
   ]
  },
  {
   "cell_type": "code",
   "execution_count": 173,
   "metadata": {},
   "outputs": [
    {
     "data": {
      "text/plain": [
       "{0: 0, 1: 1, 2: 4, 3: 9, 4: 16}"
      ]
     },
     "metadata": {},
     "output_type": "display_data"
    }
   ],
   "source": [
    "squares = {x: x**2 for x in range(5)}\n",
    "display(squares)"
   ]
  },
  {
   "cell_type": "code",
   "execution_count": 178,
   "metadata": {},
   "outputs": [
    {
     "data": {
      "text/plain": [
       "{'a': 1, 'b': 3, 'd': 4}"
      ]
     },
     "metadata": {},
     "output_type": "display_data"
    },
    {
     "data": {
      "text/plain": [
       "{'b': 3, 'd': 4}"
      ]
     },
     "metadata": {},
     "output_type": "display_data"
    }
   ],
   "source": [
    "p1={'a': 1, 'b': 2}\n",
    "p2={'b': 3, 'd': 4}\n",
    "\n",
    "p1_2=p1 | p2\n",
    "display(p1_2)\n",
    "\n",
    "p2_1=p2 | p2\n",
    "display(p2_1)\n"
   ]
  },
  {
   "cell_type": "code",
   "execution_count": 179,
   "metadata": {},
   "outputs": [
    {
     "data": {
      "text/plain": [
       "dict_keys(['first_name', 'city', 'isStudent', 'skills', 'Address', 'job title'])"
      ]
     },
     "execution_count": 179,
     "metadata": {},
     "output_type": "execute_result"
    }
   ],
   "source": [
    "pk = person.keys()\n",
    "pk"
   ]
  },
  {
   "cell_type": "code",
   "execution_count": 183,
   "metadata": {},
   "outputs": [
    {
     "data": {
      "text/plain": [
       "dict_keys(['a', 'b'])"
      ]
     },
     "metadata": {},
     "output_type": "display_data"
    },
    {
     "data": {
      "text/plain": [
       "dict_keys(['a', 'b', 'c'])"
      ]
     },
     "metadata": {},
     "output_type": "display_data"
    }
   ],
   "source": [
    "pk=p1.keys()\n",
    "display(pk)\n",
    "p1['c']=3\n",
    "display(pk)"
   ]
  },
  {
   "cell_type": "code",
   "execution_count": 184,
   "metadata": {},
   "outputs": [
    {
     "data": {
      "text/plain": [
       "{'first_name': 'John',\n",
       " 'city': 'Pune',\n",
       " 'isStudent': False,\n",
       " 'skills': ['C', 'C++', 'python', 'Java'],\n",
       " 'Address': {'street': 'ABC Street', 'pincode': 411014},\n",
       " 'job title': 'Student'}"
      ]
     },
     "execution_count": 184,
     "metadata": {},
     "output_type": "execute_result"
    }
   ],
   "source": [
    "person"
   ]
  },
  {
   "cell_type": "code",
   "execution_count": 196,
   "metadata": {},
   "outputs": [
    {
     "data": {
      "text/plain": [
       "{'first_name': 'John',\n",
       " 'city': 'Pune',\n",
       " 'isStudent': False,\n",
       " 'skills': ['C', 'C++', 'python', 'Java'],\n",
       " 'Address': {'street': 'ABC Street', 'pincode': 411014},\n",
       " 'job title': 'Student'}"
      ]
     },
     "metadata": {},
     "output_type": "display_data"
    }
   ],
   "source": [
    "person.setdefault('city', 'NewZealand')\n",
    "display(person)"
   ]
  },
  {
   "cell_type": "markdown",
   "metadata": {},
   "source": [
    "Default Dict From Collection"
   ]
  },
  {
   "cell_type": "code",
   "execution_count": 197,
   "metadata": {},
   "outputs": [
    {
     "data": {
      "text/plain": [
       "defaultdict(list, {})"
      ]
     },
     "metadata": {},
     "output_type": "display_data"
    }
   ],
   "source": [
    "from collections import defaultdict\n",
    "\n",
    "dd = defaultdict(list)\n",
    "\n",
    "display(dd)"
   ]
  },
  {
   "cell_type": "code",
   "execution_count": 208,
   "metadata": {},
   "outputs": [
    {
     "data": {
      "text/plain": [
       "defaultdict(list, {'fruits': 'banana'})"
      ]
     },
     "metadata": {},
     "output_type": "display_data"
    }
   ],
   "source": [
    "dd['fruits'] = 'apple'\n",
    "dd['fruits'] = 'banana'\n",
    "display(dd) "
   ]
  },
  {
   "cell_type": "code",
   "execution_count": 209,
   "metadata": {},
   "outputs": [
    {
     "data": {
      "text/plain": [
       "Counter({1: 3, 2: 3, 3: 1, 4: 1, 5: 1})"
      ]
     },
     "execution_count": 209,
     "metadata": {},
     "output_type": "execute_result"
    }
   ],
   "source": [
    "from collections import Counter\n",
    "\n",
    "num = [1,2,3,1,2,4,1,2,5]\n",
    "\n",
    "Counter(num)"
   ]
  },
  {
   "cell_type": "markdown",
   "metadata": {},
   "source": [
    "Ordered Dictionaries"
   ]
  },
  {
   "cell_type": "code",
   "execution_count": 213,
   "metadata": {},
   "outputs": [
    {
     "name": "stdout",
     "output_type": "stream",
     "text": [
      "OrderedDict([('z', 1), ('a', 2), ('b', 3)])\n"
     ]
    }
   ],
   "source": [
    "from collections import OrderedDict\n",
    "\n",
    "od = OrderedDict()\n",
    "od['z'] = 1\n",
    "od['a'] = 2\n",
    "od['b'] = 3\n",
    "print(od)"
   ]
  },
  {
   "cell_type": "code",
   "execution_count": 222,
   "metadata": {},
   "outputs": [
    {
     "data": {
      "text/plain": [
       "{frozenset({'a', 'b'}): 'Value', 'a': 1, 'b': 2}"
      ]
     },
     "metadata": {},
     "output_type": "display_data"
    }
   ],
   "source": [
    "fs = frozenset(['a','b'])\n",
    "my_dict = {fs:'Value'}\n",
    "my_dict['a'] = 1\n",
    "my_dict['b'] = 2\n",
    "display(my_dict)"
   ]
  },
  {
   "cell_type": "code",
   "execution_count": 223,
   "metadata": {},
   "outputs": [
    {
     "data": {
      "text/plain": [
       "{frozenset({'a', 'b'}): 'Value', 'a': 1, 'b': 2, 'c': 3}"
      ]
     },
     "metadata": {},
     "output_type": "display_data"
    }
   ],
   "source": [
    "my_dict['c'] = 3\n",
    "display(my_dict)"
   ]
  }
 ],
 "metadata": {
  "kernelspec": {
   "display_name": "Sep2024",
   "language": "python",
   "name": "python3"
  },
  "language_info": {
   "codemirror_mode": {
    "name": "ipython",
    "version": 3
   },
   "file_extension": ".py",
   "mimetype": "text/x-python",
   "name": "python",
   "nbconvert_exporter": "python",
   "pygments_lexer": "ipython3",
   "version": "3.10.7"
  }
 },
 "nbformat": 4,
 "nbformat_minor": 2
}
