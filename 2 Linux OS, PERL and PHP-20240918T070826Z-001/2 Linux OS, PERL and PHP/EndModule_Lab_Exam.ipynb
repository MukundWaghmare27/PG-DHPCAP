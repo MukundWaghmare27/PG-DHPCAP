{
 "cells": [
  {
   "cell_type": "markdown",
   "metadata": {},
   "source": [
    "## 1. write a program that accepts a list of integers and returns a lists where each integer is replace by the square of the integer"
   ]
  },
  {
   "cell_type": "code",
   "execution_count": 18,
   "metadata": {},
   "outputs": [
    {
     "name": "stdout",
     "output_type": "stream",
     "text": [
      "Integer List:  [2, 4, 1, 3, 5]\n",
      "Squared integers: [4, 16, 1, 9, 25]\n"
     ]
    }
   ],
   "source": [
    "def square_integers(int_list):\n",
    "    \n",
    "    squared_list = []\n",
    "    \n",
    "    for num in int_list:\n",
    "        squared_list.append(num ** 2)\n",
    "    \n",
    "    return squared_list\n",
    "\n",
    "    \n",
    "numbers = input(\"Enter a list of integers separated by spaces: \")\n",
    "    \n",
    "int_list = list(map(int, numbers.split()))\n",
    "    \n",
    "result = square_integers(int_list)\n",
    "\n",
    "print(\"Integer List: \", int_list)    \n",
    "print(\"Squared integers:\", result)"
   ]
  },
  {
   "cell_type": "markdown",
   "metadata": {},
   "source": [
    "## 2. write a python program that keeps asking the user to input a number until they input a negative number. Then print whether the entered negative number is even or odd"
   ]
  },
  {
   "cell_type": "code",
   "execution_count": 11,
   "metadata": {},
   "outputs": [
    {
     "name": "stdout",
     "output_type": "stream",
     "text": [
      "The negative number -2 is even.\n"
     ]
    }
   ],
   "source": [
    "def EvenOdd():\n",
    "    while True:\n",
    "        number = int(input(\"Please enter a number (negative to stop): \"))\n",
    "        \n",
    "        if number < 0:\n",
    "            if number % 2 == 0:\n",
    "                print(f\"The negative number {number} is even.\")\n",
    "            else:\n",
    "                print(f\"The negative number {number} is odd.\")\n",
    "\n",
    "            break\n",
    "\n",
    "EvenOdd()"
   ]
  },
  {
   "cell_type": "markdown",
   "metadata": {},
   "source": [
    "## 3. Create a class 'Circle' with a method to calculate and return the area of the circle. The radius should be provided when the object is created"
   ]
  },
  {
   "cell_type": "code",
   "execution_count": 16,
   "metadata": {},
   "outputs": [
    {
     "name": "stdout",
     "output_type": "stream",
     "text": [
      "Area of circle is :  78.5\n"
     ]
    },
    {
     "data": {
      "text/plain": [
       "<__main__.circle at 0x7f97b040dd00>"
      ]
     },
     "execution_count": 16,
     "metadata": {},
     "output_type": "execute_result"
    }
   ],
   "source": [
    "class circle:\n",
    "    def __init__(self, radius):\n",
    "        self.radius = radius\n",
    "        self.pi = 3.14\n",
    "        self.area = self.pi * (self.radius ** 2)\n",
    "        print(\"Area of circle is : \", self.area)\n",
    "\n",
    "radius = int(input(\"Enter the radius of the circle: \"))\n",
    "circle(radius)\n"
   ]
  },
  {
   "cell_type": "markdown",
   "metadata": {},
   "source": [
    "## 4. Create a NumPy array containing values 0 to 100. write a function that multiplies the array by 2 and prints the result\n",
    "\n"
   ]
  },
  {
   "cell_type": "code",
   "execution_count": 17,
   "metadata": {},
   "outputs": [
    {
     "name": "stdout",
     "output_type": "stream",
     "text": [
      "[  0   2   4   6   8  10  12  14  16  18  20  22  24  26  28  30  32  34\n",
      "  36  38  40  42  44  46  48  50  52  54  56  58  60  62  64  66  68  70\n",
      "  72  74  76  78  80  82  84  86  88  90  92  94  96  98 100 102 104 106\n",
      " 108 110 112 114 116 118 120 122 124 126 128 130 132 134 136 138 140 142\n",
      " 144 146 148 150 152 154 156 158 160 162 164 166 168 170 172 174 176 178\n",
      " 180 182 184 186 188 190 192 194 196 198 200]\n"
     ]
    }
   ],
   "source": [
    "\n",
    "import  numpy as np\n",
    "\n",
    "arr = np.arange(0, 101)\n",
    "\n",
    "def multiply_by_two(arr):\n",
    "    return arr * 2\n",
    "\n",
    "print(multiply_by_two(arr))"
   ]
  },
  {
   "cell_type": "code",
   "execution_count": null,
   "metadata": {},
   "outputs": [],
   "source": []
  }
 ],
 "metadata": {
  "kernelspec": {
   "display_name": "Python 3",
   "language": "python",
   "name": "python3"
  },
  "language_info": {
   "codemirror_mode": {
    "name": "ipython",
    "version": 3
   },
   "file_extension": ".py",
   "mimetype": "text/x-python",
   "name": "python",
   "nbconvert_exporter": "python",
   "pygments_lexer": "ipython3",
   "version": "3.8.10"
  }
 },
 "nbformat": 4,
 "nbformat_minor": 2
}
